{
  "nbformat": 4,
  "nbformat_minor": 0,
  "metadata": {
    "colab": {
      "provenance": [],
      "toc_visible": true,
      "authorship_tag": "ABX9TyMIw6MuDC1lZlNGzBTZnE+s",
      "include_colab_link": true
    },
    "kernelspec": {
      "name": "python3",
      "display_name": "Python 3"
    },
    "language_info": {
      "name": "python"
    }
  },
  "cells": [
    {
      "cell_type": "markdown",
      "metadata": {
        "id": "view-in-github",
        "colab_type": "text"
      },
      "source": [
        "<a href=\"https://colab.research.google.com/github/rodrigorissettoterra/Machine-Learning/blob/main/Machine_Learning_Classifica%C3%A7%C3%A3o_Porco_ou_Cachorro.ipynb\" target=\"_parent\"><img src=\"https://colab.research.google.com/assets/colab-badge.svg\" alt=\"Open In Colab\"/></a>"
      ]
    },
    {
      "cell_type": "markdown",
      "source": [
        "#Classificação: Porco ou Cachorro?"
      ],
      "metadata": {
        "id": "ZLikyu60lWiI"
      }
    },
    {
      "cell_type": "markdown",
      "source": [
        "Features:\n",
        "- Pêlo longo? \n",
        "- Perna curta? \n",
        "- Faz auau?\n",
        "\n",
        "Sendo 1 = sim e 0 = não"
      ],
      "metadata": {
        "id": "kU_j0uMLleOo"
      }
    },
    {
      "cell_type": "markdown",
      "source": [
        "##Criando os dados"
      ],
      "metadata": {
        "id": "Je8II6tlmH9Q"
      }
    },
    {
      "cell_type": "code",
      "execution_count": null,
      "metadata": {
        "id": "xdJcBIthG0zr"
      },
      "outputs": [],
      "source": [
        "porco1 = [0,1,0]\n",
        "porco2 = [0,1,1]\n",
        "porco3 = [1,1,0]\n",
        "\n",
        "cachorro1 = [0,1,1]\n",
        "cachorro2 = [1,0,1]\n",
        "cachorro3 = [1,1,1]\n",
        "\n",
        "treino_x = [porco1, porco2, porco3, cachorro1, cachorro2, cachorro3]\n",
        "treino_y = [1,1,1,0,0,0]"
      ]
    },
    {
      "cell_type": "markdown",
      "source": [
        "Para classes → 1 = porco e 0 = cachorro"
      ],
      "metadata": {
        "id": "2x8hXZ_Gnk6M"
      }
    },
    {
      "cell_type": "markdown",
      "source": [
        "##Importando as bibliotecas necessárias"
      ],
      "metadata": {
        "id": "xG75Xjx7mNkV"
      }
    },
    {
      "cell_type": "code",
      "source": [
        "from sklearn.svm import LinearSVC\n",
        "from sklearn.metrics import accuracy_score"
      ],
      "metadata": {
        "id": "y9M20061mG_R"
      },
      "execution_count": null,
      "outputs": []
    },
    {
      "cell_type": "markdown",
      "source": [
        "##Criando um modelo com os dados"
      ],
      "metadata": {
        "id": "5CLTkcyNmUOQ"
      }
    },
    {
      "cell_type": "code",
      "source": [
        "model = LinearSVC()\n",
        "model.fit(treino_x , treino_y)"
      ],
      "metadata": {
        "colab": {
          "base_uri": "https://localhost:8080/"
        },
        "id": "gg6KnaSbmTnR",
        "outputId": "f02c1b0e-733b-4566-95d8-6edf5fd743aa"
      },
      "execution_count": null,
      "outputs": [
        {
          "output_type": "execute_result",
          "data": {
            "text/plain": [
              "LinearSVC()"
            ]
          },
          "metadata": {},
          "execution_count": 3
        }
      ]
    },
    {
      "cell_type": "markdown",
      "source": [
        "###Testando o modelo"
      ],
      "metadata": {
        "id": "uc4AqTbSnRwF"
      }
    },
    {
      "cell_type": "code",
      "source": [
        "animal_misterioso = [1,1,1]\n",
        "model.predict([animal_misterioso])"
      ],
      "metadata": {
        "colab": {
          "base_uri": "https://localhost:8080/"
        },
        "id": "B4E27e_lmhXy",
        "outputId": "1e45187a-e170-462a-fec4-16799d839eb9"
      },
      "execution_count": null,
      "outputs": [
        {
          "output_type": "execute_result",
          "data": {
            "text/plain": [
              "array([0])"
            ]
          },
          "metadata": {},
          "execution_count": 4
        }
      ]
    },
    {
      "cell_type": "markdown",
      "source": [
        "O modelo prevê que o animal_misterioso é um cachorro."
      ],
      "metadata": {
        "id": "dLSnh6DBnpcK"
      }
    },
    {
      "cell_type": "code",
      "source": [
        "misterio1 = [1,1,1]\n",
        "misterio2 = [1,1,0]\n",
        "misterio3 = [0,1,1]\n",
        "\n",
        "teste_x = [misterio1, misterio2, misterio3]\n",
        "previsoes = model.predict(teste_x)\n",
        "print(previsoes)"
      ],
      "metadata": {
        "colab": {
          "base_uri": "https://localhost:8080/"
        },
        "id": "YwVl36V1naOI",
        "outputId": "1776c776-3bd2-42e9-fa0e-d086e1130449"
      },
      "execution_count": null,
      "outputs": [
        {
          "output_type": "stream",
          "name": "stdout",
          "text": [
            "[0 1 0]\n"
          ]
        }
      ]
    },
    {
      "cell_type": "markdown",
      "source": [
        "O modelo prevê:</br>\n",
        "- misterioso 1 = 0 → porco,</br>\n",
        "- misterioso 2 = 1 → cachorro,</br>\n",
        "- misterioso 3 = 0 → porco.</br>"
      ],
      "metadata": {
        "id": "4-yDsFQ0oDxH"
      }
    },
    {
      "cell_type": "markdown",
      "source": [
        "Supondo que a resposta correta deveria ter sido [0, 1, 1]"
      ],
      "metadata": {
        "id": "j5uMScJYovBM"
      }
    },
    {
      "cell_type": "code",
      "source": [
        "teste_y = [0,1,1]\n",
        "corretos = (previsoes == teste_y).sum()\n",
        "total = len(teste_x)\n",
        "taxa_de_acerto = corretos/total\n",
        "print('Taxa de acerto: ', round(taxa_de_acerto*100,3),'%')"
      ],
      "metadata": {
        "colab": {
          "base_uri": "https://localhost:8080/"
        },
        "id": "TWjnufJ4oA-B",
        "outputId": "51b1ee3d-b4a5-461a-8164-57c6f447e0b3"
      },
      "execution_count": null,
      "outputs": [
        {
          "output_type": "stream",
          "name": "stdout",
          "text": [
            "Taxa de acerto:  66.667 %\n"
          ]
        }
      ]
    },
    {
      "cell_type": "markdown",
      "source": [
        "Temos 2 resultados verdadeiros"
      ],
      "metadata": {
        "id": "Roq79q-ZpTNj"
      }
    },
    {
      "cell_type": "code",
      "source": [
        "taxa_de_acerto = accuracy_score(teste_y, previsoes)\n",
        "print('Taxa de acerto: ', round(taxa_de_acerto*100,3),'%')"
      ],
      "metadata": {
        "colab": {
          "base_uri": "https://localhost:8080/"
        },
        "id": "v9GeazJPo-Yw",
        "outputId": "392f5e76-55d2-42ca-c1b6-98020d7a17cd"
      },
      "execution_count": null,
      "outputs": [
        {
          "output_type": "stream",
          "name": "stdout",
          "text": [
            "Taxa de acerto:  66.667 %\n"
          ]
        }
      ]
    }
  ]
}