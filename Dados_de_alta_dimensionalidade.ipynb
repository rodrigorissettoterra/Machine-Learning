{
  "nbformat": 4,
  "nbformat_minor": 0,
  "metadata": {
    "colab": {
      "provenance": [],
      "toc_visible": true,
      "authorship_tag": "ABX9TyP29keM1vx62eUvuIVvf13m",
      "include_colab_link": true
    },
    "kernelspec": {
      "name": "python3",
      "display_name": "Python 3"
    },
    "language_info": {
      "name": "python"
    }
  },
  "cells": [
    {
      "cell_type": "markdown",
      "metadata": {
        "id": "view-in-github",
        "colab_type": "text"
      },
      "source": [
        "<a href=\"https://colab.research.google.com/github/rodrigorissettoterra/Machine-Learning/blob/main/Dados_de_alta_dimensionalidade.ipynb\" target=\"_parent\"><img src=\"https://colab.research.google.com/assets/colab-badge.svg\" alt=\"Open In Colab\"/></a>"
      ]
    },
    {
      "cell_type": "markdown",
      "source": [
        "Link de referência: https://raw.githubusercontent.com/alura-cursos/reducao-dimensionalidade/master/data-set/exames.csv\n",
        "\n",
        "Esta base de dados é baseada na \"*Breast Cancer Wisconsin (Diagnostic) Data Set*\", da UCI (EUA), e pode ser encontrada em: https://archive.ics.uci.edu/ml/datasets/Breast+Cancer+Wisconsin+(Diagnostic)"
      ],
      "metadata": {
        "id": "BD5Mzk8AmVzk"
      }
    },
    {
      "cell_type": "markdown",
      "source": [
        "***Objetivo:*** É possível reduzir o número de exames realizados pelos pacientes, e mesmo assim conseguir um diagnóstico mais efetivo?"
      ],
      "metadata": {
        "id": "P7JVx_8enPdo"
      }
    },
    {
      "cell_type": "markdown",
      "source": [
        "#1 - Preparando o ambiente"
      ],
      "metadata": {
        "id": "GpuXZe_SsCIE"
      }
    },
    {
      "cell_type": "markdown",
      "source": [
        "##Importando as bibliotecas necessárias"
      ],
      "metadata": {
        "id": "RSnxeidLm86W"
      }
    },
    {
      "cell_type": "code",
      "execution_count": 1,
      "metadata": {
        "id": "p4A8yJAdmSb1"
      },
      "outputs": [],
      "source": [
        "import pandas as pd"
      ]
    },
    {
      "cell_type": "markdown",
      "source": [
        "##Importando a base de dados"
      ],
      "metadata": {
        "id": "gMYNAlmlsFYy"
      }
    },
    {
      "cell_type": "code",
      "source": [
        "resultados_exames = pd.read_csv('https://raw.githubusercontent.com/alura-cursos/reducao-dimensionalidade/master/data-set/exames.csv')"
      ],
      "metadata": {
        "id": "15Qb_NnpnAVT"
      },
      "execution_count": 2,
      "outputs": []
    },
    {
      "cell_type": "markdown",
      "source": [
        "##Visualizando a base de dados (5 primeiras linhas)"
      ],
      "metadata": {
        "id": "L4V1tfjFo1wV"
      }
    },
    {
      "cell_type": "code",
      "source": [
        "resultados_exames.head()"
      ],
      "metadata": {
        "colab": {
          "base_uri": "https://localhost:8080/",
          "height": 300
        },
        "id": "pgMyYAMWoyTU",
        "outputId": "cc9fcda6-4dbd-4296-d7c8-1bc6cf25c5bd"
      },
      "execution_count": 3,
      "outputs": [
        {
          "output_type": "execute_result",
          "data": {
            "text/plain": [
              "         id diagnostico  exame_1  exame_2  exame_3  exame_4  exame_5  exame_6  \\\n",
              "0    842302           M    17.99    10.38   122.80   103.78   1001.0  0.11840   \n",
              "1    842517           M    20.57    17.77   132.90   103.78   1326.0  0.08474   \n",
              "2  84300903           M    19.69    21.25   130.00   103.78   1203.0  0.10960   \n",
              "3  84348301           M    11.42    20.38    77.58   103.78    386.1  0.14250   \n",
              "4  84358402           M    20.29    14.34   135.10   103.78   1297.0  0.10030   \n",
              "\n",
              "   exame_7  exame_8  ...  exame_24  exame_25  exame_26  exame_27  exame_28  \\\n",
              "0  0.27760   0.3001  ...    184.60    2019.0    0.1622    0.6656    0.7119   \n",
              "1  0.07864   0.0869  ...    158.80    1956.0    0.1238    0.1866    0.2416   \n",
              "2  0.15990   0.1974  ...    152.50    1709.0    0.1444    0.4245    0.4504   \n",
              "3  0.28390   0.2414  ...     98.87     567.7    0.2098    0.8663    0.6869   \n",
              "4  0.13280   0.1980  ...    152.20    1575.0    0.1374    0.2050    0.4000   \n",
              "\n",
              "   exame_29  exame_30  exame_31  exame_32  exame_33  \n",
              "0     0.786    0.2654    0.4601   0.11890       NaN  \n",
              "1     0.786    0.1860    0.2750   0.08902       NaN  \n",
              "2     0.786    0.2430    0.3613   0.08758       NaN  \n",
              "3     0.786    0.2575    0.6638   0.17300       NaN  \n",
              "4     0.786    0.1625    0.2364   0.07678  0.854454  \n",
              "\n",
              "[5 rows x 35 columns]"
            ],
            "text/html": [
              "\n",
              "  <div id=\"df-7f2ef411-ddde-4567-809f-6e4b225f87e6\">\n",
              "    <div class=\"colab-df-container\">\n",
              "      <div>\n",
              "<style scoped>\n",
              "    .dataframe tbody tr th:only-of-type {\n",
              "        vertical-align: middle;\n",
              "    }\n",
              "\n",
              "    .dataframe tbody tr th {\n",
              "        vertical-align: top;\n",
              "    }\n",
              "\n",
              "    .dataframe thead th {\n",
              "        text-align: right;\n",
              "    }\n",
              "</style>\n",
              "<table border=\"1\" class=\"dataframe\">\n",
              "  <thead>\n",
              "    <tr style=\"text-align: right;\">\n",
              "      <th></th>\n",
              "      <th>id</th>\n",
              "      <th>diagnostico</th>\n",
              "      <th>exame_1</th>\n",
              "      <th>exame_2</th>\n",
              "      <th>exame_3</th>\n",
              "      <th>exame_4</th>\n",
              "      <th>exame_5</th>\n",
              "      <th>exame_6</th>\n",
              "      <th>exame_7</th>\n",
              "      <th>exame_8</th>\n",
              "      <th>...</th>\n",
              "      <th>exame_24</th>\n",
              "      <th>exame_25</th>\n",
              "      <th>exame_26</th>\n",
              "      <th>exame_27</th>\n",
              "      <th>exame_28</th>\n",
              "      <th>exame_29</th>\n",
              "      <th>exame_30</th>\n",
              "      <th>exame_31</th>\n",
              "      <th>exame_32</th>\n",
              "      <th>exame_33</th>\n",
              "    </tr>\n",
              "  </thead>\n",
              "  <tbody>\n",
              "    <tr>\n",
              "      <th>0</th>\n",
              "      <td>842302</td>\n",
              "      <td>M</td>\n",
              "      <td>17.99</td>\n",
              "      <td>10.38</td>\n",
              "      <td>122.80</td>\n",
              "      <td>103.78</td>\n",
              "      <td>1001.0</td>\n",
              "      <td>0.11840</td>\n",
              "      <td>0.27760</td>\n",
              "      <td>0.3001</td>\n",
              "      <td>...</td>\n",
              "      <td>184.60</td>\n",
              "      <td>2019.0</td>\n",
              "      <td>0.1622</td>\n",
              "      <td>0.6656</td>\n",
              "      <td>0.7119</td>\n",
              "      <td>0.786</td>\n",
              "      <td>0.2654</td>\n",
              "      <td>0.4601</td>\n",
              "      <td>0.11890</td>\n",
              "      <td>NaN</td>\n",
              "    </tr>\n",
              "    <tr>\n",
              "      <th>1</th>\n",
              "      <td>842517</td>\n",
              "      <td>M</td>\n",
              "      <td>20.57</td>\n",
              "      <td>17.77</td>\n",
              "      <td>132.90</td>\n",
              "      <td>103.78</td>\n",
              "      <td>1326.0</td>\n",
              "      <td>0.08474</td>\n",
              "      <td>0.07864</td>\n",
              "      <td>0.0869</td>\n",
              "      <td>...</td>\n",
              "      <td>158.80</td>\n",
              "      <td>1956.0</td>\n",
              "      <td>0.1238</td>\n",
              "      <td>0.1866</td>\n",
              "      <td>0.2416</td>\n",
              "      <td>0.786</td>\n",
              "      <td>0.1860</td>\n",
              "      <td>0.2750</td>\n",
              "      <td>0.08902</td>\n",
              "      <td>NaN</td>\n",
              "    </tr>\n",
              "    <tr>\n",
              "      <th>2</th>\n",
              "      <td>84300903</td>\n",
              "      <td>M</td>\n",
              "      <td>19.69</td>\n",
              "      <td>21.25</td>\n",
              "      <td>130.00</td>\n",
              "      <td>103.78</td>\n",
              "      <td>1203.0</td>\n",
              "      <td>0.10960</td>\n",
              "      <td>0.15990</td>\n",
              "      <td>0.1974</td>\n",
              "      <td>...</td>\n",
              "      <td>152.50</td>\n",
              "      <td>1709.0</td>\n",
              "      <td>0.1444</td>\n",
              "      <td>0.4245</td>\n",
              "      <td>0.4504</td>\n",
              "      <td>0.786</td>\n",
              "      <td>0.2430</td>\n",
              "      <td>0.3613</td>\n",
              "      <td>0.08758</td>\n",
              "      <td>NaN</td>\n",
              "    </tr>\n",
              "    <tr>\n",
              "      <th>3</th>\n",
              "      <td>84348301</td>\n",
              "      <td>M</td>\n",
              "      <td>11.42</td>\n",
              "      <td>20.38</td>\n",
              "      <td>77.58</td>\n",
              "      <td>103.78</td>\n",
              "      <td>386.1</td>\n",
              "      <td>0.14250</td>\n",
              "      <td>0.28390</td>\n",
              "      <td>0.2414</td>\n",
              "      <td>...</td>\n",
              "      <td>98.87</td>\n",
              "      <td>567.7</td>\n",
              "      <td>0.2098</td>\n",
              "      <td>0.8663</td>\n",
              "      <td>0.6869</td>\n",
              "      <td>0.786</td>\n",
              "      <td>0.2575</td>\n",
              "      <td>0.6638</td>\n",
              "      <td>0.17300</td>\n",
              "      <td>NaN</td>\n",
              "    </tr>\n",
              "    <tr>\n",
              "      <th>4</th>\n",
              "      <td>84358402</td>\n",
              "      <td>M</td>\n",
              "      <td>20.29</td>\n",
              "      <td>14.34</td>\n",
              "      <td>135.10</td>\n",
              "      <td>103.78</td>\n",
              "      <td>1297.0</td>\n",
              "      <td>0.10030</td>\n",
              "      <td>0.13280</td>\n",
              "      <td>0.1980</td>\n",
              "      <td>...</td>\n",
              "      <td>152.20</td>\n",
              "      <td>1575.0</td>\n",
              "      <td>0.1374</td>\n",
              "      <td>0.2050</td>\n",
              "      <td>0.4000</td>\n",
              "      <td>0.786</td>\n",
              "      <td>0.1625</td>\n",
              "      <td>0.2364</td>\n",
              "      <td>0.07678</td>\n",
              "      <td>0.854454</td>\n",
              "    </tr>\n",
              "  </tbody>\n",
              "</table>\n",
              "<p>5 rows × 35 columns</p>\n",
              "</div>\n",
              "      <button class=\"colab-df-convert\" onclick=\"convertToInteractive('df-7f2ef411-ddde-4567-809f-6e4b225f87e6')\"\n",
              "              title=\"Convert this dataframe to an interactive table.\"\n",
              "              style=\"display:none;\">\n",
              "        \n",
              "  <svg xmlns=\"http://www.w3.org/2000/svg\" height=\"24px\"viewBox=\"0 0 24 24\"\n",
              "       width=\"24px\">\n",
              "    <path d=\"M0 0h24v24H0V0z\" fill=\"none\"/>\n",
              "    <path d=\"M18.56 5.44l.94 2.06.94-2.06 2.06-.94-2.06-.94-.94-2.06-.94 2.06-2.06.94zm-11 1L8.5 8.5l.94-2.06 2.06-.94-2.06-.94L8.5 2.5l-.94 2.06-2.06.94zm10 10l.94 2.06.94-2.06 2.06-.94-2.06-.94-.94-2.06-.94 2.06-2.06.94z\"/><path d=\"M17.41 7.96l-1.37-1.37c-.4-.4-.92-.59-1.43-.59-.52 0-1.04.2-1.43.59L10.3 9.45l-7.72 7.72c-.78.78-.78 2.05 0 2.83L4 21.41c.39.39.9.59 1.41.59.51 0 1.02-.2 1.41-.59l7.78-7.78 2.81-2.81c.8-.78.8-2.07 0-2.86zM5.41 20L4 18.59l7.72-7.72 1.47 1.35L5.41 20z\"/>\n",
              "  </svg>\n",
              "      </button>\n",
              "      \n",
              "  <style>\n",
              "    .colab-df-container {\n",
              "      display:flex;\n",
              "      flex-wrap:wrap;\n",
              "      gap: 12px;\n",
              "    }\n",
              "\n",
              "    .colab-df-convert {\n",
              "      background-color: #E8F0FE;\n",
              "      border: none;\n",
              "      border-radius: 50%;\n",
              "      cursor: pointer;\n",
              "      display: none;\n",
              "      fill: #1967D2;\n",
              "      height: 32px;\n",
              "      padding: 0 0 0 0;\n",
              "      width: 32px;\n",
              "    }\n",
              "\n",
              "    .colab-df-convert:hover {\n",
              "      background-color: #E2EBFA;\n",
              "      box-shadow: 0px 1px 2px rgba(60, 64, 67, 0.3), 0px 1px 3px 1px rgba(60, 64, 67, 0.15);\n",
              "      fill: #174EA6;\n",
              "    }\n",
              "\n",
              "    [theme=dark] .colab-df-convert {\n",
              "      background-color: #3B4455;\n",
              "      fill: #D2E3FC;\n",
              "    }\n",
              "\n",
              "    [theme=dark] .colab-df-convert:hover {\n",
              "      background-color: #434B5C;\n",
              "      box-shadow: 0px 1px 3px 1px rgba(0, 0, 0, 0.15);\n",
              "      filter: drop-shadow(0px 1px 2px rgba(0, 0, 0, 0.3));\n",
              "      fill: #FFFFFF;\n",
              "    }\n",
              "  </style>\n",
              "\n",
              "      <script>\n",
              "        const buttonEl =\n",
              "          document.querySelector('#df-7f2ef411-ddde-4567-809f-6e4b225f87e6 button.colab-df-convert');\n",
              "        buttonEl.style.display =\n",
              "          google.colab.kernel.accessAllowed ? 'block' : 'none';\n",
              "\n",
              "        async function convertToInteractive(key) {\n",
              "          const element = document.querySelector('#df-7f2ef411-ddde-4567-809f-6e4b225f87e6');\n",
              "          const dataTable =\n",
              "            await google.colab.kernel.invokeFunction('convertToInteractive',\n",
              "                                                     [key], {});\n",
              "          if (!dataTable) return;\n",
              "\n",
              "          const docLinkHtml = 'Like what you see? Visit the ' +\n",
              "            '<a target=\"_blank\" href=https://colab.research.google.com/notebooks/data_table.ipynb>data table notebook</a>'\n",
              "            + ' to learn more about interactive tables.';\n",
              "          element.innerHTML = '';\n",
              "          dataTable['output_type'] = 'display_data';\n",
              "          await google.colab.output.renderOutput(dataTable, element);\n",
              "          const docLink = document.createElement('div');\n",
              "          docLink.innerHTML = docLinkHtml;\n",
              "          element.appendChild(docLink);\n",
              "        }\n",
              "      </script>\n",
              "    </div>\n",
              "  </div>\n",
              "  "
            ]
          },
          "metadata": {},
          "execution_count": 3
        }
      ]
    },
    {
      "cell_type": "markdown",
      "source": [
        "##Informações sobre a base de dados"
      ],
      "metadata": {
        "id": "3yWzX1uZpR7V"
      }
    },
    {
      "cell_type": "markdown",
      "source": [
        "###Linhas e colunas"
      ],
      "metadata": {
        "id": "Oi3ImXhUpiLR"
      }
    },
    {
      "cell_type": "code",
      "source": [
        "print('A base de dados possui',resultados_exames.shape[0],'linhas, e', resultados_exames.shape[1],'colunas.')"
      ],
      "metadata": {
        "colab": {
          "base_uri": "https://localhost:8080/"
        },
        "id": "XC9FavDfo6Ky",
        "outputId": "f4e4cabd-0b3c-4e54-87d3-ce6b246b5ea9"
      },
      "execution_count": 4,
      "outputs": [
        {
          "output_type": "stream",
          "name": "stdout",
          "text": [
            "A base de dados possui 569 linhas, e 35 colunas.\n"
          ]
        }
      ]
    },
    {
      "cell_type": "markdown",
      "source": [
        "###Dados nulos"
      ],
      "metadata": {
        "id": "KXpVoiFDtHPV"
      }
    },
    {
      "cell_type": "code",
      "source": [
        "resultados_exames.isnull().sum()"
      ],
      "metadata": {
        "colab": {
          "base_uri": "https://localhost:8080/"
        },
        "id": "7BgFGsVKtcXG",
        "outputId": "29c49254-1146-47ff-8b91-51a30c5aed6e"
      },
      "execution_count": 5,
      "outputs": [
        {
          "output_type": "execute_result",
          "data": {
            "text/plain": [
              "id               0\n",
              "diagnostico      0\n",
              "exame_1          0\n",
              "exame_2          0\n",
              "exame_3          0\n",
              "exame_4          0\n",
              "exame_5          0\n",
              "exame_6          0\n",
              "exame_7          0\n",
              "exame_8          0\n",
              "exame_9          0\n",
              "exame_10         0\n",
              "exame_11         0\n",
              "exame_12         0\n",
              "exame_13         0\n",
              "exame_14         0\n",
              "exame_15         0\n",
              "exame_16         0\n",
              "exame_17         0\n",
              "exame_18         0\n",
              "exame_19         0\n",
              "exame_20         0\n",
              "exame_21         0\n",
              "exame_22         0\n",
              "exame_23         0\n",
              "exame_24         0\n",
              "exame_25         0\n",
              "exame_26         0\n",
              "exame_27         0\n",
              "exame_28         0\n",
              "exame_29         0\n",
              "exame_30         0\n",
              "exame_31         0\n",
              "exame_32         0\n",
              "exame_33       419\n",
              "dtype: int64"
            ]
          },
          "metadata": {},
          "execution_count": 5
        }
      ]
    },
    {
      "cell_type": "code",
      "source": [
        "print('A base de dados possui',resultados_exames.isnull().sum()[34],'dados nulos.')\n",
        "print('Temos',resultados_exames.shape[0],'linhas, ou seja',\n",
        "      round((resultados_exames.isnull().sum()[34]/resultados_exames.shape[0])*100,3),\n",
        "      '% da coluna está comprometida com dados nulos.')"
      ],
      "metadata": {
        "colab": {
          "base_uri": "https://localhost:8080/"
        },
        "id": "vK-qcw5ItJRr",
        "outputId": "6e22feef-9417-44c5-e239-b3c090d36fae"
      },
      "execution_count": 6,
      "outputs": [
        {
          "output_type": "stream",
          "name": "stdout",
          "text": [
            "A base de dados possui 419 dados nulos.\n",
            "Temos 569 linhas, ou seja 73.638 % da coluna está comprometida com dados nulos.\n"
          ]
        }
      ]
    },
    {
      "cell_type": "markdown",
      "source": [
        "###Excluindo a coluna de índice 34"
      ],
      "metadata": {
        "id": "qcS8pB13udU4"
      }
    },
    {
      "cell_type": "code",
      "source": [
        "valores_exames_v1 = resultados_exames.drop(columns = ['id', 'diagnostico', 'exame_33'])\n",
        "valores_exames_v1.head()"
      ],
      "metadata": {
        "colab": {
          "base_uri": "https://localhost:8080/",
          "height": 300
        },
        "id": "TAeOyODBuic-",
        "outputId": "cbf19f03-cb8f-45e3-9c9f-eb93d83fd7ee"
      },
      "execution_count": 7,
      "outputs": [
        {
          "output_type": "execute_result",
          "data": {
            "text/plain": [
              "   exame_1  exame_2  exame_3  exame_4  exame_5  exame_6  exame_7  exame_8  \\\n",
              "0    17.99    10.38   122.80   103.78   1001.0  0.11840  0.27760   0.3001   \n",
              "1    20.57    17.77   132.90   103.78   1326.0  0.08474  0.07864   0.0869   \n",
              "2    19.69    21.25   130.00   103.78   1203.0  0.10960  0.15990   0.1974   \n",
              "3    11.42    20.38    77.58   103.78    386.1  0.14250  0.28390   0.2414   \n",
              "4    20.29    14.34   135.10   103.78   1297.0  0.10030  0.13280   0.1980   \n",
              "\n",
              "   exame_9  exame_10  ...  exame_23  exame_24  exame_25  exame_26  exame_27  \\\n",
              "0  0.14710    0.2419  ...     17.33    184.60    2019.0    0.1622    0.6656   \n",
              "1  0.07017    0.1812  ...     23.41    158.80    1956.0    0.1238    0.1866   \n",
              "2  0.12790    0.2069  ...     25.53    152.50    1709.0    0.1444    0.4245   \n",
              "3  0.10520    0.2597  ...     26.50     98.87     567.7    0.2098    0.8663   \n",
              "4  0.10430    0.1809  ...     16.67    152.20    1575.0    0.1374    0.2050   \n",
              "\n",
              "   exame_28  exame_29  exame_30  exame_31  exame_32  \n",
              "0    0.7119     0.786    0.2654    0.4601   0.11890  \n",
              "1    0.2416     0.786    0.1860    0.2750   0.08902  \n",
              "2    0.4504     0.786    0.2430    0.3613   0.08758  \n",
              "3    0.6869     0.786    0.2575    0.6638   0.17300  \n",
              "4    0.4000     0.786    0.1625    0.2364   0.07678  \n",
              "\n",
              "[5 rows x 32 columns]"
            ],
            "text/html": [
              "\n",
              "  <div id=\"df-da65975b-e0af-4b69-becf-b65e6e0ff236\">\n",
              "    <div class=\"colab-df-container\">\n",
              "      <div>\n",
              "<style scoped>\n",
              "    .dataframe tbody tr th:only-of-type {\n",
              "        vertical-align: middle;\n",
              "    }\n",
              "\n",
              "    .dataframe tbody tr th {\n",
              "        vertical-align: top;\n",
              "    }\n",
              "\n",
              "    .dataframe thead th {\n",
              "        text-align: right;\n",
              "    }\n",
              "</style>\n",
              "<table border=\"1\" class=\"dataframe\">\n",
              "  <thead>\n",
              "    <tr style=\"text-align: right;\">\n",
              "      <th></th>\n",
              "      <th>exame_1</th>\n",
              "      <th>exame_2</th>\n",
              "      <th>exame_3</th>\n",
              "      <th>exame_4</th>\n",
              "      <th>exame_5</th>\n",
              "      <th>exame_6</th>\n",
              "      <th>exame_7</th>\n",
              "      <th>exame_8</th>\n",
              "      <th>exame_9</th>\n",
              "      <th>exame_10</th>\n",
              "      <th>...</th>\n",
              "      <th>exame_23</th>\n",
              "      <th>exame_24</th>\n",
              "      <th>exame_25</th>\n",
              "      <th>exame_26</th>\n",
              "      <th>exame_27</th>\n",
              "      <th>exame_28</th>\n",
              "      <th>exame_29</th>\n",
              "      <th>exame_30</th>\n",
              "      <th>exame_31</th>\n",
              "      <th>exame_32</th>\n",
              "    </tr>\n",
              "  </thead>\n",
              "  <tbody>\n",
              "    <tr>\n",
              "      <th>0</th>\n",
              "      <td>17.99</td>\n",
              "      <td>10.38</td>\n",
              "      <td>122.80</td>\n",
              "      <td>103.78</td>\n",
              "      <td>1001.0</td>\n",
              "      <td>0.11840</td>\n",
              "      <td>0.27760</td>\n",
              "      <td>0.3001</td>\n",
              "      <td>0.14710</td>\n",
              "      <td>0.2419</td>\n",
              "      <td>...</td>\n",
              "      <td>17.33</td>\n",
              "      <td>184.60</td>\n",
              "      <td>2019.0</td>\n",
              "      <td>0.1622</td>\n",
              "      <td>0.6656</td>\n",
              "      <td>0.7119</td>\n",
              "      <td>0.786</td>\n",
              "      <td>0.2654</td>\n",
              "      <td>0.4601</td>\n",
              "      <td>0.11890</td>\n",
              "    </tr>\n",
              "    <tr>\n",
              "      <th>1</th>\n",
              "      <td>20.57</td>\n",
              "      <td>17.77</td>\n",
              "      <td>132.90</td>\n",
              "      <td>103.78</td>\n",
              "      <td>1326.0</td>\n",
              "      <td>0.08474</td>\n",
              "      <td>0.07864</td>\n",
              "      <td>0.0869</td>\n",
              "      <td>0.07017</td>\n",
              "      <td>0.1812</td>\n",
              "      <td>...</td>\n",
              "      <td>23.41</td>\n",
              "      <td>158.80</td>\n",
              "      <td>1956.0</td>\n",
              "      <td>0.1238</td>\n",
              "      <td>0.1866</td>\n",
              "      <td>0.2416</td>\n",
              "      <td>0.786</td>\n",
              "      <td>0.1860</td>\n",
              "      <td>0.2750</td>\n",
              "      <td>0.08902</td>\n",
              "    </tr>\n",
              "    <tr>\n",
              "      <th>2</th>\n",
              "      <td>19.69</td>\n",
              "      <td>21.25</td>\n",
              "      <td>130.00</td>\n",
              "      <td>103.78</td>\n",
              "      <td>1203.0</td>\n",
              "      <td>0.10960</td>\n",
              "      <td>0.15990</td>\n",
              "      <td>0.1974</td>\n",
              "      <td>0.12790</td>\n",
              "      <td>0.2069</td>\n",
              "      <td>...</td>\n",
              "      <td>25.53</td>\n",
              "      <td>152.50</td>\n",
              "      <td>1709.0</td>\n",
              "      <td>0.1444</td>\n",
              "      <td>0.4245</td>\n",
              "      <td>0.4504</td>\n",
              "      <td>0.786</td>\n",
              "      <td>0.2430</td>\n",
              "      <td>0.3613</td>\n",
              "      <td>0.08758</td>\n",
              "    </tr>\n",
              "    <tr>\n",
              "      <th>3</th>\n",
              "      <td>11.42</td>\n",
              "      <td>20.38</td>\n",
              "      <td>77.58</td>\n",
              "      <td>103.78</td>\n",
              "      <td>386.1</td>\n",
              "      <td>0.14250</td>\n",
              "      <td>0.28390</td>\n",
              "      <td>0.2414</td>\n",
              "      <td>0.10520</td>\n",
              "      <td>0.2597</td>\n",
              "      <td>...</td>\n",
              "      <td>26.50</td>\n",
              "      <td>98.87</td>\n",
              "      <td>567.7</td>\n",
              "      <td>0.2098</td>\n",
              "      <td>0.8663</td>\n",
              "      <td>0.6869</td>\n",
              "      <td>0.786</td>\n",
              "      <td>0.2575</td>\n",
              "      <td>0.6638</td>\n",
              "      <td>0.17300</td>\n",
              "    </tr>\n",
              "    <tr>\n",
              "      <th>4</th>\n",
              "      <td>20.29</td>\n",
              "      <td>14.34</td>\n",
              "      <td>135.10</td>\n",
              "      <td>103.78</td>\n",
              "      <td>1297.0</td>\n",
              "      <td>0.10030</td>\n",
              "      <td>0.13280</td>\n",
              "      <td>0.1980</td>\n",
              "      <td>0.10430</td>\n",
              "      <td>0.1809</td>\n",
              "      <td>...</td>\n",
              "      <td>16.67</td>\n",
              "      <td>152.20</td>\n",
              "      <td>1575.0</td>\n",
              "      <td>0.1374</td>\n",
              "      <td>0.2050</td>\n",
              "      <td>0.4000</td>\n",
              "      <td>0.786</td>\n",
              "      <td>0.1625</td>\n",
              "      <td>0.2364</td>\n",
              "      <td>0.07678</td>\n",
              "    </tr>\n",
              "  </tbody>\n",
              "</table>\n",
              "<p>5 rows × 32 columns</p>\n",
              "</div>\n",
              "      <button class=\"colab-df-convert\" onclick=\"convertToInteractive('df-da65975b-e0af-4b69-becf-b65e6e0ff236')\"\n",
              "              title=\"Convert this dataframe to an interactive table.\"\n",
              "              style=\"display:none;\">\n",
              "        \n",
              "  <svg xmlns=\"http://www.w3.org/2000/svg\" height=\"24px\"viewBox=\"0 0 24 24\"\n",
              "       width=\"24px\">\n",
              "    <path d=\"M0 0h24v24H0V0z\" fill=\"none\"/>\n",
              "    <path d=\"M18.56 5.44l.94 2.06.94-2.06 2.06-.94-2.06-.94-.94-2.06-.94 2.06-2.06.94zm-11 1L8.5 8.5l.94-2.06 2.06-.94-2.06-.94L8.5 2.5l-.94 2.06-2.06.94zm10 10l.94 2.06.94-2.06 2.06-.94-2.06-.94-.94-2.06-.94 2.06-2.06.94z\"/><path d=\"M17.41 7.96l-1.37-1.37c-.4-.4-.92-.59-1.43-.59-.52 0-1.04.2-1.43.59L10.3 9.45l-7.72 7.72c-.78.78-.78 2.05 0 2.83L4 21.41c.39.39.9.59 1.41.59.51 0 1.02-.2 1.41-.59l7.78-7.78 2.81-2.81c.8-.78.8-2.07 0-2.86zM5.41 20L4 18.59l7.72-7.72 1.47 1.35L5.41 20z\"/>\n",
              "  </svg>\n",
              "      </button>\n",
              "      \n",
              "  <style>\n",
              "    .colab-df-container {\n",
              "      display:flex;\n",
              "      flex-wrap:wrap;\n",
              "      gap: 12px;\n",
              "    }\n",
              "\n",
              "    .colab-df-convert {\n",
              "      background-color: #E8F0FE;\n",
              "      border: none;\n",
              "      border-radius: 50%;\n",
              "      cursor: pointer;\n",
              "      display: none;\n",
              "      fill: #1967D2;\n",
              "      height: 32px;\n",
              "      padding: 0 0 0 0;\n",
              "      width: 32px;\n",
              "    }\n",
              "\n",
              "    .colab-df-convert:hover {\n",
              "      background-color: #E2EBFA;\n",
              "      box-shadow: 0px 1px 2px rgba(60, 64, 67, 0.3), 0px 1px 3px 1px rgba(60, 64, 67, 0.15);\n",
              "      fill: #174EA6;\n",
              "    }\n",
              "\n",
              "    [theme=dark] .colab-df-convert {\n",
              "      background-color: #3B4455;\n",
              "      fill: #D2E3FC;\n",
              "    }\n",
              "\n",
              "    [theme=dark] .colab-df-convert:hover {\n",
              "      background-color: #434B5C;\n",
              "      box-shadow: 0px 1px 3px 1px rgba(0, 0, 0, 0.15);\n",
              "      filter: drop-shadow(0px 1px 2px rgba(0, 0, 0, 0.3));\n",
              "      fill: #FFFFFF;\n",
              "    }\n",
              "  </style>\n",
              "\n",
              "      <script>\n",
              "        const buttonEl =\n",
              "          document.querySelector('#df-da65975b-e0af-4b69-becf-b65e6e0ff236 button.colab-df-convert');\n",
              "        buttonEl.style.display =\n",
              "          google.colab.kernel.accessAllowed ? 'block' : 'none';\n",
              "\n",
              "        async function convertToInteractive(key) {\n",
              "          const element = document.querySelector('#df-da65975b-e0af-4b69-becf-b65e6e0ff236');\n",
              "          const dataTable =\n",
              "            await google.colab.kernel.invokeFunction('convertToInteractive',\n",
              "                                                     [key], {});\n",
              "          if (!dataTable) return;\n",
              "\n",
              "          const docLinkHtml = 'Like what you see? Visit the ' +\n",
              "            '<a target=\"_blank\" href=https://colab.research.google.com/notebooks/data_table.ipynb>data table notebook</a>'\n",
              "            + ' to learn more about interactive tables.';\n",
              "          element.innerHTML = '';\n",
              "          dataTable['output_type'] = 'display_data';\n",
              "          await google.colab.output.renderOutput(dataTable, element);\n",
              "          const docLink = document.createElement('div');\n",
              "          docLink.innerHTML = docLinkHtml;\n",
              "          element.appendChild(docLink);\n",
              "        }\n",
              "      </script>\n",
              "    </div>\n",
              "  </div>\n",
              "  "
            ]
          },
          "metadata": {},
          "execution_count": 7
        }
      ]
    },
    {
      "cell_type": "markdown",
      "source": [
        "#2 - Preparando a base dados para a criação do modelo"
      ],
      "metadata": {
        "id": "OjNr3JRtzbXI"
      }
    },
    {
      "cell_type": "markdown",
      "source": [
        "##Importando as bibliotecas necessárias"
      ],
      "metadata": {
        "id": "1QIb06onz4zZ"
      }
    },
    {
      "cell_type": "code",
      "source": [
        "import random\n",
        "from sklearn.model_selection import train_test_split\n",
        "from sklearn.ensemble import RandomForestClassifier\n",
        "from sklearn.dummy import DummyClassifier"
      ],
      "metadata": {
        "id": "kEr8clhEz4t3"
      },
      "execution_count": 8,
      "outputs": []
    },
    {
      "cell_type": "markdown",
      "source": [
        "##Separando os dados em grupos de treino e de teste"
      ],
      "metadata": {
        "id": "Uy_kkJGDpgm7"
      }
    },
    {
      "cell_type": "code",
      "source": [
        "SEED = 123143\n",
        "random.seed(SEED)\n",
        "\n",
        "diagnostico = resultados_exames.diagnostico\n",
        "\n",
        "treino_x, teste_x, treino_y, teste_y = train_test_split(valores_exames_v1, diagnostico, test_size = 0.3)"
      ],
      "metadata": {
        "id": "G4OcYb5epoWq"
      },
      "execution_count": 9,
      "outputs": []
    },
    {
      "cell_type": "markdown",
      "source": [
        "##Criação do modelo"
      ],
      "metadata": {
        "id": "bOqDhVnPsQuB"
      }
    },
    {
      "cell_type": "code",
      "source": [
        "classificador = RandomForestClassifier(n_estimators = 100)\n",
        "classificador.fit(treino_x, treino_y)"
      ],
      "metadata": {
        "colab": {
          "base_uri": "https://localhost:8080/"
        },
        "id": "IJ9-_4WerCTi",
        "outputId": "a3b8eda2-9471-4b03-8d01-43851211c35d"
      },
      "execution_count": 10,
      "outputs": [
        {
          "output_type": "execute_result",
          "data": {
            "text/plain": [
              "RandomForestClassifier()"
            ]
          },
          "metadata": {},
          "execution_count": 10
        }
      ]
    },
    {
      "cell_type": "markdown",
      "source": [
        "###Acurácia do modelo criado"
      ],
      "metadata": {
        "id": "AsQfHgjbsxdf"
      }
    },
    {
      "cell_type": "code",
      "source": [
        "print('O modelo criado possui uma acurácia de:',round((classificador.score(teste_x, teste_y))*100,3),'%.')"
      ],
      "metadata": {
        "colab": {
          "base_uri": "https://localhost:8080/"
        },
        "id": "bHXvyYHWsqqC",
        "outputId": "17909db1-591a-48db-b56b-8bf38b3bdcc6"
      },
      "execution_count": 11,
      "outputs": [
        {
          "output_type": "stream",
          "name": "stdout",
          "text": [
            "O modelo criado possui uma acurácia de: 97.661 %.\n"
          ]
        }
      ]
    },
    {
      "cell_type": "markdown",
      "source": [
        "###Criando um classificador de comparação"
      ],
      "metadata": {
        "id": "zW2dDM_pxtEh"
      }
    },
    {
      "cell_type": "code",
      "source": [
        "SEED = 123143\n",
        "random.seed(SEED)\n",
        "\n",
        "classificador_2 = DummyClassifier(strategy ='most_frequent')\n",
        "classificador_2.fit(treino_x, treino_y)\n",
        "print('O modelo criado possui uma acurácia de:',round((classificador_2.score(teste_x, teste_y))*100,3),'%.')"
      ],
      "metadata": {
        "colab": {
          "base_uri": "https://localhost:8080/"
        },
        "id": "8pFrxXOgxFKx",
        "outputId": "871346e3-eb93-4ffb-cad0-d0db5ec85a11"
      },
      "execution_count": 12,
      "outputs": [
        {
          "output_type": "stream",
          "name": "stdout",
          "text": [
            "O modelo criado possui uma acurácia de: 67.251 %.\n"
          ]
        }
      ]
    },
    {
      "cell_type": "markdown",
      "source": [
        "---\n",
        "##CONCLUSÃO</br>\n",
        "\n",
        "Como nosso classificador_2 possui uma acurácia de 67,2%, podemos concluir que nosso modelo inicial (97,6% de acurácia) possui um desempenho satisfatório.</br>\n",
        "Dado esse contexto, selecionamos as melhores *features* do primeiro modelo como *baseline*."
      ],
      "metadata": {
        "id": "6hWoVgRQyJt5"
      }
    },
    {
      "cell_type": "markdown",
      "source": [
        "---"
      ],
      "metadata": {
        "id": "jtyqD7XgyrdO"
      }
    },
    {
      "cell_type": "markdown",
      "source": [
        "#3 - Explorando a base de dados"
      ],
      "metadata": {
        "id": "1YrxZtyMzGyV"
      }
    },
    {
      "cell_type": "markdown",
      "source": [
        "##Importando as bibliotecas necessárias"
      ],
      "metadata": {
        "id": "iheSVu950CZF"
      }
    },
    {
      "cell_type": "code",
      "source": [
        "import seaborn as sns\n",
        "import matplotlib.pyplot as plt\n",
        "%matplotlib inline\n",
        "from sklearn.preprocessing import StandardScaler"
      ],
      "metadata": {
        "id": "cbbAT2NUyDLv"
      },
      "execution_count": 13,
      "outputs": []
    },
    {
      "cell_type": "markdown",
      "source": [
        "##Manipulando a base de dados"
      ],
      "metadata": {
        "id": "Cbxfc2qw0mVk"
      }
    },
    {
      "cell_type": "markdown",
      "source": [
        "###Padronização de alguns dados"
      ],
      "metadata": {
        "id": "uUjbgOrJ7egZ"
      }
    },
    {
      "cell_type": "code",
      "source": [
        "padronizador = StandardScaler()\n",
        "padronizador.fit(valores_exames_v1)\n",
        "valores_exames_v2 = padronizador.transform(valores_exames_v1)\n",
        "valores_exames_v2 = pd.DataFrame(valores_exames_v2, columns = valores_exames_v1.keys())\n",
        "valores_exames_v2"
      ],
      "metadata": {
        "colab": {
          "base_uri": "https://localhost:8080/",
          "height": 488
        },
        "id": "hnma7Lis7iSe",
        "outputId": "2f56ca89-50ea-4827-9477-ccb4a7cd21f0"
      },
      "execution_count": 14,
      "outputs": [
        {
          "output_type": "execute_result",
          "data": {
            "text/plain": [
              "      exame_1   exame_2   exame_3       exame_4   exame_5   exame_6   exame_7  \\\n",
              "0    1.097064 -2.073335  1.269934  1.421085e-14  0.984375  1.568466  3.283515   \n",
              "1    1.829821 -0.353632  1.685955  1.421085e-14  1.908708 -0.826962 -0.487072   \n",
              "2    1.579888  0.456187  1.566503  1.421085e-14  1.558884  0.942210  1.052926   \n",
              "3   -0.768909  0.253732 -0.592687  1.421085e-14 -0.764464  3.283553  3.402909   \n",
              "4    1.750297 -1.151816  1.776573  1.421085e-14  1.826229  0.280372  0.539340   \n",
              "..        ...       ...       ...           ...       ...       ...       ...   \n",
              "564  2.110995  0.721473  2.060786  1.421085e-14  2.343856  1.041842  0.219060   \n",
              "565  1.704854  2.085134  1.615931  1.421085e-14  1.723842  0.102458 -0.017833   \n",
              "566  0.702284  2.045574  0.672676  1.421085e-14  0.577953 -0.840484 -0.038680   \n",
              "567  1.838341  2.336457  1.982524  1.421085e-14  1.735218  1.525767  3.272144   \n",
              "568 -1.808401  1.221792 -1.814389  1.421085e-14 -1.347789 -3.112085 -1.150752   \n",
              "\n",
              "      exame_8   exame_9  exame_10  ...  exame_23  exame_24  exame_25  \\\n",
              "0    2.652874  2.532475  2.217515  ... -1.359293  2.303601  2.001237   \n",
              "1   -0.023846  0.548144  0.001392  ... -0.369203  1.535126  1.890489   \n",
              "2    1.363478  2.037231  0.939685  ... -0.023974  1.347475  1.456285   \n",
              "3    1.915897  1.451707  2.867383  ...  0.133984 -0.249939 -0.550021   \n",
              "4    1.371011  1.428493 -0.009560  ... -1.466770  1.338539  1.220724   \n",
              "..        ...       ...       ...  ...       ...       ...       ...   \n",
              "564  1.947285  2.320965 -0.312589  ...  0.117700  1.752563  2.015301   \n",
              "565  0.693043  1.263669 -0.217664  ...  2.047399  1.421940  1.494959   \n",
              "566  0.046588  0.105777 -0.809117  ...  1.374854  0.579001  0.427906   \n",
              "567  3.296944  2.658866  2.137194  ...  2.237926  2.303601  1.653171   \n",
              "568 -1.114873 -1.261820 -0.820070  ...  0.764190 -1.432735 -1.075813   \n",
              "\n",
              "     exame_26  exame_27  exame_28      exame_29  exame_30  exame_31  exame_32  \n",
              "0    1.307686  2.616665  2.109526  1.110223e-16  2.296076  2.750622  1.937015  \n",
              "1   -0.375612 -0.430444 -0.146749  1.110223e-16  1.087084 -0.243890  0.281190  \n",
              "2    0.527407  1.082932  0.854974  1.110223e-16  1.955000  1.152255  0.201391  \n",
              "3    3.394275  3.893397  1.989588  1.110223e-16  2.175786  6.046041  4.935010  \n",
              "4    0.220556 -0.313395  0.613179  1.110223e-16  0.729259 -0.868353 -0.397100  \n",
              "..        ...       ...       ...           ...       ...       ...       ...  \n",
              "564  0.378365 -0.273318  0.664512  1.110223e-16  1.629151 -1.360158 -0.709091  \n",
              "565 -0.691230 -0.394820  0.236573  1.110223e-16  0.733827 -0.531855 -0.973978  \n",
              "566 -0.809587  0.350735  0.326767  1.110223e-16  0.414069 -1.104549 -0.318409  \n",
              "567  1.430427  3.904848  3.197605  1.110223e-16  2.289985  1.919083  2.219635  \n",
              "568 -1.859019 -1.207552 -1.305831  1.110223e-16 -1.745063 -0.048138 -0.751207  \n",
              "\n",
              "[569 rows x 32 columns]"
            ],
            "text/html": [
              "\n",
              "  <div id=\"df-2810c4fd-d8b0-46ad-8bbb-ff3c3d682efa\">\n",
              "    <div class=\"colab-df-container\">\n",
              "      <div>\n",
              "<style scoped>\n",
              "    .dataframe tbody tr th:only-of-type {\n",
              "        vertical-align: middle;\n",
              "    }\n",
              "\n",
              "    .dataframe tbody tr th {\n",
              "        vertical-align: top;\n",
              "    }\n",
              "\n",
              "    .dataframe thead th {\n",
              "        text-align: right;\n",
              "    }\n",
              "</style>\n",
              "<table border=\"1\" class=\"dataframe\">\n",
              "  <thead>\n",
              "    <tr style=\"text-align: right;\">\n",
              "      <th></th>\n",
              "      <th>exame_1</th>\n",
              "      <th>exame_2</th>\n",
              "      <th>exame_3</th>\n",
              "      <th>exame_4</th>\n",
              "      <th>exame_5</th>\n",
              "      <th>exame_6</th>\n",
              "      <th>exame_7</th>\n",
              "      <th>exame_8</th>\n",
              "      <th>exame_9</th>\n",
              "      <th>exame_10</th>\n",
              "      <th>...</th>\n",
              "      <th>exame_23</th>\n",
              "      <th>exame_24</th>\n",
              "      <th>exame_25</th>\n",
              "      <th>exame_26</th>\n",
              "      <th>exame_27</th>\n",
              "      <th>exame_28</th>\n",
              "      <th>exame_29</th>\n",
              "      <th>exame_30</th>\n",
              "      <th>exame_31</th>\n",
              "      <th>exame_32</th>\n",
              "    </tr>\n",
              "  </thead>\n",
              "  <tbody>\n",
              "    <tr>\n",
              "      <th>0</th>\n",
              "      <td>1.097064</td>\n",
              "      <td>-2.073335</td>\n",
              "      <td>1.269934</td>\n",
              "      <td>1.421085e-14</td>\n",
              "      <td>0.984375</td>\n",
              "      <td>1.568466</td>\n",
              "      <td>3.283515</td>\n",
              "      <td>2.652874</td>\n",
              "      <td>2.532475</td>\n",
              "      <td>2.217515</td>\n",
              "      <td>...</td>\n",
              "      <td>-1.359293</td>\n",
              "      <td>2.303601</td>\n",
              "      <td>2.001237</td>\n",
              "      <td>1.307686</td>\n",
              "      <td>2.616665</td>\n",
              "      <td>2.109526</td>\n",
              "      <td>1.110223e-16</td>\n",
              "      <td>2.296076</td>\n",
              "      <td>2.750622</td>\n",
              "      <td>1.937015</td>\n",
              "    </tr>\n",
              "    <tr>\n",
              "      <th>1</th>\n",
              "      <td>1.829821</td>\n",
              "      <td>-0.353632</td>\n",
              "      <td>1.685955</td>\n",
              "      <td>1.421085e-14</td>\n",
              "      <td>1.908708</td>\n",
              "      <td>-0.826962</td>\n",
              "      <td>-0.487072</td>\n",
              "      <td>-0.023846</td>\n",
              "      <td>0.548144</td>\n",
              "      <td>0.001392</td>\n",
              "      <td>...</td>\n",
              "      <td>-0.369203</td>\n",
              "      <td>1.535126</td>\n",
              "      <td>1.890489</td>\n",
              "      <td>-0.375612</td>\n",
              "      <td>-0.430444</td>\n",
              "      <td>-0.146749</td>\n",
              "      <td>1.110223e-16</td>\n",
              "      <td>1.087084</td>\n",
              "      <td>-0.243890</td>\n",
              "      <td>0.281190</td>\n",
              "    </tr>\n",
              "    <tr>\n",
              "      <th>2</th>\n",
              "      <td>1.579888</td>\n",
              "      <td>0.456187</td>\n",
              "      <td>1.566503</td>\n",
              "      <td>1.421085e-14</td>\n",
              "      <td>1.558884</td>\n",
              "      <td>0.942210</td>\n",
              "      <td>1.052926</td>\n",
              "      <td>1.363478</td>\n",
              "      <td>2.037231</td>\n",
              "      <td>0.939685</td>\n",
              "      <td>...</td>\n",
              "      <td>-0.023974</td>\n",
              "      <td>1.347475</td>\n",
              "      <td>1.456285</td>\n",
              "      <td>0.527407</td>\n",
              "      <td>1.082932</td>\n",
              "      <td>0.854974</td>\n",
              "      <td>1.110223e-16</td>\n",
              "      <td>1.955000</td>\n",
              "      <td>1.152255</td>\n",
              "      <td>0.201391</td>\n",
              "    </tr>\n",
              "    <tr>\n",
              "      <th>3</th>\n",
              "      <td>-0.768909</td>\n",
              "      <td>0.253732</td>\n",
              "      <td>-0.592687</td>\n",
              "      <td>1.421085e-14</td>\n",
              "      <td>-0.764464</td>\n",
              "      <td>3.283553</td>\n",
              "      <td>3.402909</td>\n",
              "      <td>1.915897</td>\n",
              "      <td>1.451707</td>\n",
              "      <td>2.867383</td>\n",
              "      <td>...</td>\n",
              "      <td>0.133984</td>\n",
              "      <td>-0.249939</td>\n",
              "      <td>-0.550021</td>\n",
              "      <td>3.394275</td>\n",
              "      <td>3.893397</td>\n",
              "      <td>1.989588</td>\n",
              "      <td>1.110223e-16</td>\n",
              "      <td>2.175786</td>\n",
              "      <td>6.046041</td>\n",
              "      <td>4.935010</td>\n",
              "    </tr>\n",
              "    <tr>\n",
              "      <th>4</th>\n",
              "      <td>1.750297</td>\n",
              "      <td>-1.151816</td>\n",
              "      <td>1.776573</td>\n",
              "      <td>1.421085e-14</td>\n",
              "      <td>1.826229</td>\n",
              "      <td>0.280372</td>\n",
              "      <td>0.539340</td>\n",
              "      <td>1.371011</td>\n",
              "      <td>1.428493</td>\n",
              "      <td>-0.009560</td>\n",
              "      <td>...</td>\n",
              "      <td>-1.466770</td>\n",
              "      <td>1.338539</td>\n",
              "      <td>1.220724</td>\n",
              "      <td>0.220556</td>\n",
              "      <td>-0.313395</td>\n",
              "      <td>0.613179</td>\n",
              "      <td>1.110223e-16</td>\n",
              "      <td>0.729259</td>\n",
              "      <td>-0.868353</td>\n",
              "      <td>-0.397100</td>\n",
              "    </tr>\n",
              "    <tr>\n",
              "      <th>...</th>\n",
              "      <td>...</td>\n",
              "      <td>...</td>\n",
              "      <td>...</td>\n",
              "      <td>...</td>\n",
              "      <td>...</td>\n",
              "      <td>...</td>\n",
              "      <td>...</td>\n",
              "      <td>...</td>\n",
              "      <td>...</td>\n",
              "      <td>...</td>\n",
              "      <td>...</td>\n",
              "      <td>...</td>\n",
              "      <td>...</td>\n",
              "      <td>...</td>\n",
              "      <td>...</td>\n",
              "      <td>...</td>\n",
              "      <td>...</td>\n",
              "      <td>...</td>\n",
              "      <td>...</td>\n",
              "      <td>...</td>\n",
              "      <td>...</td>\n",
              "    </tr>\n",
              "    <tr>\n",
              "      <th>564</th>\n",
              "      <td>2.110995</td>\n",
              "      <td>0.721473</td>\n",
              "      <td>2.060786</td>\n",
              "      <td>1.421085e-14</td>\n",
              "      <td>2.343856</td>\n",
              "      <td>1.041842</td>\n",
              "      <td>0.219060</td>\n",
              "      <td>1.947285</td>\n",
              "      <td>2.320965</td>\n",
              "      <td>-0.312589</td>\n",
              "      <td>...</td>\n",
              "      <td>0.117700</td>\n",
              "      <td>1.752563</td>\n",
              "      <td>2.015301</td>\n",
              "      <td>0.378365</td>\n",
              "      <td>-0.273318</td>\n",
              "      <td>0.664512</td>\n",
              "      <td>1.110223e-16</td>\n",
              "      <td>1.629151</td>\n",
              "      <td>-1.360158</td>\n",
              "      <td>-0.709091</td>\n",
              "    </tr>\n",
              "    <tr>\n",
              "      <th>565</th>\n",
              "      <td>1.704854</td>\n",
              "      <td>2.085134</td>\n",
              "      <td>1.615931</td>\n",
              "      <td>1.421085e-14</td>\n",
              "      <td>1.723842</td>\n",
              "      <td>0.102458</td>\n",
              "      <td>-0.017833</td>\n",
              "      <td>0.693043</td>\n",
              "      <td>1.263669</td>\n",
              "      <td>-0.217664</td>\n",
              "      <td>...</td>\n",
              "      <td>2.047399</td>\n",
              "      <td>1.421940</td>\n",
              "      <td>1.494959</td>\n",
              "      <td>-0.691230</td>\n",
              "      <td>-0.394820</td>\n",
              "      <td>0.236573</td>\n",
              "      <td>1.110223e-16</td>\n",
              "      <td>0.733827</td>\n",
              "      <td>-0.531855</td>\n",
              "      <td>-0.973978</td>\n",
              "    </tr>\n",
              "    <tr>\n",
              "      <th>566</th>\n",
              "      <td>0.702284</td>\n",
              "      <td>2.045574</td>\n",
              "      <td>0.672676</td>\n",
              "      <td>1.421085e-14</td>\n",
              "      <td>0.577953</td>\n",
              "      <td>-0.840484</td>\n",
              "      <td>-0.038680</td>\n",
              "      <td>0.046588</td>\n",
              "      <td>0.105777</td>\n",
              "      <td>-0.809117</td>\n",
              "      <td>...</td>\n",
              "      <td>1.374854</td>\n",
              "      <td>0.579001</td>\n",
              "      <td>0.427906</td>\n",
              "      <td>-0.809587</td>\n",
              "      <td>0.350735</td>\n",
              "      <td>0.326767</td>\n",
              "      <td>1.110223e-16</td>\n",
              "      <td>0.414069</td>\n",
              "      <td>-1.104549</td>\n",
              "      <td>-0.318409</td>\n",
              "    </tr>\n",
              "    <tr>\n",
              "      <th>567</th>\n",
              "      <td>1.838341</td>\n",
              "      <td>2.336457</td>\n",
              "      <td>1.982524</td>\n",
              "      <td>1.421085e-14</td>\n",
              "      <td>1.735218</td>\n",
              "      <td>1.525767</td>\n",
              "      <td>3.272144</td>\n",
              "      <td>3.296944</td>\n",
              "      <td>2.658866</td>\n",
              "      <td>2.137194</td>\n",
              "      <td>...</td>\n",
              "      <td>2.237926</td>\n",
              "      <td>2.303601</td>\n",
              "      <td>1.653171</td>\n",
              "      <td>1.430427</td>\n",
              "      <td>3.904848</td>\n",
              "      <td>3.197605</td>\n",
              "      <td>1.110223e-16</td>\n",
              "      <td>2.289985</td>\n",
              "      <td>1.919083</td>\n",
              "      <td>2.219635</td>\n",
              "    </tr>\n",
              "    <tr>\n",
              "      <th>568</th>\n",
              "      <td>-1.808401</td>\n",
              "      <td>1.221792</td>\n",
              "      <td>-1.814389</td>\n",
              "      <td>1.421085e-14</td>\n",
              "      <td>-1.347789</td>\n",
              "      <td>-3.112085</td>\n",
              "      <td>-1.150752</td>\n",
              "      <td>-1.114873</td>\n",
              "      <td>-1.261820</td>\n",
              "      <td>-0.820070</td>\n",
              "      <td>...</td>\n",
              "      <td>0.764190</td>\n",
              "      <td>-1.432735</td>\n",
              "      <td>-1.075813</td>\n",
              "      <td>-1.859019</td>\n",
              "      <td>-1.207552</td>\n",
              "      <td>-1.305831</td>\n",
              "      <td>1.110223e-16</td>\n",
              "      <td>-1.745063</td>\n",
              "      <td>-0.048138</td>\n",
              "      <td>-0.751207</td>\n",
              "    </tr>\n",
              "  </tbody>\n",
              "</table>\n",
              "<p>569 rows × 32 columns</p>\n",
              "</div>\n",
              "      <button class=\"colab-df-convert\" onclick=\"convertToInteractive('df-2810c4fd-d8b0-46ad-8bbb-ff3c3d682efa')\"\n",
              "              title=\"Convert this dataframe to an interactive table.\"\n",
              "              style=\"display:none;\">\n",
              "        \n",
              "  <svg xmlns=\"http://www.w3.org/2000/svg\" height=\"24px\"viewBox=\"0 0 24 24\"\n",
              "       width=\"24px\">\n",
              "    <path d=\"M0 0h24v24H0V0z\" fill=\"none\"/>\n",
              "    <path d=\"M18.56 5.44l.94 2.06.94-2.06 2.06-.94-2.06-.94-.94-2.06-.94 2.06-2.06.94zm-11 1L8.5 8.5l.94-2.06 2.06-.94-2.06-.94L8.5 2.5l-.94 2.06-2.06.94zm10 10l.94 2.06.94-2.06 2.06-.94-2.06-.94-.94-2.06-.94 2.06-2.06.94z\"/><path d=\"M17.41 7.96l-1.37-1.37c-.4-.4-.92-.59-1.43-.59-.52 0-1.04.2-1.43.59L10.3 9.45l-7.72 7.72c-.78.78-.78 2.05 0 2.83L4 21.41c.39.39.9.59 1.41.59.51 0 1.02-.2 1.41-.59l7.78-7.78 2.81-2.81c.8-.78.8-2.07 0-2.86zM5.41 20L4 18.59l7.72-7.72 1.47 1.35L5.41 20z\"/>\n",
              "  </svg>\n",
              "      </button>\n",
              "      \n",
              "  <style>\n",
              "    .colab-df-container {\n",
              "      display:flex;\n",
              "      flex-wrap:wrap;\n",
              "      gap: 12px;\n",
              "    }\n",
              "\n",
              "    .colab-df-convert {\n",
              "      background-color: #E8F0FE;\n",
              "      border: none;\n",
              "      border-radius: 50%;\n",
              "      cursor: pointer;\n",
              "      display: none;\n",
              "      fill: #1967D2;\n",
              "      height: 32px;\n",
              "      padding: 0 0 0 0;\n",
              "      width: 32px;\n",
              "    }\n",
              "\n",
              "    .colab-df-convert:hover {\n",
              "      background-color: #E2EBFA;\n",
              "      box-shadow: 0px 1px 2px rgba(60, 64, 67, 0.3), 0px 1px 3px 1px rgba(60, 64, 67, 0.15);\n",
              "      fill: #174EA6;\n",
              "    }\n",
              "\n",
              "    [theme=dark] .colab-df-convert {\n",
              "      background-color: #3B4455;\n",
              "      fill: #D2E3FC;\n",
              "    }\n",
              "\n",
              "    [theme=dark] .colab-df-convert:hover {\n",
              "      background-color: #434B5C;\n",
              "      box-shadow: 0px 1px 3px 1px rgba(0, 0, 0, 0.15);\n",
              "      filter: drop-shadow(0px 1px 2px rgba(0, 0, 0, 0.3));\n",
              "      fill: #FFFFFF;\n",
              "    }\n",
              "  </style>\n",
              "\n",
              "      <script>\n",
              "        const buttonEl =\n",
              "          document.querySelector('#df-2810c4fd-d8b0-46ad-8bbb-ff3c3d682efa button.colab-df-convert');\n",
              "        buttonEl.style.display =\n",
              "          google.colab.kernel.accessAllowed ? 'block' : 'none';\n",
              "\n",
              "        async function convertToInteractive(key) {\n",
              "          const element = document.querySelector('#df-2810c4fd-d8b0-46ad-8bbb-ff3c3d682efa');\n",
              "          const dataTable =\n",
              "            await google.colab.kernel.invokeFunction('convertToInteractive',\n",
              "                                                     [key], {});\n",
              "          if (!dataTable) return;\n",
              "\n",
              "          const docLinkHtml = 'Like what you see? Visit the ' +\n",
              "            '<a target=\"_blank\" href=https://colab.research.google.com/notebooks/data_table.ipynb>data table notebook</a>'\n",
              "            + ' to learn more about interactive tables.';\n",
              "          element.innerHTML = '';\n",
              "          dataTable['output_type'] = 'display_data';\n",
              "          await google.colab.output.renderOutput(dataTable, element);\n",
              "          const docLink = document.createElement('div');\n",
              "          docLink.innerHTML = docLinkHtml;\n",
              "          element.appendChild(docLink);\n",
              "        }\n",
              "      </script>\n",
              "    </div>\n",
              "  </div>\n",
              "  "
            ]
          },
          "metadata": {},
          "execution_count": 14
        }
      ]
    },
    {
      "cell_type": "code",
      "source": [
        "dados_plot = pd.concat([diagnostico, valores_exames_v2], axis = 1)\n",
        "\n",
        "dados_plot = pd.melt(\n",
        "    dados_plot,\n",
        "    id_vars='diagnostico',\n",
        "    var_name = 'exames',\n",
        "    value_name = 'valores')\n",
        "\n",
        "dados_plot"
      ],
      "metadata": {
        "colab": {
          "base_uri": "https://localhost:8080/",
          "height": 424
        },
        "id": "-B4M7SpI0mex",
        "outputId": "1773514a-383f-4ba8-ea52-c3f011ea053f"
      },
      "execution_count": 15,
      "outputs": [
        {
          "output_type": "execute_result",
          "data": {
            "text/plain": [
              "      diagnostico    exames   valores\n",
              "0               M   exame_1  1.097064\n",
              "1               M   exame_1  1.829821\n",
              "2               M   exame_1  1.579888\n",
              "3               M   exame_1 -0.768909\n",
              "4               M   exame_1  1.750297\n",
              "...           ...       ...       ...\n",
              "18203           M  exame_32 -0.709091\n",
              "18204           M  exame_32 -0.973978\n",
              "18205           M  exame_32 -0.318409\n",
              "18206           M  exame_32  2.219635\n",
              "18207           B  exame_32 -0.751207\n",
              "\n",
              "[18208 rows x 3 columns]"
            ],
            "text/html": [
              "\n",
              "  <div id=\"df-27f75f62-b10e-40a8-b1ae-ede16a53a14f\">\n",
              "    <div class=\"colab-df-container\">\n",
              "      <div>\n",
              "<style scoped>\n",
              "    .dataframe tbody tr th:only-of-type {\n",
              "        vertical-align: middle;\n",
              "    }\n",
              "\n",
              "    .dataframe tbody tr th {\n",
              "        vertical-align: top;\n",
              "    }\n",
              "\n",
              "    .dataframe thead th {\n",
              "        text-align: right;\n",
              "    }\n",
              "</style>\n",
              "<table border=\"1\" class=\"dataframe\">\n",
              "  <thead>\n",
              "    <tr style=\"text-align: right;\">\n",
              "      <th></th>\n",
              "      <th>diagnostico</th>\n",
              "      <th>exames</th>\n",
              "      <th>valores</th>\n",
              "    </tr>\n",
              "  </thead>\n",
              "  <tbody>\n",
              "    <tr>\n",
              "      <th>0</th>\n",
              "      <td>M</td>\n",
              "      <td>exame_1</td>\n",
              "      <td>1.097064</td>\n",
              "    </tr>\n",
              "    <tr>\n",
              "      <th>1</th>\n",
              "      <td>M</td>\n",
              "      <td>exame_1</td>\n",
              "      <td>1.829821</td>\n",
              "    </tr>\n",
              "    <tr>\n",
              "      <th>2</th>\n",
              "      <td>M</td>\n",
              "      <td>exame_1</td>\n",
              "      <td>1.579888</td>\n",
              "    </tr>\n",
              "    <tr>\n",
              "      <th>3</th>\n",
              "      <td>M</td>\n",
              "      <td>exame_1</td>\n",
              "      <td>-0.768909</td>\n",
              "    </tr>\n",
              "    <tr>\n",
              "      <th>4</th>\n",
              "      <td>M</td>\n",
              "      <td>exame_1</td>\n",
              "      <td>1.750297</td>\n",
              "    </tr>\n",
              "    <tr>\n",
              "      <th>...</th>\n",
              "      <td>...</td>\n",
              "      <td>...</td>\n",
              "      <td>...</td>\n",
              "    </tr>\n",
              "    <tr>\n",
              "      <th>18203</th>\n",
              "      <td>M</td>\n",
              "      <td>exame_32</td>\n",
              "      <td>-0.709091</td>\n",
              "    </tr>\n",
              "    <tr>\n",
              "      <th>18204</th>\n",
              "      <td>M</td>\n",
              "      <td>exame_32</td>\n",
              "      <td>-0.973978</td>\n",
              "    </tr>\n",
              "    <tr>\n",
              "      <th>18205</th>\n",
              "      <td>M</td>\n",
              "      <td>exame_32</td>\n",
              "      <td>-0.318409</td>\n",
              "    </tr>\n",
              "    <tr>\n",
              "      <th>18206</th>\n",
              "      <td>M</td>\n",
              "      <td>exame_32</td>\n",
              "      <td>2.219635</td>\n",
              "    </tr>\n",
              "    <tr>\n",
              "      <th>18207</th>\n",
              "      <td>B</td>\n",
              "      <td>exame_32</td>\n",
              "      <td>-0.751207</td>\n",
              "    </tr>\n",
              "  </tbody>\n",
              "</table>\n",
              "<p>18208 rows × 3 columns</p>\n",
              "</div>\n",
              "      <button class=\"colab-df-convert\" onclick=\"convertToInteractive('df-27f75f62-b10e-40a8-b1ae-ede16a53a14f')\"\n",
              "              title=\"Convert this dataframe to an interactive table.\"\n",
              "              style=\"display:none;\">\n",
              "        \n",
              "  <svg xmlns=\"http://www.w3.org/2000/svg\" height=\"24px\"viewBox=\"0 0 24 24\"\n",
              "       width=\"24px\">\n",
              "    <path d=\"M0 0h24v24H0V0z\" fill=\"none\"/>\n",
              "    <path d=\"M18.56 5.44l.94 2.06.94-2.06 2.06-.94-2.06-.94-.94-2.06-.94 2.06-2.06.94zm-11 1L8.5 8.5l.94-2.06 2.06-.94-2.06-.94L8.5 2.5l-.94 2.06-2.06.94zm10 10l.94 2.06.94-2.06 2.06-.94-2.06-.94-.94-2.06-.94 2.06-2.06.94z\"/><path d=\"M17.41 7.96l-1.37-1.37c-.4-.4-.92-.59-1.43-.59-.52 0-1.04.2-1.43.59L10.3 9.45l-7.72 7.72c-.78.78-.78 2.05 0 2.83L4 21.41c.39.39.9.59 1.41.59.51 0 1.02-.2 1.41-.59l7.78-7.78 2.81-2.81c.8-.78.8-2.07 0-2.86zM5.41 20L4 18.59l7.72-7.72 1.47 1.35L5.41 20z\"/>\n",
              "  </svg>\n",
              "      </button>\n",
              "      \n",
              "  <style>\n",
              "    .colab-df-container {\n",
              "      display:flex;\n",
              "      flex-wrap:wrap;\n",
              "      gap: 12px;\n",
              "    }\n",
              "\n",
              "    .colab-df-convert {\n",
              "      background-color: #E8F0FE;\n",
              "      border: none;\n",
              "      border-radius: 50%;\n",
              "      cursor: pointer;\n",
              "      display: none;\n",
              "      fill: #1967D2;\n",
              "      height: 32px;\n",
              "      padding: 0 0 0 0;\n",
              "      width: 32px;\n",
              "    }\n",
              "\n",
              "    .colab-df-convert:hover {\n",
              "      background-color: #E2EBFA;\n",
              "      box-shadow: 0px 1px 2px rgba(60, 64, 67, 0.3), 0px 1px 3px 1px rgba(60, 64, 67, 0.15);\n",
              "      fill: #174EA6;\n",
              "    }\n",
              "\n",
              "    [theme=dark] .colab-df-convert {\n",
              "      background-color: #3B4455;\n",
              "      fill: #D2E3FC;\n",
              "    }\n",
              "\n",
              "    [theme=dark] .colab-df-convert:hover {\n",
              "      background-color: #434B5C;\n",
              "      box-shadow: 0px 1px 3px 1px rgba(0, 0, 0, 0.15);\n",
              "      filter: drop-shadow(0px 1px 2px rgba(0, 0, 0, 0.3));\n",
              "      fill: #FFFFFF;\n",
              "    }\n",
              "  </style>\n",
              "\n",
              "      <script>\n",
              "        const buttonEl =\n",
              "          document.querySelector('#df-27f75f62-b10e-40a8-b1ae-ede16a53a14f button.colab-df-convert');\n",
              "        buttonEl.style.display =\n",
              "          google.colab.kernel.accessAllowed ? 'block' : 'none';\n",
              "\n",
              "        async function convertToInteractive(key) {\n",
              "          const element = document.querySelector('#df-27f75f62-b10e-40a8-b1ae-ede16a53a14f');\n",
              "          const dataTable =\n",
              "            await google.colab.kernel.invokeFunction('convertToInteractive',\n",
              "                                                     [key], {});\n",
              "          if (!dataTable) return;\n",
              "\n",
              "          const docLinkHtml = 'Like what you see? Visit the ' +\n",
              "            '<a target=\"_blank\" href=https://colab.research.google.com/notebooks/data_table.ipynb>data table notebook</a>'\n",
              "            + ' to learn more about interactive tables.';\n",
              "          element.innerHTML = '';\n",
              "          dataTable['output_type'] = 'display_data';\n",
              "          await google.colab.output.renderOutput(dataTable, element);\n",
              "          const docLink = document.createElement('div');\n",
              "          docLink.innerHTML = docLinkHtml;\n",
              "          element.appendChild(docLink);\n",
              "        }\n",
              "      </script>\n",
              "    </div>\n",
              "  </div>\n",
              "  "
            ]
          },
          "metadata": {},
          "execution_count": 15
        }
      ]
    },
    {
      "cell_type": "markdown",
      "source": [
        "##Visualizando dados_plot"
      ],
      "metadata": {
        "id": "-JISY1RN0MqW"
      }
    },
    {
      "cell_type": "code",
      "source": [
        "fig = plt.figure(figsize=(16,7))\n",
        "eixo = fig.add_axes([0,0,1,1])\n",
        "\n",
        "sns.violinplot(\n",
        "    x = 'exames',\n",
        "    y = 'valores',\n",
        "    hue = 'diagnostico',\n",
        "    split=True,\n",
        "    data = dados_plot)\n",
        "\n",
        "eixo.set_title('Exames realizados por valores (separados por diagnóstico)', fontsize = 15, pad = 10)\n",
        "plt.xticks(rotation=90)\n",
        "eixo.set_xlabel('Exames', fontsize = 15)\n",
        "eixo.set_ylabel('Valores', fontsize = 15)"
      ],
      "metadata": {
        "colab": {
          "base_uri": "https://localhost:8080/",
          "height": 653
        },
        "id": "Lkf650Ts0JMf",
        "outputId": "b5a83bb1-713b-436b-9318-c3421ca7033c"
      },
      "execution_count": 16,
      "outputs": [
        {
          "output_type": "execute_result",
          "data": {
            "text/plain": [
              "Text(0, 0.5, 'Valores')"
            ]
          },
          "metadata": {},
          "execution_count": 16
        },
        {
          "output_type": "display_data",
          "data": {
            "text/plain": [
              "<Figure size 1152x504 with 1 Axes>"
            ],
            "image/png": "[encoded data removed]"
          },
          "metadata": {
            "needs_background": "light"
          }
        }
      ]
    },
    {
      "cell_type": "markdown",
      "source": [
        "Notamos que o exame 4 e 29 possuem valores constantes, logo ambos os exames podem ser retirados da nossa análise."
      ],
      "metadata": {
        "id": "4gtIufBn8ogt"
      }
    },
    {
      "cell_type": "markdown",
      "source": [
        "##Criando uma função para fazer gráficos"
      ],
      "metadata": {
        "id": "XscINrn09jpv"
      }
    },
    {
      "cell_type": "markdown",
      "source": [
        "A função deve receber a base de dados e os exames que devem ser plotados"
      ],
      "metadata": {
        "id": "6yOYiUaN_OD0"
      }
    },
    {
      "cell_type": "code",
      "source": [
        "def grafico_violino(valores, inicio, fim):\n",
        "  fig = plt.figure(figsize=(16,7))\n",
        "  eixo = fig.add_axes([0,0,1,1])\n",
        "\n",
        "  dados_grafico = pd.concat([diagnostico, valores.iloc[:,inicio:fim]], axis=1)\n",
        "  dados_grafico = pd.melt(dados_grafico,\n",
        "                    id_vars='diagnostico',\n",
        "                    var_name='exames',\n",
        "                    value_name='valores')\n",
        "\n",
        "  sns.violinplot(\n",
        "      x = 'exames',\n",
        "      y = 'valores',\n",
        "      hue = 'diagnostico',\n",
        "      split=True,\n",
        "      data = dados_grafico)\n",
        "\n",
        "  eixo.set_title('Exames realizados por valores (separados por diagnóstico)', fontsize = 15, pad = 10)\n",
        "  plt.xticks(rotation=90)\n",
        "  eixo.set_xlabel('Exames', fontsize = 15)\n",
        "  eixo.set_ylabel('Valores', fontsize = 15)"
      ],
      "metadata": {
        "id": "8PhqHl6T1W_b"
      },
      "execution_count": 17,
      "outputs": []
    },
    {
      "cell_type": "markdown",
      "source": [
        "###Testando a função criada"
      ],
      "metadata": {
        "id": "uzngnt_l_Zz1"
      }
    },
    {
      "cell_type": "code",
      "source": [
        "grafico_violino(valores_exames_v2,1,5)"
      ],
      "metadata": {
        "colab": {
          "base_uri": "https://localhost:8080/",
          "height": 629
        },
        "id": "yqGD_cnq-iXZ",
        "outputId": "5f242ad8-a4be-4851-c9b1-c6dfbe0cc8cd"
      },
      "execution_count": 18,
      "outputs": [
        {
          "output_type": "display_data",
          "data": {
            "text/plain": [
              "<Figure size 1152x504 with 1 Axes>"
            ],
            "image/png": "[encoded data removed]"
          },
          "metadata": {
            "needs_background": "light"
          }
        }
      ]
    },
    {
      "cell_type": "code",
      "source": [
        "grafico_violino(valores_exames_v2,27,31)"
      ],
      "metadata": {
        "colab": {
          "base_uri": "https://localhost:8080/",
          "height": 635
        },
        "id": "GICLGm1I_5aa",
        "outputId": "42c37040-1645-45a8-ebb8-225459dc84e9"
      },
      "execution_count": 19,
      "outputs": [
        {
          "output_type": "display_data",
          "data": {
            "text/plain": [
              "<Figure size 1152x504 with 1 Axes>"
            ],
            "image/png": "[encoded data removed]"
          },
          "metadata": {
            "needs_background": "light"
          }
        }
      ]
    },
    {
      "cell_type": "markdown",
      "source": [
        "##Retirando as colunas dos exames 04 e 29 da análise"
      ],
      "metadata": {
        "id": "4-g6vM29_vZx"
      }
    },
    {
      "cell_type": "code",
      "source": [
        "valores_exames_v3 = valores_exames_v2.drop(columns = ['exame_4', 'exame_29'])\n",
        "valores_exames_v3"
      ],
      "metadata": {
        "colab": {
          "base_uri": "https://localhost:8080/",
          "height": 488
        },
        "id": "GHNfUi6z_st9",
        "outputId": "bd949225-2bf8-4403-c29a-3c251853ac1d"
      },
      "execution_count": 20,
      "outputs": [
        {
          "output_type": "execute_result",
          "data": {
            "text/plain": [
              "      exame_1   exame_2   exame_3   exame_5   exame_6   exame_7   exame_8  \\\n",
              "0    1.097064 -2.073335  1.269934  0.984375  1.568466  3.283515  2.652874   \n",
              "1    1.829821 -0.353632  1.685955  1.908708 -0.826962 -0.487072 -0.023846   \n",
              "2    1.579888  0.456187  1.566503  1.558884  0.942210  1.052926  1.363478   \n",
              "3   -0.768909  0.253732 -0.592687 -0.764464  3.283553  3.402909  1.915897   \n",
              "4    1.750297 -1.151816  1.776573  1.826229  0.280372  0.539340  1.371011   \n",
              "..        ...       ...       ...       ...       ...       ...       ...   \n",
              "564  2.110995  0.721473  2.060786  2.343856  1.041842  0.219060  1.947285   \n",
              "565  1.704854  2.085134  1.615931  1.723842  0.102458 -0.017833  0.693043   \n",
              "566  0.702284  2.045574  0.672676  0.577953 -0.840484 -0.038680  0.046588   \n",
              "567  1.838341  2.336457  1.982524  1.735218  1.525767  3.272144  3.296944   \n",
              "568 -1.808401  1.221792 -1.814389 -1.347789 -3.112085 -1.150752 -1.114873   \n",
              "\n",
              "      exame_9  exame_10  exame_11  ...  exame_22  exame_23  exame_24  \\\n",
              "0    2.532475  2.217515  2.255747  ...  1.886690 -1.359293  2.303601   \n",
              "1    0.548144  0.001392 -0.868652  ...  1.805927 -0.369203  1.535126   \n",
              "2    2.037231  0.939685 -0.398008  ...  1.511870 -0.023974  1.347475   \n",
              "3    1.451707  2.867383  4.910919  ... -0.281464  0.133984 -0.249939   \n",
              "4    1.428493 -0.009560 -0.562450  ...  1.298575 -1.466770  1.338539   \n",
              "..        ...       ...       ...  ...       ...       ...       ...   \n",
              "564  2.320965 -0.312589 -0.931027  ...  1.901185  0.117700  1.752563   \n",
              "565  1.263669 -0.217664 -1.058611  ...  1.536720  2.047399  1.421940   \n",
              "566  0.105777 -0.809117 -0.895587  ...  0.561361  1.374854  0.579001   \n",
              "567  2.658866  2.137194  1.043695  ...  1.961239  2.237926  2.303601   \n",
              "568 -1.261820 -0.820070 -0.561032  ... -1.410893  0.764190 -1.432735   \n",
              "\n",
              "     exame_25  exame_26  exame_27  exame_28  exame_30  exame_31  exame_32  \n",
              "0    2.001237  1.307686  2.616665  2.109526  2.296076  2.750622  1.937015  \n",
              "1    1.890489 -0.375612 -0.430444 -0.146749  1.087084 -0.243890  0.281190  \n",
              "2    1.456285  0.527407  1.082932  0.854974  1.955000  1.152255  0.201391  \n",
              "3   -0.550021  3.394275  3.893397  1.989588  2.175786  6.046041  4.935010  \n",
              "4    1.220724  0.220556 -0.313395  0.613179  0.729259 -0.868353 -0.397100  \n",
              "..        ...       ...       ...       ...       ...       ...       ...  \n",
              "564  2.015301  0.378365 -0.273318  0.664512  1.629151 -1.360158 -0.709091  \n",
              "565  1.494959 -0.691230 -0.394820  0.236573  0.733827 -0.531855 -0.973978  \n",
              "566  0.427906 -0.809587  0.350735  0.326767  0.414069 -1.104549 -0.318409  \n",
              "567  1.653171  1.430427  3.904848  3.197605  2.289985  1.919083  2.219635  \n",
              "568 -1.075813 -1.859019 -1.207552 -1.305831 -1.745063 -0.048138 -0.751207  \n",
              "\n",
              "[569 rows x 30 columns]"
            ],
            "text/html": [
              "\n",
              "  <div id=\"df-86119003-cc37-4ea6-902e-71c46d47f169\">\n",
              "    <div class=\"colab-df-container\">\n",
              "      <div>\n",
              "<style scoped>\n",
              "    .dataframe tbody tr th:only-of-type {\n",
              "        vertical-align: middle;\n",
              "    }\n",
              "\n",
              "    .dataframe tbody tr th {\n",
              "        vertical-align: top;\n",
              "    }\n",
              "\n",
              "    .dataframe thead th {\n",
              "        text-align: right;\n",
              "    }\n",
              "</style>\n",
              "<table border=\"1\" class=\"dataframe\">\n",
              "  <thead>\n",
              "    <tr style=\"text-align: right;\">\n",
              "      <th></th>\n",
              "      <th>exame_1</th>\n",
              "      <th>exame_2</th>\n",
              "      <th>exame_3</th>\n",
              "      <th>exame_5</th>\n",
              "      <th>exame_6</th>\n",
              "      <th>exame_7</th>\n",
              "      <th>exame_8</th>\n",
              "      <th>exame_9</th>\n",
              "      <th>exame_10</th>\n",
              "      <th>exame_11</th>\n",
              "      <th>...</th>\n",
              "      <th>exame_22</th>\n",
              "      <th>exame_23</th>\n",
              "      <th>exame_24</th>\n",
              "      <th>exame_25</th>\n",
              "      <th>exame_26</th>\n",
              "      <th>exame_27</th>\n",
              "      <th>exame_28</th>\n",
              "      <th>exame_30</th>\n",
              "      <th>exame_31</th>\n",
              "      <th>exame_32</th>\n",
              "    </tr>\n",
              "  </thead>\n",
              "  <tbody>\n",
              "    <tr>\n",
              "      <th>0</th>\n",
              "      <td>1.097064</td>\n",
              "      <td>-2.073335</td>\n",
              "      <td>1.269934</td>\n",
              "      <td>0.984375</td>\n",
              "      <td>1.568466</td>\n",
              "      <td>3.283515</td>\n",
              "      <td>2.652874</td>\n",
              "      <td>2.532475</td>\n",
              "      <td>2.217515</td>\n",
              "      <td>2.255747</td>\n",
              "      <td>...</td>\n",
              "      <td>1.886690</td>\n",
              "      <td>-1.359293</td>\n",
              "      <td>2.303601</td>\n",
              "      <td>2.001237</td>\n",
              "      <td>1.307686</td>\n",
              "      <td>2.616665</td>\n",
              "      <td>2.109526</td>\n",
              "      <td>2.296076</td>\n",
              "      <td>2.750622</td>\n",
              "      <td>1.937015</td>\n",
              "    </tr>\n",
              "    <tr>\n",
              "      <th>1</th>\n",
              "      <td>1.829821</td>\n",
              "      <td>-0.353632</td>\n",
              "      <td>1.685955</td>\n",
              "      <td>1.908708</td>\n",
              "      <td>-0.826962</td>\n",
              "      <td>-0.487072</td>\n",
              "      <td>-0.023846</td>\n",
              "      <td>0.548144</td>\n",
              "      <td>0.001392</td>\n",
              "      <td>-0.868652</td>\n",
              "      <td>...</td>\n",
              "      <td>1.805927</td>\n",
              "      <td>-0.369203</td>\n",
              "      <td>1.535126</td>\n",
              "      <td>1.890489</td>\n",
              "      <td>-0.375612</td>\n",
              "      <td>-0.430444</td>\n",
              "      <td>-0.146749</td>\n",
              "      <td>1.087084</td>\n",
              "      <td>-0.243890</td>\n",
              "      <td>0.281190</td>\n",
              "    </tr>\n",
              "    <tr>\n",
              "      <th>2</th>\n",
              "      <td>1.579888</td>\n",
              "      <td>0.456187</td>\n",
              "      <td>1.566503</td>\n",
              "      <td>1.558884</td>\n",
              "      <td>0.942210</td>\n",
              "      <td>1.052926</td>\n",
              "      <td>1.363478</td>\n",
              "      <td>2.037231</td>\n",
              "      <td>0.939685</td>\n",
              "      <td>-0.398008</td>\n",
              "      <td>...</td>\n",
              "      <td>1.511870</td>\n",
              "      <td>-0.023974</td>\n",
              "      <td>1.347475</td>\n",
              "      <td>1.456285</td>\n",
              "      <td>0.527407</td>\n",
              "      <td>1.082932</td>\n",
              "      <td>0.854974</td>\n",
              "      <td>1.955000</td>\n",
              "      <td>1.152255</td>\n",
              "      <td>0.201391</td>\n",
              "    </tr>\n",
              "    <tr>\n",
              "      <th>3</th>\n",
              "      <td>-0.768909</td>\n",
              "      <td>0.253732</td>\n",
              "      <td>-0.592687</td>\n",
              "      <td>-0.764464</td>\n",
              "      <td>3.283553</td>\n",
              "      <td>3.402909</td>\n",
              "      <td>1.915897</td>\n",
              "      <td>1.451707</td>\n",
              "      <td>2.867383</td>\n",
              "      <td>4.910919</td>\n",
              "      <td>...</td>\n",
              "      <td>-0.281464</td>\n",
              "      <td>0.133984</td>\n",
              "      <td>-0.249939</td>\n",
              "      <td>-0.550021</td>\n",
              "      <td>3.394275</td>\n",
              "      <td>3.893397</td>\n",
              "      <td>1.989588</td>\n",
              "      <td>2.175786</td>\n",
              "      <td>6.046041</td>\n",
              "      <td>4.935010</td>\n",
              "    </tr>\n",
              "    <tr>\n",
              "      <th>4</th>\n",
              "      <td>1.750297</td>\n",
              "      <td>-1.151816</td>\n",
              "      <td>1.776573</td>\n",
              "      <td>1.826229</td>\n",
              "      <td>0.280372</td>\n",
              "      <td>0.539340</td>\n",
              "      <td>1.371011</td>\n",
              "      <td>1.428493</td>\n",
              "      <td>-0.009560</td>\n",
              "      <td>-0.562450</td>\n",
              "      <td>...</td>\n",
              "      <td>1.298575</td>\n",
              "      <td>-1.466770</td>\n",
              "      <td>1.338539</td>\n",
              "      <td>1.220724</td>\n",
              "      <td>0.220556</td>\n",
              "      <td>-0.313395</td>\n",
              "      <td>0.613179</td>\n",
              "      <td>0.729259</td>\n",
              "      <td>-0.868353</td>\n",
              "      <td>-0.397100</td>\n",
              "    </tr>\n",
              "    <tr>\n",
              "      <th>...</th>\n",
              "      <td>...</td>\n",
              "      <td>...</td>\n",
              "      <td>...</td>\n",
              "      <td>...</td>\n",
              "      <td>...</td>\n",
              "      <td>...</td>\n",
              "      <td>...</td>\n",
              "      <td>...</td>\n",
              "      <td>...</td>\n",
              "      <td>...</td>\n",
              "      <td>...</td>\n",
              "      <td>...</td>\n",
              "      <td>...</td>\n",
              "      <td>...</td>\n",
              "      <td>...</td>\n",
              "      <td>...</td>\n",
              "      <td>...</td>\n",
              "      <td>...</td>\n",
              "      <td>...</td>\n",
              "      <td>...</td>\n",
              "      <td>...</td>\n",
              "    </tr>\n",
              "    <tr>\n",
              "      <th>564</th>\n",
              "      <td>2.110995</td>\n",
              "      <td>0.721473</td>\n",
              "      <td>2.060786</td>\n",
              "      <td>2.343856</td>\n",
              "      <td>1.041842</td>\n",
              "      <td>0.219060</td>\n",
              "      <td>1.947285</td>\n",
              "      <td>2.320965</td>\n",
              "      <td>-0.312589</td>\n",
              "      <td>-0.931027</td>\n",
              "      <td>...</td>\n",
              "      <td>1.901185</td>\n",
              "      <td>0.117700</td>\n",
              "      <td>1.752563</td>\n",
              "      <td>2.015301</td>\n",
              "      <td>0.378365</td>\n",
              "      <td>-0.273318</td>\n",
              "      <td>0.664512</td>\n",
              "      <td>1.629151</td>\n",
              "      <td>-1.360158</td>\n",
              "      <td>-0.709091</td>\n",
              "    </tr>\n",
              "    <tr>\n",
              "      <th>565</th>\n",
              "      <td>1.704854</td>\n",
              "      <td>2.085134</td>\n",
              "      <td>1.615931</td>\n",
              "      <td>1.723842</td>\n",
              "      <td>0.102458</td>\n",
              "      <td>-0.017833</td>\n",
              "      <td>0.693043</td>\n",
              "      <td>1.263669</td>\n",
              "      <td>-0.217664</td>\n",
              "      <td>-1.058611</td>\n",
              "      <td>...</td>\n",
              "      <td>1.536720</td>\n",
              "      <td>2.047399</td>\n",
              "      <td>1.421940</td>\n",
              "      <td>1.494959</td>\n",
              "      <td>-0.691230</td>\n",
              "      <td>-0.394820</td>\n",
              "      <td>0.236573</td>\n",
              "      <td>0.733827</td>\n",
              "      <td>-0.531855</td>\n",
              "      <td>-0.973978</td>\n",
              "    </tr>\n",
              "    <tr>\n",
              "      <th>566</th>\n",
              "      <td>0.702284</td>\n",
              "      <td>2.045574</td>\n",
              "      <td>0.672676</td>\n",
              "      <td>0.577953</td>\n",
              "      <td>-0.840484</td>\n",
              "      <td>-0.038680</td>\n",
              "      <td>0.046588</td>\n",
              "      <td>0.105777</td>\n",
              "      <td>-0.809117</td>\n",
              "      <td>-0.895587</td>\n",
              "      <td>...</td>\n",
              "      <td>0.561361</td>\n",
              "      <td>1.374854</td>\n",
              "      <td>0.579001</td>\n",
              "      <td>0.427906</td>\n",
              "      <td>-0.809587</td>\n",
              "      <td>0.350735</td>\n",
              "      <td>0.326767</td>\n",
              "      <td>0.414069</td>\n",
              "      <td>-1.104549</td>\n",
              "      <td>-0.318409</td>\n",
              "    </tr>\n",
              "    <tr>\n",
              "      <th>567</th>\n",
              "      <td>1.838341</td>\n",
              "      <td>2.336457</td>\n",
              "      <td>1.982524</td>\n",
              "      <td>1.735218</td>\n",
              "      <td>1.525767</td>\n",
              "      <td>3.272144</td>\n",
              "      <td>3.296944</td>\n",
              "      <td>2.658866</td>\n",
              "      <td>2.137194</td>\n",
              "      <td>1.043695</td>\n",
              "      <td>...</td>\n",
              "      <td>1.961239</td>\n",
              "      <td>2.237926</td>\n",
              "      <td>2.303601</td>\n",
              "      <td>1.653171</td>\n",
              "      <td>1.430427</td>\n",
              "      <td>3.904848</td>\n",
              "      <td>3.197605</td>\n",
              "      <td>2.289985</td>\n",
              "      <td>1.919083</td>\n",
              "      <td>2.219635</td>\n",
              "    </tr>\n",
              "    <tr>\n",
              "      <th>568</th>\n",
              "      <td>-1.808401</td>\n",
              "      <td>1.221792</td>\n",
              "      <td>-1.814389</td>\n",
              "      <td>-1.347789</td>\n",
              "      <td>-3.112085</td>\n",
              "      <td>-1.150752</td>\n",
              "      <td>-1.114873</td>\n",
              "      <td>-1.261820</td>\n",
              "      <td>-0.820070</td>\n",
              "      <td>-0.561032</td>\n",
              "      <td>...</td>\n",
              "      <td>-1.410893</td>\n",
              "      <td>0.764190</td>\n",
              "      <td>-1.432735</td>\n",
              "      <td>-1.075813</td>\n",
              "      <td>-1.859019</td>\n",
              "      <td>-1.207552</td>\n",
              "      <td>-1.305831</td>\n",
              "      <td>-1.745063</td>\n",
              "      <td>-0.048138</td>\n",
              "      <td>-0.751207</td>\n",
              "    </tr>\n",
              "  </tbody>\n",
              "</table>\n",
              "<p>569 rows × 30 columns</p>\n",
              "</div>\n",
              "      <button class=\"colab-df-convert\" onclick=\"convertToInteractive('df-86119003-cc37-4ea6-902e-71c46d47f169')\"\n",
              "              title=\"Convert this dataframe to an interactive table.\"\n",
              "              style=\"display:none;\">\n",
              "        \n",
              "  <svg xmlns=\"http://www.w3.org/2000/svg\" height=\"24px\"viewBox=\"0 0 24 24\"\n",
              "       width=\"24px\">\n",
              "    <path d=\"M0 0h24v24H0V0z\" fill=\"none\"/>\n",
              "    <path d=\"M18.56 5.44l.94 2.06.94-2.06 2.06-.94-2.06-.94-.94-2.06-.94 2.06-2.06.94zm-11 1L8.5 8.5l.94-2.06 2.06-.94-2.06-.94L8.5 2.5l-.94 2.06-2.06.94zm10 10l.94 2.06.94-2.06 2.06-.94-2.06-.94-.94-2.06-.94 2.06-2.06.94z\"/><path d=\"M17.41 7.96l-1.37-1.37c-.4-.4-.92-.59-1.43-.59-.52 0-1.04.2-1.43.59L10.3 9.45l-7.72 7.72c-.78.78-.78 2.05 0 2.83L4 21.41c.39.39.9.59 1.41.59.51 0 1.02-.2 1.41-.59l7.78-7.78 2.81-2.81c.8-.78.8-2.07 0-2.86zM5.41 20L4 18.59l7.72-7.72 1.47 1.35L5.41 20z\"/>\n",
              "  </svg>\n",
              "      </button>\n",
              "      \n",
              "  <style>\n",
              "    .colab-df-container {\n",
              "      display:flex;\n",
              "      flex-wrap:wrap;\n",
              "      gap: 12px;\n",
              "    }\n",
              "\n",
              "    .colab-df-convert {\n",
              "      background-color: #E8F0FE;\n",
              "      border: none;\n",
              "      border-radius: 50%;\n",
              "      cursor: pointer;\n",
              "      display: none;\n",
              "      fill: #1967D2;\n",
              "      height: 32px;\n",
              "      padding: 0 0 0 0;\n",
              "      width: 32px;\n",
              "    }\n",
              "\n",
              "    .colab-df-convert:hover {\n",
              "      background-color: #E2EBFA;\n",
              "      box-shadow: 0px 1px 2px rgba(60, 64, 67, 0.3), 0px 1px 3px 1px rgba(60, 64, 67, 0.15);\n",
              "      fill: #174EA6;\n",
              "    }\n",
              "\n",
              "    [theme=dark] .colab-df-convert {\n",
              "      background-color: #3B4455;\n",
              "      fill: #D2E3FC;\n",
              "    }\n",
              "\n",
              "    [theme=dark] .colab-df-convert:hover {\n",
              "      background-color: #434B5C;\n",
              "      box-shadow: 0px 1px 3px 1px rgba(0, 0, 0, 0.15);\n",
              "      filter: drop-shadow(0px 1px 2px rgba(0, 0, 0, 0.3));\n",
              "      fill: #FFFFFF;\n",
              "    }\n",
              "  </style>\n",
              "\n",
              "      <script>\n",
              "        const buttonEl =\n",
              "          document.querySelector('#df-86119003-cc37-4ea6-902e-71c46d47f169 button.colab-df-convert');\n",
              "        buttonEl.style.display =\n",
              "          google.colab.kernel.accessAllowed ? 'block' : 'none';\n",
              "\n",
              "        async function convertToInteractive(key) {\n",
              "          const element = document.querySelector('#df-86119003-cc37-4ea6-902e-71c46d47f169');\n",
              "          const dataTable =\n",
              "            await google.colab.kernel.invokeFunction('convertToInteractive',\n",
              "                                                     [key], {});\n",
              "          if (!dataTable) return;\n",
              "\n",
              "          const docLinkHtml = 'Like what you see? Visit the ' +\n",
              "            '<a target=\"_blank\" href=https://colab.research.google.com/notebooks/data_table.ipynb>data table notebook</a>'\n",
              "            + ' to learn more about interactive tables.';\n",
              "          element.innerHTML = '';\n",
              "          dataTable['output_type'] = 'display_data';\n",
              "          await google.colab.output.renderOutput(dataTable, element);\n",
              "          const docLink = document.createElement('div');\n",
              "          docLink.innerHTML = docLinkHtml;\n",
              "          element.appendChild(docLink);\n",
              "        }\n",
              "      </script>\n",
              "    </div>\n",
              "  </div>\n",
              "  "
            ]
          },
          "metadata": {},
          "execution_count": 20
        }
      ]
    },
    {
      "cell_type": "markdown",
      "source": [
        "##Criando uma função classificadora"
      ],
      "metadata": {
        "id": "al3avplaARVx"
      }
    },
    {
      "cell_type": "code",
      "source": [
        "def classificar(valores):\n",
        "\n",
        "  SEED = 1234\n",
        "  random.seed(SEED)\n",
        "  treino_x, teste_x, treino_y, teste_y = train_test_split(valores, diagnostico, test_size = 0.3)\n",
        "\n",
        "  classificador = RandomForestClassifier(n_estimators = 100)\n",
        "  classificador.fit(treino_x, treino_y)\n",
        "\n",
        "  print('O modelo criado possui uma acurácia de:',round((classificador.score(teste_x, teste_y))*100,3),'%.')"
      ],
      "metadata": {
        "id": "sl4OMC7WAMJ5"
      },
      "execution_count": 21,
      "outputs": []
    },
    {
      "cell_type": "code",
      "source": [
        "classificar(valores_exames_v1)"
      ],
      "metadata": {
        "colab": {
          "base_uri": "https://localhost:8080/"
        },
        "id": "CtBpDHpzA8Ja",
        "outputId": "856d9080-abea-4468-8035-fc0c85445f41"
      },
      "execution_count": 22,
      "outputs": [
        {
          "output_type": "stream",
          "name": "stdout",
          "text": [
            "O modelo criado possui uma acurácia de: 97.076 %.\n"
          ]
        }
      ]
    },
    {
      "cell_type": "code",
      "source": [
        "classificar(valores_exames_v2)"
      ],
      "metadata": {
        "colab": {
          "base_uri": "https://localhost:8080/"
        },
        "id": "ne1HBTZ5A4vw",
        "outputId": "e1ca8700-2eaa-4bcf-be5c-dcb1303eac21"
      },
      "execution_count": 23,
      "outputs": [
        {
          "output_type": "stream",
          "name": "stdout",
          "text": [
            "O modelo criado possui uma acurácia de: 96.491 %.\n"
          ]
        }
      ]
    },
    {
      "cell_type": "code",
      "source": [
        "classificar(valores_exames_v3)"
      ],
      "metadata": {
        "colab": {
          "base_uri": "https://localhost:8080/"
        },
        "id": "C7PYIfcoAztQ",
        "outputId": "b8c2ae17-c111-4dea-e4b7-532a98c49913"
      },
      "execution_count": 24,
      "outputs": [
        {
          "output_type": "stream",
          "name": "stdout",
          "text": [
            "O modelo criado possui uma acurácia de: 97.076 %.\n"
          ]
        }
      ]
    },
    {
      "cell_type": "markdown",
      "source": [
        "#4 - Dados correlacionados"
      ],
      "metadata": {
        "id": "yKIm7QqdBu7X"
      }
    },
    {
      "cell_type": "markdown",
      "source": [
        "##Matriz de correlação"
      ],
      "metadata": {
        "id": "TwRz2ZUrBzHX"
      }
    },
    {
      "cell_type": "code",
      "source": [
        "df_correlacoes = valores_exames_v3.corr()\n",
        "df_correlacoes"
      ],
      "metadata": {
        "colab": {
          "base_uri": "https://localhost:8080/",
          "height": 1000
        },
        "id": "JqUpTumQA9ig",
        "outputId": "3ba2b643-4c3b-4732-f33e-cb2cec0bcf33"
      },
      "execution_count": 25,
      "outputs": [
        {
          "output_type": "execute_result",
          "data": {
            "text/plain": [
              "           exame_1   exame_2   exame_3   exame_5   exame_6   exame_7  \\\n",
              "exame_1   1.000000  0.323782  0.997855  0.987357  0.170581  0.506124   \n",
              "exame_2   0.323782  1.000000  0.329533  0.321086 -0.023389  0.236702   \n",
              "exame_3   0.997855  0.329533  1.000000  0.986507  0.207278  0.556936   \n",
              "exame_5   0.987357  0.321086  0.986507  1.000000  0.177028  0.498502   \n",
              "exame_6   0.170581 -0.023389  0.207278  0.177028  1.000000  0.659123   \n",
              "exame_7   0.506124  0.236702  0.556936  0.498502  0.659123  1.000000   \n",
              "exame_8   0.676764  0.302418  0.716136  0.685983  0.521984  0.883121   \n",
              "exame_9   0.822529  0.293464  0.850977  0.823269  0.553695  0.831135   \n",
              "exame_10  0.147741  0.071401  0.183027  0.151293  0.557775  0.602641   \n",
              "exame_11 -0.311631 -0.076437 -0.261477 -0.283110  0.584792  0.565369   \n",
              "exame_12  0.679090  0.275869  0.691765  0.732562  0.301467  0.497473   \n",
              "exame_13 -0.097317  0.386358 -0.086761 -0.066280  0.068406  0.046205   \n",
              "exame_14  0.674172  0.281673  0.693135  0.726628  0.296092  0.548905   \n",
              "exame_15  0.735864  0.259845  0.744983  0.800086  0.246552  0.455653   \n",
              "exame_16 -0.222600  0.006614 -0.202694 -0.166777  0.332375  0.135299   \n",
              "exame_17  0.206000  0.191975  0.250744  0.212583  0.318943  0.738722   \n",
              "exame_18  0.194204  0.143293  0.228082  0.207660  0.248396  0.570517   \n",
              "exame_19  0.376169  0.163851  0.407217  0.372320  0.380676  0.642262   \n",
              "exame_20 -0.104321  0.009127 -0.081629 -0.072497  0.200774  0.229977   \n",
              "exame_21 -0.042641  0.054458 -0.005523 -0.019887  0.283607  0.507318   \n",
              "exame_22  0.969539  0.352573  0.969476  0.962746  0.213120  0.535315   \n",
              "exame_23  0.297008  0.912045  0.303038  0.287489  0.036072  0.248133   \n",
              "exame_24  0.965137  0.358040  0.970387  0.959120  0.238853  0.590210   \n",
              "exame_25  0.941082  0.343546  0.941550  0.959213  0.206718  0.509604   \n",
              "exame_26  0.119616  0.077503  0.150549  0.123523  0.805324  0.565541   \n",
              "exame_27  0.413463  0.277830  0.455774  0.390410  0.472468  0.865809   \n",
              "exame_28  0.526911  0.301025  0.563879  0.512606  0.434926  0.816275   \n",
              "exame_30  0.744214  0.295316  0.771241  0.722017  0.503053  0.815573   \n",
              "exame_31  0.163953  0.105008  0.189115  0.143570  0.394309  0.510223   \n",
              "exame_32  0.007066  0.119205  0.051019  0.003738  0.499316  0.687382   \n",
              "\n",
              "           exame_8   exame_9  exame_10  exame_11  ...  exame_22  exame_23  \\\n",
              "exame_1   0.676764  0.822529  0.147741 -0.311631  ...  0.969539  0.297008   \n",
              "exame_2   0.302418  0.293464  0.071401 -0.076437  ...  0.352573  0.912045   \n",
              "exame_3   0.716136  0.850977  0.183027 -0.261477  ...  0.969476  0.303038   \n",
              "exame_5   0.685983  0.823269  0.151293 -0.283110  ...  0.962746  0.287489   \n",
              "exame_6   0.521984  0.553695  0.557775  0.584792  ...  0.213120  0.036072   \n",
              "exame_7   0.883121  0.831135  0.602641  0.565369  ...  0.535315  0.248133   \n",
              "exame_8   1.000000  0.921391  0.500667  0.336783  ...  0.688236  0.299879   \n",
              "exame_9   0.921391  1.000000  0.462497  0.166917  ...  0.830318  0.292752   \n",
              "exame_10  0.500667  0.462497  1.000000  0.479921  ...  0.185728  0.090651   \n",
              "exame_11  0.336783  0.166917  0.479921  1.000000  ... -0.253691 -0.051269   \n",
              "exame_12  0.631925  0.698050  0.303379  0.000111  ...  0.715065  0.194799   \n",
              "exame_13  0.076218  0.021480  0.128053  0.164174  ... -0.111690  0.409003   \n",
              "exame_14  0.660391  0.710650  0.313893  0.039830  ...  0.697201  0.200371   \n",
              "exame_15  0.617427  0.690299  0.223970 -0.090170  ...  0.757373  0.196497   \n",
              "exame_16  0.098564  0.027653  0.187321  0.401964  ... -0.230691 -0.074743   \n",
              "exame_17  0.670279  0.490424  0.421659  0.559837  ...  0.204607  0.143003   \n",
              "exame_18  0.691270  0.439167  0.342627  0.446630  ...  0.186904  0.100241   \n",
              "exame_19  0.683260  0.615634  0.393298  0.341198  ...  0.358127  0.086741   \n",
              "exame_20  0.178009  0.095351  0.449137  0.345007  ... -0.128121 -0.077473   \n",
              "exame_21  0.449301  0.257584  0.331786  0.688132  ... -0.037488 -0.003195   \n",
              "exame_22  0.688236  0.830318  0.185728 -0.253691  ...  1.000000  0.359921   \n",
              "exame_23  0.299879  0.292752  0.090651 -0.051269  ...  0.359921  1.000000   \n",
              "exame_24  0.729565  0.855923  0.219169 -0.205151  ...  0.993708  0.365098   \n",
              "exame_25  0.675987  0.809630  0.177193 -0.231854  ...  0.984015  0.345842   \n",
              "exame_26  0.448822  0.452753  0.426675  0.504942  ...  0.216574  0.225429   \n",
              "exame_27  0.754968  0.667454  0.473200  0.458798  ...  0.475820  0.360832   \n",
              "exame_28  0.884103  0.752399  0.433721  0.346234  ...  0.573975  0.368366   \n",
              "exame_30  0.861323  0.910155  0.430297  0.175325  ...  0.787424  0.359755   \n",
              "exame_31  0.409464  0.375744  0.699826  0.334019  ...  0.243529  0.233027   \n",
              "exame_32  0.514930  0.368661  0.438413  0.767297  ...  0.093492  0.219122   \n",
              "\n",
              "          exame_24  exame_25  exame_26  exame_27  exame_28  exame_30  \\\n",
              "exame_1   0.965137  0.941082  0.119616  0.413463  0.526911  0.744214   \n",
              "exame_2   0.358040  0.343546  0.077503  0.277830  0.301025  0.295316   \n",
              "exame_3   0.970387  0.941550  0.150549  0.455774  0.563879  0.771241   \n",
              "exame_5   0.959120  0.959213  0.123523  0.390410  0.512606  0.722017   \n",
              "exame_6   0.238853  0.206718  0.805324  0.472468  0.434926  0.503053   \n",
              "exame_7   0.590210  0.509604  0.565541  0.865809  0.816275  0.815573   \n",
              "exame_8   0.729565  0.675987  0.448822  0.754968  0.884103  0.861323   \n",
              "exame_9   0.855923  0.809630  0.452753  0.667454  0.752399  0.910155   \n",
              "exame_10  0.219169  0.177193  0.426675  0.473200  0.433721  0.430297   \n",
              "exame_11 -0.205151 -0.231854  0.504942  0.458798  0.346234  0.175325   \n",
              "exame_12  0.719684  0.751548  0.141919  0.287103  0.380585  0.531062   \n",
              "exame_13 -0.102242 -0.083195 -0.073658 -0.092439 -0.068956 -0.119638   \n",
              "exame_14  0.721031  0.730713  0.130054  0.341919  0.418899  0.554897   \n",
              "exame_15  0.761213  0.811408  0.125389  0.283257  0.385100  0.538166   \n",
              "exame_16 -0.217304 -0.182195  0.314457 -0.055558 -0.058298 -0.102007   \n",
              "exame_17  0.260516  0.199371  0.227394  0.678780  0.639147  0.483208   \n",
              "exame_18  0.226680  0.188353  0.168481  0.484858  0.662564  0.440472   \n",
              "exame_19  0.394999  0.342271  0.215351  0.452888  0.549592  0.602450   \n",
              "exame_20 -0.103753 -0.110343 -0.012662  0.060255  0.037119 -0.030413   \n",
              "exame_21 -0.001000 -0.022736  0.170568  0.390159  0.379975  0.215204   \n",
              "exame_22  0.993708  0.984015  0.216574  0.475820  0.573975  0.787424   \n",
              "exame_23  0.365098  0.345842  0.225429  0.360832  0.368366  0.359755   \n",
              "exame_24  1.000000  0.977578  0.236775  0.529408  0.618344  0.816322   \n",
              "exame_25  0.977578  1.000000  0.209145  0.438296  0.543331  0.747419   \n",
              "exame_26  0.236775  0.209145  1.000000  0.568187  0.518523  0.547691   \n",
              "exame_27  0.529408  0.438296  0.568187  1.000000  0.892261  0.801080   \n",
              "exame_28  0.618344  0.543331  0.518523  0.892261  1.000000  0.855434   \n",
              "exame_30  0.816322  0.747419  0.547691  0.801080  0.855434  1.000000   \n",
              "exame_31  0.269493  0.209146  0.493838  0.614441  0.532520  0.502528   \n",
              "exame_32  0.138957  0.079647  0.617624  0.810455  0.686511  0.511114   \n",
              "\n",
              "          exame_31  exame_32  \n",
              "exame_1   0.163953  0.007066  \n",
              "exame_2   0.105008  0.119205  \n",
              "exame_3   0.189115  0.051019  \n",
              "exame_5   0.143570  0.003738  \n",
              "exame_6   0.394309  0.499316  \n",
              "exame_7   0.510223  0.687382  \n",
              "exame_8   0.409464  0.514930  \n",
              "exame_9   0.375744  0.368661  \n",
              "exame_10  0.699826  0.438413  \n",
              "exame_11  0.334019  0.767297  \n",
              "exame_12  0.094543  0.049559  \n",
              "exame_13 -0.128215 -0.045655  \n",
              "exame_14  0.109930  0.085433  \n",
              "exame_15  0.074126  0.017539  \n",
              "exame_16 -0.107342  0.101480  \n",
              "exame_17  0.277878  0.590973  \n",
              "exame_18  0.197788  0.439329  \n",
              "exame_19  0.143116  0.310655  \n",
              "exame_20  0.389402  0.078079  \n",
              "exame_21  0.111094  0.591328  \n",
              "exame_22  0.243529  0.093492  \n",
              "exame_23  0.233027  0.219122  \n",
              "exame_24  0.269493  0.138957  \n",
              "exame_25  0.209146  0.079647  \n",
              "exame_26  0.493838  0.617624  \n",
              "exame_27  0.614441  0.810455  \n",
              "exame_28  0.532520  0.686511  \n",
              "exame_30  0.502528  0.511114  \n",
              "exame_31  1.000000  0.537848  \n",
              "exame_32  0.537848  1.000000  \n",
              "\n",
              "[30 rows x 30 columns]"
            ],
            "text/html": [
              "\n",
              "  <div id=\"df-8d791f6d-5605-42c5-950e-a93a07361df8\">\n",
              "    <div class=\"colab-df-container\">\n",
              "      <div>\n",
              "<style scoped>\n",
              "    .dataframe tbody tr th:only-of-type {\n",
              "        vertical-align: middle;\n",
              "    }\n",
              "\n",
              "    .dataframe tbody tr th {\n",
              "        vertical-align: top;\n",
              "    }\n",
              "\n",
              "    .dataframe thead th {\n",
              "        text-align: right;\n",
              "    }\n",
              "</style>\n",
              "<table border=\"1\" class=\"dataframe\">\n",
              "  <thead>\n",
              "    <tr style=\"text-align: right;\">\n",
              "      <th></th>\n",
              "      <th>exame_1</th>\n",
              "      <th>exame_2</th>\n",
              "      <th>exame_3</th>\n",
              "      <th>exame_5</th>\n",
              "      <th>exame_6</th>\n",
              "      <th>exame_7</th>\n",
              "      <th>exame_8</th>\n",
              "      <th>exame_9</th>\n",
              "      <th>exame_10</th>\n",
              "      <th>exame_11</th>\n",
              "      <th>...</th>\n",
              "      <th>exame_22</th>\n",
              "      <th>exame_23</th>\n",
              "      <th>exame_24</th>\n",
              "      <th>exame_25</th>\n",
              "      <th>exame_26</th>\n",
              "      <th>exame_27</th>\n",
              "      <th>exame_28</th>\n",
              "      <th>exame_30</th>\n",
              "      <th>exame_31</th>\n",
              "      <th>exame_32</th>\n",
              "    </tr>\n",
              "  </thead>\n",
              "  <tbody>\n",
              "    <tr>\n",
              "      <th>exame_1</th>\n",
              "      <td>1.000000</td>\n",
              "      <td>0.323782</td>\n",
              "      <td>0.997855</td>\n",
              "      <td>0.987357</td>\n",
              "      <td>0.170581</td>\n",
              "      <td>0.506124</td>\n",
              "      <td>0.676764</td>\n",
              "      <td>0.822529</td>\n",
              "      <td>0.147741</td>\n",
              "      <td>-0.311631</td>\n",
              "      <td>...</td>\n",
              "      <td>0.969539</td>\n",
              "      <td>0.297008</td>\n",
              "      <td>0.965137</td>\n",
              "      <td>0.941082</td>\n",
              "      <td>0.119616</td>\n",
              "      <td>0.413463</td>\n",
              "      <td>0.526911</td>\n",
              "      <td>0.744214</td>\n",
              "      <td>0.163953</td>\n",
              "      <td>0.007066</td>\n",
              "    </tr>\n",
              "    <tr>\n",
              "      <th>exame_2</th>\n",
              "      <td>0.323782</td>\n",
              "      <td>1.000000</td>\n",
              "      <td>0.329533</td>\n",
              "      <td>0.321086</td>\n",
              "      <td>-0.023389</td>\n",
              "      <td>0.236702</td>\n",
              "      <td>0.302418</td>\n",
              "      <td>0.293464</td>\n",
              "      <td>0.071401</td>\n",
              "      <td>-0.076437</td>\n",
              "      <td>...</td>\n",
              "      <td>0.352573</td>\n",
              "      <td>0.912045</td>\n",
              "      <td>0.358040</td>\n",
              "      <td>0.343546</td>\n",
              "      <td>0.077503</td>\n",
              "      <td>0.277830</td>\n",
              "      <td>0.301025</td>\n",
              "      <td>0.295316</td>\n",
              "      <td>0.105008</td>\n",
              "      <td>0.119205</td>\n",
              "    </tr>\n",
              "    <tr>\n",
              "      <th>exame_3</th>\n",
              "      <td>0.997855</td>\n",
              "      <td>0.329533</td>\n",
              "      <td>1.000000</td>\n",
              "      <td>0.986507</td>\n",
              "      <td>0.207278</td>\n",
              "      <td>0.556936</td>\n",
              "      <td>0.716136</td>\n",
              "      <td>0.850977</td>\n",
              "      <td>0.183027</td>\n",
              "      <td>-0.261477</td>\n",
              "      <td>...</td>\n",
              "      <td>0.969476</td>\n",
              "      <td>0.303038</td>\n",
              "      <td>0.970387</td>\n",
              "      <td>0.941550</td>\n",
              "      <td>0.150549</td>\n",
              "      <td>0.455774</td>\n",
              "      <td>0.563879</td>\n",
              "      <td>0.771241</td>\n",
              "      <td>0.189115</td>\n",
              "      <td>0.051019</td>\n",
              "    </tr>\n",
              "    <tr>\n",
              "      <th>exame_5</th>\n",
              "      <td>0.987357</td>\n",
              "      <td>0.321086</td>\n",
              "      <td>0.986507</td>\n",
              "      <td>1.000000</td>\n",
              "      <td>0.177028</td>\n",
              "      <td>0.498502</td>\n",
              "      <td>0.685983</td>\n",
              "      <td>0.823269</td>\n",
              "      <td>0.151293</td>\n",
              "      <td>-0.283110</td>\n",
              "      <td>...</td>\n",
              "      <td>0.962746</td>\n",
              "      <td>0.287489</td>\n",
              "      <td>0.959120</td>\n",
              "      <td>0.959213</td>\n",
              "      <td>0.123523</td>\n",
              "      <td>0.390410</td>\n",
              "      <td>0.512606</td>\n",
              "      <td>0.722017</td>\n",
              "      <td>0.143570</td>\n",
              "      <td>0.003738</td>\n",
              "    </tr>\n",
              "    <tr>\n",
              "      <th>exame_6</th>\n",
              "      <td>0.170581</td>\n",
              "      <td>-0.023389</td>\n",
              "      <td>0.207278</td>\n",
              "      <td>0.177028</td>\n",
              "      <td>1.000000</td>\n",
              "      <td>0.659123</td>\n",
              "      <td>0.521984</td>\n",
              "      <td>0.553695</td>\n",
              "      <td>0.557775</td>\n",
              "      <td>0.584792</td>\n",
              "      <td>...</td>\n",
              "      <td>0.213120</td>\n",
              "      <td>0.036072</td>\n",
              "      <td>0.238853</td>\n",
              "      <td>0.206718</td>\n",
              "      <td>0.805324</td>\n",
              "      <td>0.472468</td>\n",
              "      <td>0.434926</td>\n",
              "      <td>0.503053</td>\n",
              "      <td>0.394309</td>\n",
              "      <td>0.499316</td>\n",
              "    </tr>\n",
              "    <tr>\n",
              "      <th>exame_7</th>\n",
              "      <td>0.506124</td>\n",
              "      <td>0.236702</td>\n",
              "      <td>0.556936</td>\n",
              "      <td>0.498502</td>\n",
              "      <td>0.659123</td>\n",
              "      <td>1.000000</td>\n",
              "      <td>0.883121</td>\n",
              "      <td>0.831135</td>\n",
              "      <td>0.602641</td>\n",
              "      <td>0.565369</td>\n",
              "      <td>...</td>\n",
              "      <td>0.535315</td>\n",
              "      <td>0.248133</td>\n",
              "      <td>0.590210</td>\n",
              "      <td>0.509604</td>\n",
              "      <td>0.565541</td>\n",
              "      <td>0.865809</td>\n",
              "      <td>0.816275</td>\n",
              "      <td>0.815573</td>\n",
              "      <td>0.510223</td>\n",
              "      <td>0.687382</td>\n",
              "    </tr>\n",
              "    <tr>\n",
              "      <th>exame_8</th>\n",
              "      <td>0.676764</td>\n",
              "      <td>0.302418</td>\n",
              "      <td>0.716136</td>\n",
              "      <td>0.685983</td>\n",
              "      <td>0.521984</td>\n",
              "      <td>0.883121</td>\n",
              "      <td>1.000000</td>\n",
              "      <td>0.921391</td>\n",
              "      <td>0.500667</td>\n",
              "      <td>0.336783</td>\n",
              "      <td>...</td>\n",
              "      <td>0.688236</td>\n",
              "      <td>0.299879</td>\n",
              "      <td>0.729565</td>\n",
              "      <td>0.675987</td>\n",
              "      <td>0.448822</td>\n",
              "      <td>0.754968</td>\n",
              "      <td>0.884103</td>\n",
              "      <td>0.861323</td>\n",
              "      <td>0.409464</td>\n",
              "      <td>0.514930</td>\n",
              "    </tr>\n",
              "    <tr>\n",
              "      <th>exame_9</th>\n",
              "      <td>0.822529</td>\n",
              "      <td>0.293464</td>\n",
              "      <td>0.850977</td>\n",
              "      <td>0.823269</td>\n",
              "      <td>0.553695</td>\n",
              "      <td>0.831135</td>\n",
              "      <td>0.921391</td>\n",
              "      <td>1.000000</td>\n",
              "      <td>0.462497</td>\n",
              "      <td>0.166917</td>\n",
              "      <td>...</td>\n",
              "      <td>0.830318</td>\n",
              "      <td>0.292752</td>\n",
              "      <td>0.855923</td>\n",
              "      <td>0.809630</td>\n",
              "      <td>0.452753</td>\n",
              "      <td>0.667454</td>\n",
              "      <td>0.752399</td>\n",
              "      <td>0.910155</td>\n",
              "      <td>0.375744</td>\n",
              "      <td>0.368661</td>\n",
              "    </tr>\n",
              "    <tr>\n",
              "      <th>exame_10</th>\n",
              "      <td>0.147741</td>\n",
              "      <td>0.071401</td>\n",
              "      <td>0.183027</td>\n",
              "      <td>0.151293</td>\n",
              "      <td>0.557775</td>\n",
              "      <td>0.602641</td>\n",
              "      <td>0.500667</td>\n",
              "      <td>0.462497</td>\n",
              "      <td>1.000000</td>\n",
              "      <td>0.479921</td>\n",
              "      <td>...</td>\n",
              "      <td>0.185728</td>\n",
              "      <td>0.090651</td>\n",
              "      <td>0.219169</td>\n",
              "      <td>0.177193</td>\n",
              "      <td>0.426675</td>\n",
              "      <td>0.473200</td>\n",
              "      <td>0.433721</td>\n",
              "      <td>0.430297</td>\n",
              "      <td>0.699826</td>\n",
              "      <td>0.438413</td>\n",
              "    </tr>\n",
              "    <tr>\n",
              "      <th>exame_11</th>\n",
              "      <td>-0.311631</td>\n",
              "      <td>-0.076437</td>\n",
              "      <td>-0.261477</td>\n",
              "      <td>-0.283110</td>\n",
              "      <td>0.584792</td>\n",
              "      <td>0.565369</td>\n",
              "      <td>0.336783</td>\n",
              "      <td>0.166917</td>\n",
              "      <td>0.479921</td>\n",
              "      <td>1.000000</td>\n",
              "      <td>...</td>\n",
              "      <td>-0.253691</td>\n",
              "      <td>-0.051269</td>\n",
              "      <td>-0.205151</td>\n",
              "      <td>-0.231854</td>\n",
              "      <td>0.504942</td>\n",
              "      <td>0.458798</td>\n",
              "      <td>0.346234</td>\n",
              "      <td>0.175325</td>\n",
              "      <td>0.334019</td>\n",
              "      <td>0.767297</td>\n",
              "    </tr>\n",
              "    <tr>\n",
              "      <th>exame_12</th>\n",
              "      <td>0.679090</td>\n",
              "      <td>0.275869</td>\n",
              "      <td>0.691765</td>\n",
              "      <td>0.732562</td>\n",
              "      <td>0.301467</td>\n",
              "      <td>0.497473</td>\n",
              "      <td>0.631925</td>\n",
              "      <td>0.698050</td>\n",
              "      <td>0.303379</td>\n",
              "      <td>0.000111</td>\n",
              "      <td>...</td>\n",
              "      <td>0.715065</td>\n",
              "      <td>0.194799</td>\n",
              "      <td>0.719684</td>\n",
              "      <td>0.751548</td>\n",
              "      <td>0.141919</td>\n",
              "      <td>0.287103</td>\n",
              "      <td>0.380585</td>\n",
              "      <td>0.531062</td>\n",
              "      <td>0.094543</td>\n",
              "      <td>0.049559</td>\n",
              "    </tr>\n",
              "    <tr>\n",
              "      <th>exame_13</th>\n",
              "      <td>-0.097317</td>\n",
              "      <td>0.386358</td>\n",
              "      <td>-0.086761</td>\n",
              "      <td>-0.066280</td>\n",
              "      <td>0.068406</td>\n",
              "      <td>0.046205</td>\n",
              "      <td>0.076218</td>\n",
              "      <td>0.021480</td>\n",
              "      <td>0.128053</td>\n",
              "      <td>0.164174</td>\n",
              "      <td>...</td>\n",
              "      <td>-0.111690</td>\n",
              "      <td>0.409003</td>\n",
              "      <td>-0.102242</td>\n",
              "      <td>-0.083195</td>\n",
              "      <td>-0.073658</td>\n",
              "      <td>-0.092439</td>\n",
              "      <td>-0.068956</td>\n",
              "      <td>-0.119638</td>\n",
              "      <td>-0.128215</td>\n",
              "      <td>-0.045655</td>\n",
              "    </tr>\n",
              "    <tr>\n",
              "      <th>exame_14</th>\n",
              "      <td>0.674172</td>\n",
              "      <td>0.281673</td>\n",
              "      <td>0.693135</td>\n",
              "      <td>0.726628</td>\n",
              "      <td>0.296092</td>\n",
              "      <td>0.548905</td>\n",
              "      <td>0.660391</td>\n",
              "      <td>0.710650</td>\n",
              "      <td>0.313893</td>\n",
              "      <td>0.039830</td>\n",
              "      <td>...</td>\n",
              "      <td>0.697201</td>\n",
              "      <td>0.200371</td>\n",
              "      <td>0.721031</td>\n",
              "      <td>0.730713</td>\n",
              "      <td>0.130054</td>\n",
              "      <td>0.341919</td>\n",
              "      <td>0.418899</td>\n",
              "      <td>0.554897</td>\n",
              "      <td>0.109930</td>\n",
              "      <td>0.085433</td>\n",
              "    </tr>\n",
              "    <tr>\n",
              "      <th>exame_15</th>\n",
              "      <td>0.735864</td>\n",
              "      <td>0.259845</td>\n",
              "      <td>0.744983</td>\n",
              "      <td>0.800086</td>\n",
              "      <td>0.246552</td>\n",
              "      <td>0.455653</td>\n",
              "      <td>0.617427</td>\n",
              "      <td>0.690299</td>\n",
              "      <td>0.223970</td>\n",
              "      <td>-0.090170</td>\n",
              "      <td>...</td>\n",
              "      <td>0.757373</td>\n",
              "      <td>0.196497</td>\n",
              "      <td>0.761213</td>\n",
              "      <td>0.811408</td>\n",
              "      <td>0.125389</td>\n",
              "      <td>0.283257</td>\n",
              "      <td>0.385100</td>\n",
              "      <td>0.538166</td>\n",
              "      <td>0.074126</td>\n",
              "      <td>0.017539</td>\n",
              "    </tr>\n",
              "    <tr>\n",
              "      <th>exame_16</th>\n",
              "      <td>-0.222600</td>\n",
              "      <td>0.006614</td>\n",
              "      <td>-0.202694</td>\n",
              "      <td>-0.166777</td>\n",
              "      <td>0.332375</td>\n",
              "      <td>0.135299</td>\n",
              "      <td>0.098564</td>\n",
              "      <td>0.027653</td>\n",
              "      <td>0.187321</td>\n",
              "      <td>0.401964</td>\n",
              "      <td>...</td>\n",
              "      <td>-0.230691</td>\n",
              "      <td>-0.074743</td>\n",
              "      <td>-0.217304</td>\n",
              "      <td>-0.182195</td>\n",
              "      <td>0.314457</td>\n",
              "      <td>-0.055558</td>\n",
              "      <td>-0.058298</td>\n",
              "      <td>-0.102007</td>\n",
              "      <td>-0.107342</td>\n",
              "      <td>0.101480</td>\n",
              "    </tr>\n",
              "    <tr>\n",
              "      <th>exame_17</th>\n",
              "      <td>0.206000</td>\n",
              "      <td>0.191975</td>\n",
              "      <td>0.250744</td>\n",
              "      <td>0.212583</td>\n",
              "      <td>0.318943</td>\n",
              "      <td>0.738722</td>\n",
              "      <td>0.670279</td>\n",
              "      <td>0.490424</td>\n",
              "      <td>0.421659</td>\n",
              "      <td>0.559837</td>\n",
              "      <td>...</td>\n",
              "      <td>0.204607</td>\n",
              "      <td>0.143003</td>\n",
              "      <td>0.260516</td>\n",
              "      <td>0.199371</td>\n",
              "      <td>0.227394</td>\n",
              "      <td>0.678780</td>\n",
              "      <td>0.639147</td>\n",
              "      <td>0.483208</td>\n",
              "      <td>0.277878</td>\n",
              "      <td>0.590973</td>\n",
              "    </tr>\n",
              "    <tr>\n",
              "      <th>exame_18</th>\n",
              "      <td>0.194204</td>\n",
              "      <td>0.143293</td>\n",
              "      <td>0.228082</td>\n",
              "      <td>0.207660</td>\n",
              "      <td>0.248396</td>\n",
              "      <td>0.570517</td>\n",
              "      <td>0.691270</td>\n",
              "      <td>0.439167</td>\n",
              "      <td>0.342627</td>\n",
              "      <td>0.446630</td>\n",
              "      <td>...</td>\n",
              "      <td>0.186904</td>\n",
              "      <td>0.100241</td>\n",
              "      <td>0.226680</td>\n",
              "      <td>0.188353</td>\n",
              "      <td>0.168481</td>\n",
              "      <td>0.484858</td>\n",
              "      <td>0.662564</td>\n",
              "      <td>0.440472</td>\n",
              "      <td>0.197788</td>\n",
              "      <td>0.439329</td>\n",
              "    </tr>\n",
              "    <tr>\n",
              "      <th>exame_19</th>\n",
              "      <td>0.376169</td>\n",
              "      <td>0.163851</td>\n",
              "      <td>0.407217</td>\n",
              "      <td>0.372320</td>\n",
              "      <td>0.380676</td>\n",
              "      <td>0.642262</td>\n",
              "      <td>0.683260</td>\n",
              "      <td>0.615634</td>\n",
              "      <td>0.393298</td>\n",
              "      <td>0.341198</td>\n",
              "      <td>...</td>\n",
              "      <td>0.358127</td>\n",
              "      <td>0.086741</td>\n",
              "      <td>0.394999</td>\n",
              "      <td>0.342271</td>\n",
              "      <td>0.215351</td>\n",
              "      <td>0.452888</td>\n",
              "      <td>0.549592</td>\n",
              "      <td>0.602450</td>\n",
              "      <td>0.143116</td>\n",
              "      <td>0.310655</td>\n",
              "    </tr>\n",
              "    <tr>\n",
              "      <th>exame_20</th>\n",
              "      <td>-0.104321</td>\n",
              "      <td>0.009127</td>\n",
              "      <td>-0.081629</td>\n",
              "      <td>-0.072497</td>\n",
              "      <td>0.200774</td>\n",
              "      <td>0.229977</td>\n",
              "      <td>0.178009</td>\n",
              "      <td>0.095351</td>\n",
              "      <td>0.449137</td>\n",
              "      <td>0.345007</td>\n",
              "      <td>...</td>\n",
              "      <td>-0.128121</td>\n",
              "      <td>-0.077473</td>\n",
              "      <td>-0.103753</td>\n",
              "      <td>-0.110343</td>\n",
              "      <td>-0.012662</td>\n",
              "      <td>0.060255</td>\n",
              "      <td>0.037119</td>\n",
              "      <td>-0.030413</td>\n",
              "      <td>0.389402</td>\n",
              "      <td>0.078079</td>\n",
              "    </tr>\n",
              "    <tr>\n",
              "      <th>exame_21</th>\n",
              "      <td>-0.042641</td>\n",
              "      <td>0.054458</td>\n",
              "      <td>-0.005523</td>\n",
              "      <td>-0.019887</td>\n",
              "      <td>0.283607</td>\n",
              "      <td>0.507318</td>\n",
              "      <td>0.449301</td>\n",
              "      <td>0.257584</td>\n",
              "      <td>0.331786</td>\n",
              "      <td>0.688132</td>\n",
              "      <td>...</td>\n",
              "      <td>-0.037488</td>\n",
              "      <td>-0.003195</td>\n",
              "      <td>-0.001000</td>\n",
              "      <td>-0.022736</td>\n",
              "      <td>0.170568</td>\n",
              "      <td>0.390159</td>\n",
              "      <td>0.379975</td>\n",
              "      <td>0.215204</td>\n",
              "      <td>0.111094</td>\n",
              "      <td>0.591328</td>\n",
              "    </tr>\n",
              "    <tr>\n",
              "      <th>exame_22</th>\n",
              "      <td>0.969539</td>\n",
              "      <td>0.352573</td>\n",
              "      <td>0.969476</td>\n",
              "      <td>0.962746</td>\n",
              "      <td>0.213120</td>\n",
              "      <td>0.535315</td>\n",
              "      <td>0.688236</td>\n",
              "      <td>0.830318</td>\n",
              "      <td>0.185728</td>\n",
              "      <td>-0.253691</td>\n",
              "      <td>...</td>\n",
              "      <td>1.000000</td>\n",
              "      <td>0.359921</td>\n",
              "      <td>0.993708</td>\n",
              "      <td>0.984015</td>\n",
              "      <td>0.216574</td>\n",
              "      <td>0.475820</td>\n",
              "      <td>0.573975</td>\n",
              "      <td>0.787424</td>\n",
              "      <td>0.243529</td>\n",
              "      <td>0.093492</td>\n",
              "    </tr>\n",
              "    <tr>\n",
              "      <th>exame_23</th>\n",
              "      <td>0.297008</td>\n",
              "      <td>0.912045</td>\n",
              "      <td>0.303038</td>\n",
              "      <td>0.287489</td>\n",
              "      <td>0.036072</td>\n",
              "      <td>0.248133</td>\n",
              "      <td>0.299879</td>\n",
              "      <td>0.292752</td>\n",
              "      <td>0.090651</td>\n",
              "      <td>-0.051269</td>\n",
              "      <td>...</td>\n",
              "      <td>0.359921</td>\n",
              "      <td>1.000000</td>\n",
              "      <td>0.365098</td>\n",
              "      <td>0.345842</td>\n",
              "      <td>0.225429</td>\n",
              "      <td>0.360832</td>\n",
              "      <td>0.368366</td>\n",
              "      <td>0.359755</td>\n",
              "      <td>0.233027</td>\n",
              "      <td>0.219122</td>\n",
              "    </tr>\n",
              "    <tr>\n",
              "      <th>exame_24</th>\n",
              "      <td>0.965137</td>\n",
              "      <td>0.358040</td>\n",
              "      <td>0.970387</td>\n",
              "      <td>0.959120</td>\n",
              "      <td>0.238853</td>\n",
              "      <td>0.590210</td>\n",
              "      <td>0.729565</td>\n",
              "      <td>0.855923</td>\n",
              "      <td>0.219169</td>\n",
              "      <td>-0.205151</td>\n",
              "      <td>...</td>\n",
              "      <td>0.993708</td>\n",
              "      <td>0.365098</td>\n",
              "      <td>1.000000</td>\n",
              "      <td>0.977578</td>\n",
              "      <td>0.236775</td>\n",
              "      <td>0.529408</td>\n",
              "      <td>0.618344</td>\n",
              "      <td>0.816322</td>\n",
              "      <td>0.269493</td>\n",
              "      <td>0.138957</td>\n",
              "    </tr>\n",
              "    <tr>\n",
              "      <th>exame_25</th>\n",
              "      <td>0.941082</td>\n",
              "      <td>0.343546</td>\n",
              "      <td>0.941550</td>\n",
              "      <td>0.959213</td>\n",
              "      <td>0.206718</td>\n",
              "      <td>0.509604</td>\n",
              "      <td>0.675987</td>\n",
              "      <td>0.809630</td>\n",
              "      <td>0.177193</td>\n",
              "      <td>-0.231854</td>\n",
              "      <td>...</td>\n",
              "      <td>0.984015</td>\n",
              "      <td>0.345842</td>\n",
              "      <td>0.977578</td>\n",
              "      <td>1.000000</td>\n",
              "      <td>0.209145</td>\n",
              "      <td>0.438296</td>\n",
              "      <td>0.543331</td>\n",
              "      <td>0.747419</td>\n",
              "      <td>0.209146</td>\n",
              "      <td>0.079647</td>\n",
              "    </tr>\n",
              "    <tr>\n",
              "      <th>exame_26</th>\n",
              "      <td>0.119616</td>\n",
              "      <td>0.077503</td>\n",
              "      <td>0.150549</td>\n",
              "      <td>0.123523</td>\n",
              "      <td>0.805324</td>\n",
              "      <td>0.565541</td>\n",
              "      <td>0.448822</td>\n",
              "      <td>0.452753</td>\n",
              "      <td>0.426675</td>\n",
              "      <td>0.504942</td>\n",
              "      <td>...</td>\n",
              "      <td>0.216574</td>\n",
              "      <td>0.225429</td>\n",
              "      <td>0.236775</td>\n",
              "      <td>0.209145</td>\n",
              "      <td>1.000000</td>\n",
              "      <td>0.568187</td>\n",
              "      <td>0.518523</td>\n",
              "      <td>0.547691</td>\n",
              "      <td>0.493838</td>\n",
              "      <td>0.617624</td>\n",
              "    </tr>\n",
              "    <tr>\n",
              "      <th>exame_27</th>\n",
              "      <td>0.413463</td>\n",
              "      <td>0.277830</td>\n",
              "      <td>0.455774</td>\n",
              "      <td>0.390410</td>\n",
              "      <td>0.472468</td>\n",
              "      <td>0.865809</td>\n",
              "      <td>0.754968</td>\n",
              "      <td>0.667454</td>\n",
              "      <td>0.473200</td>\n",
              "      <td>0.458798</td>\n",
              "      <td>...</td>\n",
              "      <td>0.475820</td>\n",
              "      <td>0.360832</td>\n",
              "      <td>0.529408</td>\n",
              "      <td>0.438296</td>\n",
              "      <td>0.568187</td>\n",
              "      <td>1.000000</td>\n",
              "      <td>0.892261</td>\n",
              "      <td>0.801080</td>\n",
              "      <td>0.614441</td>\n",
              "      <td>0.810455</td>\n",
              "    </tr>\n",
              "    <tr>\n",
              "      <th>exame_28</th>\n",
              "      <td>0.526911</td>\n",
              "      <td>0.301025</td>\n",
              "      <td>0.563879</td>\n",
              "      <td>0.512606</td>\n",
              "      <td>0.434926</td>\n",
              "      <td>0.816275</td>\n",
              "      <td>0.884103</td>\n",
              "      <td>0.752399</td>\n",
              "      <td>0.433721</td>\n",
              "      <td>0.346234</td>\n",
              "      <td>...</td>\n",
              "      <td>0.573975</td>\n",
              "      <td>0.368366</td>\n",
              "      <td>0.618344</td>\n",
              "      <td>0.543331</td>\n",
              "      <td>0.518523</td>\n",
              "      <td>0.892261</td>\n",
              "      <td>1.000000</td>\n",
              "      <td>0.855434</td>\n",
              "      <td>0.532520</td>\n",
              "      <td>0.686511</td>\n",
              "    </tr>\n",
              "    <tr>\n",
              "      <th>exame_30</th>\n",
              "      <td>0.744214</td>\n",
              "      <td>0.295316</td>\n",
              "      <td>0.771241</td>\n",
              "      <td>0.722017</td>\n",
              "      <td>0.503053</td>\n",
              "      <td>0.815573</td>\n",
              "      <td>0.861323</td>\n",
              "      <td>0.910155</td>\n",
              "      <td>0.430297</td>\n",
              "      <td>0.175325</td>\n",
              "      <td>...</td>\n",
              "      <td>0.787424</td>\n",
              "      <td>0.359755</td>\n",
              "      <td>0.816322</td>\n",
              "      <td>0.747419</td>\n",
              "      <td>0.547691</td>\n",
              "      <td>0.801080</td>\n",
              "      <td>0.855434</td>\n",
              "      <td>1.000000</td>\n",
              "      <td>0.502528</td>\n",
              "      <td>0.511114</td>\n",
              "    </tr>\n",
              "    <tr>\n",
              "      <th>exame_31</th>\n",
              "      <td>0.163953</td>\n",
              "      <td>0.105008</td>\n",
              "      <td>0.189115</td>\n",
              "      <td>0.143570</td>\n",
              "      <td>0.394309</td>\n",
              "      <td>0.510223</td>\n",
              "      <td>0.409464</td>\n",
              "      <td>0.375744</td>\n",
              "      <td>0.699826</td>\n",
              "      <td>0.334019</td>\n",
              "      <td>...</td>\n",
              "      <td>0.243529</td>\n",
              "      <td>0.233027</td>\n",
              "      <td>0.269493</td>\n",
              "      <td>0.209146</td>\n",
              "      <td>0.493838</td>\n",
              "      <td>0.614441</td>\n",
              "      <td>0.532520</td>\n",
              "      <td>0.502528</td>\n",
              "      <td>1.000000</td>\n",
              "      <td>0.537848</td>\n",
              "    </tr>\n",
              "    <tr>\n",
              "      <th>exame_32</th>\n",
              "      <td>0.007066</td>\n",
              "      <td>0.119205</td>\n",
              "      <td>0.051019</td>\n",
              "      <td>0.003738</td>\n",
              "      <td>0.499316</td>\n",
              "      <td>0.687382</td>\n",
              "      <td>0.514930</td>\n",
              "      <td>0.368661</td>\n",
              "      <td>0.438413</td>\n",
              "      <td>0.767297</td>\n",
              "      <td>...</td>\n",
              "      <td>0.093492</td>\n",
              "      <td>0.219122</td>\n",
              "      <td>0.138957</td>\n",
              "      <td>0.079647</td>\n",
              "      <td>0.617624</td>\n",
              "      <td>0.810455</td>\n",
              "      <td>0.686511</td>\n",
              "      <td>0.511114</td>\n",
              "      <td>0.537848</td>\n",
              "      <td>1.000000</td>\n",
              "    </tr>\n",
              "  </tbody>\n",
              "</table>\n",
              "<p>30 rows × 30 columns</p>\n",
              "</div>\n",
              "      <button class=\"colab-df-convert\" onclick=\"convertToInteractive('df-8d791f6d-5605-42c5-950e-a93a07361df8')\"\n",
              "              title=\"Convert this dataframe to an interactive table.\"\n",
              "              style=\"display:none;\">\n",
              "        \n",
              "  <svg xmlns=\"http://www.w3.org/2000/svg\" height=\"24px\"viewBox=\"0 0 24 24\"\n",
              "       width=\"24px\">\n",
              "    <path d=\"M0 0h24v24H0V0z\" fill=\"none\"/>\n",
              "    <path d=\"M18.56 5.44l.94 2.06.94-2.06 2.06-.94-2.06-.94-.94-2.06-.94 2.06-2.06.94zm-11 1L8.5 8.5l.94-2.06 2.06-.94-2.06-.94L8.5 2.5l-.94 2.06-2.06.94zm10 10l.94 2.06.94-2.06 2.06-.94-2.06-.94-.94-2.06-.94 2.06-2.06.94z\"/><path d=\"M17.41 7.96l-1.37-1.37c-.4-.4-.92-.59-1.43-.59-.52 0-1.04.2-1.43.59L10.3 9.45l-7.72 7.72c-.78.78-.78 2.05 0 2.83L4 21.41c.39.39.9.59 1.41.59.51 0 1.02-.2 1.41-.59l7.78-7.78 2.81-2.81c.8-.78.8-2.07 0-2.86zM5.41 20L4 18.59l7.72-7.72 1.47 1.35L5.41 20z\"/>\n",
              "  </svg>\n",
              "      </button>\n",
              "      \n",
              "  <style>\n",
              "    .colab-df-container {\n",
              "      display:flex;\n",
              "      flex-wrap:wrap;\n",
              "      gap: 12px;\n",
              "    }\n",
              "\n",
              "    .colab-df-convert {\n",
              "      background-color: #E8F0FE;\n",
              "      border: none;\n",
              "      border-radius: 50%;\n",
              "      cursor: pointer;\n",
              "      display: none;\n",
              "      fill: #1967D2;\n",
              "      height: 32px;\n",
              "      padding: 0 0 0 0;\n",
              "      width: 32px;\n",
              "    }\n",
              "\n",
              "    .colab-df-convert:hover {\n",
              "      background-color: #E2EBFA;\n",
              "      box-shadow: 0px 1px 2px rgba(60, 64, 67, 0.3), 0px 1px 3px 1px rgba(60, 64, 67, 0.15);\n",
              "      fill: #174EA6;\n",
              "    }\n",
              "\n",
              "    [theme=dark] .colab-df-convert {\n",
              "      background-color: #3B4455;\n",
              "      fill: #D2E3FC;\n",
              "    }\n",
              "\n",
              "    [theme=dark] .colab-df-convert:hover {\n",
              "      background-color: #434B5C;\n",
              "      box-shadow: 0px 1px 3px 1px rgba(0, 0, 0, 0.15);\n",
              "      filter: drop-shadow(0px 1px 2px rgba(0, 0, 0, 0.3));\n",
              "      fill: #FFFFFF;\n",
              "    }\n",
              "  </style>\n",
              "\n",
              "      <script>\n",
              "        const buttonEl =\n",
              "          document.querySelector('#df-8d791f6d-5605-42c5-950e-a93a07361df8 button.colab-df-convert');\n",
              "        buttonEl.style.display =\n",
              "          google.colab.kernel.accessAllowed ? 'block' : 'none';\n",
              "\n",
              "        async function convertToInteractive(key) {\n",
              "          const element = document.querySelector('#df-8d791f6d-5605-42c5-950e-a93a07361df8');\n",
              "          const dataTable =\n",
              "            await google.colab.kernel.invokeFunction('convertToInteractive',\n",
              "                                                     [key], {});\n",
              "          if (!dataTable) return;\n",
              "\n",
              "          const docLinkHtml = 'Like what you see? Visit the ' +\n",
              "            '<a target=\"_blank\" href=https://colab.research.google.com/notebooks/data_table.ipynb>data table notebook</a>'\n",
              "            + ' to learn more about interactive tables.';\n",
              "          element.innerHTML = '';\n",
              "          dataTable['output_type'] = 'display_data';\n",
              "          await google.colab.output.renderOutput(dataTable, element);\n",
              "          const docLink = document.createElement('div');\n",
              "          docLink.innerHTML = docLinkHtml;\n",
              "          element.appendChild(docLink);\n",
              "        }\n",
              "      </script>\n",
              "    </div>\n",
              "  </div>\n",
              "  "
            ]
          },
          "metadata": {},
          "execution_count": 25
        }
      ]
    },
    {
      "cell_type": "markdown",
      "source": [
        "##Visualizando as correlações"
      ],
      "metadata": {
        "id": "HAqAM-L7DyYq"
      }
    },
    {
      "cell_type": "code",
      "source": [
        "fig = plt.figure(figsize=(18,7))\n",
        "eixo = fig.add_axes([0,0,1,1])\n",
        "sns.heatmap(df_correlacoes, cmap='RdYlGn_r', linewidths=0.5)\n",
        "eixo.set_title('Correlação entre os exames (V3)', fontsize = 15, pad = 10)"
      ],
      "metadata": {
        "colab": {
          "base_uri": "https://localhost:8080/",
          "height": 633
        },
        "id": "yCb14l1HB1-w",
        "outputId": "1399ea54-4d71-4bcf-d87d-94812f906e37"
      },
      "execution_count": 26,
      "outputs": [
        {
          "output_type": "execute_result",
          "data": {
            "text/plain": [
              "Text(0.5, 1.0, 'Correlação entre os exames (V3)')"
            ]
          },
          "metadata": {},
          "execution_count": 26
        },
        {
          "output_type": "display_data",
          "data": {
            "text/plain": [
              "<Figure size 1296x504 with 2 Axes>"
            ],
            "image/png": "[encoded data removed]"
          },
          "metadata": {
            "needs_background": "light"
          }
        }
      ]
    },
    {
      "cell_type": "markdown",
      "source": [
        "###Encontrando as variáveis altamente correlacionadas"
      ],
      "metadata": {
        "id": "5nlf-x_AErJI"
      }
    },
    {
      "cell_type": "code",
      "source": [
        "variaveis_correlacionadas_1 = df_correlacoes[df_correlacoes>0.99]\n",
        "variaveis_correlacionadas_1.sum()"
      ],
      "metadata": {
        "colab": {
          "base_uri": "https://localhost:8080/"
        },
        "id": "-J_B3j3sCE9J",
        "outputId": "a56c9b7c-4c69-44aa-f5bd-031c11154f4c"
      },
      "execution_count": 27,
      "outputs": [
        {
          "output_type": "execute_result",
          "data": {
            "text/plain": [
              "exame_1     1.997855\n",
              "exame_2     1.000000\n",
              "exame_3     1.997855\n",
              "exame_5     1.000000\n",
              "exame_6     1.000000\n",
              "exame_7     1.000000\n",
              "exame_8     1.000000\n",
              "exame_9     1.000000\n",
              "exame_10    1.000000\n",
              "exame_11    1.000000\n",
              "exame_12    1.000000\n",
              "exame_13    1.000000\n",
              "exame_14    1.000000\n",
              "exame_15    1.000000\n",
              "exame_16    1.000000\n",
              "exame_17    1.000000\n",
              "exame_18    1.000000\n",
              "exame_19    1.000000\n",
              "exame_20    1.000000\n",
              "exame_21    1.000000\n",
              "exame_22    1.993708\n",
              "exame_23    1.000000\n",
              "exame_24    1.993708\n",
              "exame_25    1.000000\n",
              "exame_26    1.000000\n",
              "exame_27    1.000000\n",
              "exame_28    1.000000\n",
              "exame_30    1.000000\n",
              "exame_31    1.000000\n",
              "exame_32    1.000000\n",
              "dtype: float64"
            ]
          },
          "metadata": {},
          "execution_count": 27
        }
      ]
    },
    {
      "cell_type": "code",
      "source": [
        "variaveis_correlacionadas_2 =  variaveis_correlacionadas_1[variaveis_correlacionadas_1.sum()>1].sum()\n",
        "variaveis_correlacionadas_2[variaveis_correlacionadas_2>1]"
      ],
      "metadata": {
        "colab": {
          "base_uri": "https://localhost:8080/"
        },
        "id": "Zwk40CsPE61g",
        "outputId": "8e9090fa-4d18-4830-d79d-6e035be4a7ac"
      },
      "execution_count": 28,
      "outputs": [
        {
          "output_type": "execute_result",
          "data": {
            "text/plain": [
              "exame_1     1.997855\n",
              "exame_3     1.997855\n",
              "exame_22    1.993708\n",
              "exame_24    1.993708\n",
              "dtype: float64"
            ]
          },
          "metadata": {},
          "execution_count": 28
        }
      ]
    },
    {
      "cell_type": "code",
      "source": [
        "valores_exames_v4 = valores_exames_v3.drop(columns = ['exame_3','exame_24'])\n",
        "valores_exames_v4"
      ],
      "metadata": {
        "colab": {
          "base_uri": "https://localhost:8080/",
          "height": 488
        },
        "id": "EFoog-M5FLvY",
        "outputId": "7bc4dc2c-698c-4e8e-d9ae-0f3146ae7624"
      },
      "execution_count": 29,
      "outputs": [
        {
          "output_type": "execute_result",
          "data": {
            "text/plain": [
              "      exame_1   exame_2   exame_5   exame_6   exame_7   exame_8   exame_9  \\\n",
              "0    1.097064 -2.073335  0.984375  1.568466  3.283515  2.652874  2.532475   \n",
              "1    1.829821 -0.353632  1.908708 -0.826962 -0.487072 -0.023846  0.548144   \n",
              "2    1.579888  0.456187  1.558884  0.942210  1.052926  1.363478  2.037231   \n",
              "3   -0.768909  0.253732 -0.764464  3.283553  3.402909  1.915897  1.451707   \n",
              "4    1.750297 -1.151816  1.826229  0.280372  0.539340  1.371011  1.428493   \n",
              "..        ...       ...       ...       ...       ...       ...       ...   \n",
              "564  2.110995  0.721473  2.343856  1.041842  0.219060  1.947285  2.320965   \n",
              "565  1.704854  2.085134  1.723842  0.102458 -0.017833  0.693043  1.263669   \n",
              "566  0.702284  2.045574  0.577953 -0.840484 -0.038680  0.046588  0.105777   \n",
              "567  1.838341  2.336457  1.735218  1.525767  3.272144  3.296944  2.658866   \n",
              "568 -1.808401  1.221792 -1.347789 -3.112085 -1.150752 -1.114873 -1.261820   \n",
              "\n",
              "     exame_10  exame_11  exame_12  ...  exame_21  exame_22  exame_23  \\\n",
              "0    2.217515  2.255747  2.489734  ...  0.907083  1.886690 -1.359293   \n",
              "1    0.001392 -0.868652  0.499255  ... -0.099444  1.805927 -0.369203   \n",
              "2    0.939685 -0.398008  1.228676  ...  0.293559  1.511870 -0.023974   \n",
              "3    2.867383  4.910919  0.326373  ...  2.047511 -0.281464  0.133984   \n",
              "4   -0.009560 -0.562450  1.270543  ...  0.499328  1.298575 -1.466770   \n",
              "..        ...       ...       ...  ...       ...       ...       ...   \n",
              "564 -0.312589 -0.931027  2.782080  ...  0.167980  1.901185  0.117700   \n",
              "565 -0.217664 -1.058611  1.300499  ... -0.490556  1.536720  2.047399   \n",
              "566 -0.809117 -0.895587  0.184892  ...  0.036727  0.561361  1.374854   \n",
              "567  2.137194  1.043695  1.157935  ...  0.904057  1.961239  2.237926   \n",
              "568 -0.820070 -0.561032 -0.070279  ... -0.382754 -1.410893  0.764190   \n",
              "\n",
              "     exame_25  exame_26  exame_27  exame_28  exame_30  exame_31  exame_32  \n",
              "0    2.001237  1.307686  2.616665  2.109526  2.296076  2.750622  1.937015  \n",
              "1    1.890489 -0.375612 -0.430444 -0.146749  1.087084 -0.243890  0.281190  \n",
              "2    1.456285  0.527407  1.082932  0.854974  1.955000  1.152255  0.201391  \n",
              "3   -0.550021  3.394275  3.893397  1.989588  2.175786  6.046041  4.935010  \n",
              "4    1.220724  0.220556 -0.313395  0.613179  0.729259 -0.868353 -0.397100  \n",
              "..        ...       ...       ...       ...       ...       ...       ...  \n",
              "564  2.015301  0.378365 -0.273318  0.664512  1.629151 -1.360158 -0.709091  \n",
              "565  1.494959 -0.691230 -0.394820  0.236573  0.733827 -0.531855 -0.973978  \n",
              "566  0.427906 -0.809587  0.350735  0.326767  0.414069 -1.104549 -0.318409  \n",
              "567  1.653171  1.430427  3.904848  3.197605  2.289985  1.919083  2.219635  \n",
              "568 -1.075813 -1.859019 -1.207552 -1.305831 -1.745063 -0.048138 -0.751207  \n",
              "\n",
              "[569 rows x 28 columns]"
            ],
            "text/html": [
              "\n",
              "  <div id=\"df-3fc9381f-1340-47a2-91cf-4ec28a0ff045\">\n",
              "    <div class=\"colab-df-container\">\n",
              "      <div>\n",
              "<style scoped>\n",
              "    .dataframe tbody tr th:only-of-type {\n",
              "        vertical-align: middle;\n",
              "    }\n",
              "\n",
              "    .dataframe tbody tr th {\n",
              "        vertical-align: top;\n",
              "    }\n",
              "\n",
              "    .dataframe thead th {\n",
              "        text-align: right;\n",
              "    }\n",
              "</style>\n",
              "<table border=\"1\" class=\"dataframe\">\n",
              "  <thead>\n",
              "    <tr style=\"text-align: right;\">\n",
              "      <th></th>\n",
              "      <th>exame_1</th>\n",
              "      <th>exame_2</th>\n",
              "      <th>exame_5</th>\n",
              "      <th>exame_6</th>\n",
              "      <th>exame_7</th>\n",
              "      <th>exame_8</th>\n",
              "      <th>exame_9</th>\n",
              "      <th>exame_10</th>\n",
              "      <th>exame_11</th>\n",
              "      <th>exame_12</th>\n",
              "      <th>...</th>\n",
              "      <th>exame_21</th>\n",
              "      <th>exame_22</th>\n",
              "      <th>exame_23</th>\n",
              "      <th>exame_25</th>\n",
              "      <th>exame_26</th>\n",
              "      <th>exame_27</th>\n",
              "      <th>exame_28</th>\n",
              "      <th>exame_30</th>\n",
              "      <th>exame_31</th>\n",
              "      <th>exame_32</th>\n",
              "    </tr>\n",
              "  </thead>\n",
              "  <tbody>\n",
              "    <tr>\n",
              "      <th>0</th>\n",
              "      <td>1.097064</td>\n",
              "      <td>-2.073335</td>\n",
              "      <td>0.984375</td>\n",
              "      <td>1.568466</td>\n",
              "      <td>3.283515</td>\n",
              "      <td>2.652874</td>\n",
              "      <td>2.532475</td>\n",
              "      <td>2.217515</td>\n",
              "      <td>2.255747</td>\n",
              "      <td>2.489734</td>\n",
              "      <td>...</td>\n",
              "      <td>0.907083</td>\n",
              "      <td>1.886690</td>\n",
              "      <td>-1.359293</td>\n",
              "      <td>2.001237</td>\n",
              "      <td>1.307686</td>\n",
              "      <td>2.616665</td>\n",
              "      <td>2.109526</td>\n",
              "      <td>2.296076</td>\n",
              "      <td>2.750622</td>\n",
              "      <td>1.937015</td>\n",
              "    </tr>\n",
              "    <tr>\n",
              "      <th>1</th>\n",
              "      <td>1.829821</td>\n",
              "      <td>-0.353632</td>\n",
              "      <td>1.908708</td>\n",
              "      <td>-0.826962</td>\n",
              "      <td>-0.487072</td>\n",
              "      <td>-0.023846</td>\n",
              "      <td>0.548144</td>\n",
              "      <td>0.001392</td>\n",
              "      <td>-0.868652</td>\n",
              "      <td>0.499255</td>\n",
              "      <td>...</td>\n",
              "      <td>-0.099444</td>\n",
              "      <td>1.805927</td>\n",
              "      <td>-0.369203</td>\n",
              "      <td>1.890489</td>\n",
              "      <td>-0.375612</td>\n",
              "      <td>-0.430444</td>\n",
              "      <td>-0.146749</td>\n",
              "      <td>1.087084</td>\n",
              "      <td>-0.243890</td>\n",
              "      <td>0.281190</td>\n",
              "    </tr>\n",
              "    <tr>\n",
              "      <th>2</th>\n",
              "      <td>1.579888</td>\n",
              "      <td>0.456187</td>\n",
              "      <td>1.558884</td>\n",
              "      <td>0.942210</td>\n",
              "      <td>1.052926</td>\n",
              "      <td>1.363478</td>\n",
              "      <td>2.037231</td>\n",
              "      <td>0.939685</td>\n",
              "      <td>-0.398008</td>\n",
              "      <td>1.228676</td>\n",
              "      <td>...</td>\n",
              "      <td>0.293559</td>\n",
              "      <td>1.511870</td>\n",
              "      <td>-0.023974</td>\n",
              "      <td>1.456285</td>\n",
              "      <td>0.527407</td>\n",
              "      <td>1.082932</td>\n",
              "      <td>0.854974</td>\n",
              "      <td>1.955000</td>\n",
              "      <td>1.152255</td>\n",
              "      <td>0.201391</td>\n",
              "    </tr>\n",
              "    <tr>\n",
              "      <th>3</th>\n",
              "      <td>-0.768909</td>\n",
              "      <td>0.253732</td>\n",
              "      <td>-0.764464</td>\n",
              "      <td>3.283553</td>\n",
              "      <td>3.402909</td>\n",
              "      <td>1.915897</td>\n",
              "      <td>1.451707</td>\n",
              "      <td>2.867383</td>\n",
              "      <td>4.910919</td>\n",
              "      <td>0.326373</td>\n",
              "      <td>...</td>\n",
              "      <td>2.047511</td>\n",
              "      <td>-0.281464</td>\n",
              "      <td>0.133984</td>\n",
              "      <td>-0.550021</td>\n",
              "      <td>3.394275</td>\n",
              "      <td>3.893397</td>\n",
              "      <td>1.989588</td>\n",
              "      <td>2.175786</td>\n",
              "      <td>6.046041</td>\n",
              "      <td>4.935010</td>\n",
              "    </tr>\n",
              "    <tr>\n",
              "      <th>4</th>\n",
              "      <td>1.750297</td>\n",
              "      <td>-1.151816</td>\n",
              "      <td>1.826229</td>\n",
              "      <td>0.280372</td>\n",
              "      <td>0.539340</td>\n",
              "      <td>1.371011</td>\n",
              "      <td>1.428493</td>\n",
              "      <td>-0.009560</td>\n",
              "      <td>-0.562450</td>\n",
              "      <td>1.270543</td>\n",
              "      <td>...</td>\n",
              "      <td>0.499328</td>\n",
              "      <td>1.298575</td>\n",
              "      <td>-1.466770</td>\n",
              "      <td>1.220724</td>\n",
              "      <td>0.220556</td>\n",
              "      <td>-0.313395</td>\n",
              "      <td>0.613179</td>\n",
              "      <td>0.729259</td>\n",
              "      <td>-0.868353</td>\n",
              "      <td>-0.397100</td>\n",
              "    </tr>\n",
              "    <tr>\n",
              "      <th>...</th>\n",
              "      <td>...</td>\n",
              "      <td>...</td>\n",
              "      <td>...</td>\n",
              "      <td>...</td>\n",
              "      <td>...</td>\n",
              "      <td>...</td>\n",
              "      <td>...</td>\n",
              "      <td>...</td>\n",
              "      <td>...</td>\n",
              "      <td>...</td>\n",
              "      <td>...</td>\n",
              "      <td>...</td>\n",
              "      <td>...</td>\n",
              "      <td>...</td>\n",
              "      <td>...</td>\n",
              "      <td>...</td>\n",
              "      <td>...</td>\n",
              "      <td>...</td>\n",
              "      <td>...</td>\n",
              "      <td>...</td>\n",
              "      <td>...</td>\n",
              "    </tr>\n",
              "    <tr>\n",
              "      <th>564</th>\n",
              "      <td>2.110995</td>\n",
              "      <td>0.721473</td>\n",
              "      <td>2.343856</td>\n",
              "      <td>1.041842</td>\n",
              "      <td>0.219060</td>\n",
              "      <td>1.947285</td>\n",
              "      <td>2.320965</td>\n",
              "      <td>-0.312589</td>\n",
              "      <td>-0.931027</td>\n",
              "      <td>2.782080</td>\n",
              "      <td>...</td>\n",
              "      <td>0.167980</td>\n",
              "      <td>1.901185</td>\n",
              "      <td>0.117700</td>\n",
              "      <td>2.015301</td>\n",
              "      <td>0.378365</td>\n",
              "      <td>-0.273318</td>\n",
              "      <td>0.664512</td>\n",
              "      <td>1.629151</td>\n",
              "      <td>-1.360158</td>\n",
              "      <td>-0.709091</td>\n",
              "    </tr>\n",
              "    <tr>\n",
              "      <th>565</th>\n",
              "      <td>1.704854</td>\n",
              "      <td>2.085134</td>\n",
              "      <td>1.723842</td>\n",
              "      <td>0.102458</td>\n",
              "      <td>-0.017833</td>\n",
              "      <td>0.693043</td>\n",
              "      <td>1.263669</td>\n",
              "      <td>-0.217664</td>\n",
              "      <td>-1.058611</td>\n",
              "      <td>1.300499</td>\n",
              "      <td>...</td>\n",
              "      <td>-0.490556</td>\n",
              "      <td>1.536720</td>\n",
              "      <td>2.047399</td>\n",
              "      <td>1.494959</td>\n",
              "      <td>-0.691230</td>\n",
              "      <td>-0.394820</td>\n",
              "      <td>0.236573</td>\n",
              "      <td>0.733827</td>\n",
              "      <td>-0.531855</td>\n",
              "      <td>-0.973978</td>\n",
              "    </tr>\n",
              "    <tr>\n",
              "      <th>566</th>\n",
              "      <td>0.702284</td>\n",
              "      <td>2.045574</td>\n",
              "      <td>0.577953</td>\n",
              "      <td>-0.840484</td>\n",
              "      <td>-0.038680</td>\n",
              "      <td>0.046588</td>\n",
              "      <td>0.105777</td>\n",
              "      <td>-0.809117</td>\n",
              "      <td>-0.895587</td>\n",
              "      <td>0.184892</td>\n",
              "      <td>...</td>\n",
              "      <td>0.036727</td>\n",
              "      <td>0.561361</td>\n",
              "      <td>1.374854</td>\n",
              "      <td>0.427906</td>\n",
              "      <td>-0.809587</td>\n",
              "      <td>0.350735</td>\n",
              "      <td>0.326767</td>\n",
              "      <td>0.414069</td>\n",
              "      <td>-1.104549</td>\n",
              "      <td>-0.318409</td>\n",
              "    </tr>\n",
              "    <tr>\n",
              "      <th>567</th>\n",
              "      <td>1.838341</td>\n",
              "      <td>2.336457</td>\n",
              "      <td>1.735218</td>\n",
              "      <td>1.525767</td>\n",
              "      <td>3.272144</td>\n",
              "      <td>3.296944</td>\n",
              "      <td>2.658866</td>\n",
              "      <td>2.137194</td>\n",
              "      <td>1.043695</td>\n",
              "      <td>1.157935</td>\n",
              "      <td>...</td>\n",
              "      <td>0.904057</td>\n",
              "      <td>1.961239</td>\n",
              "      <td>2.237926</td>\n",
              "      <td>1.653171</td>\n",
              "      <td>1.430427</td>\n",
              "      <td>3.904848</td>\n",
              "      <td>3.197605</td>\n",
              "      <td>2.289985</td>\n",
              "      <td>1.919083</td>\n",
              "      <td>2.219635</td>\n",
              "    </tr>\n",
              "    <tr>\n",
              "      <th>568</th>\n",
              "      <td>-1.808401</td>\n",
              "      <td>1.221792</td>\n",
              "      <td>-1.347789</td>\n",
              "      <td>-3.112085</td>\n",
              "      <td>-1.150752</td>\n",
              "      <td>-1.114873</td>\n",
              "      <td>-1.261820</td>\n",
              "      <td>-0.820070</td>\n",
              "      <td>-0.561032</td>\n",
              "      <td>-0.070279</td>\n",
              "      <td>...</td>\n",
              "      <td>-0.382754</td>\n",
              "      <td>-1.410893</td>\n",
              "      <td>0.764190</td>\n",
              "      <td>-1.075813</td>\n",
              "      <td>-1.859019</td>\n",
              "      <td>-1.207552</td>\n",
              "      <td>-1.305831</td>\n",
              "      <td>-1.745063</td>\n",
              "      <td>-0.048138</td>\n",
              "      <td>-0.751207</td>\n",
              "    </tr>\n",
              "  </tbody>\n",
              "</table>\n",
              "<p>569 rows × 28 columns</p>\n",
              "</div>\n",
              "      <button class=\"colab-df-convert\" onclick=\"convertToInteractive('df-3fc9381f-1340-47a2-91cf-4ec28a0ff045')\"\n",
              "              title=\"Convert this dataframe to an interactive table.\"\n",
              "              style=\"display:none;\">\n",
              "        \n",
              "  <svg xmlns=\"http://www.w3.org/2000/svg\" height=\"24px\"viewBox=\"0 0 24 24\"\n",
              "       width=\"24px\">\n",
              "    <path d=\"M0 0h24v24H0V0z\" fill=\"none\"/>\n",
              "    <path d=\"M18.56 5.44l.94 2.06.94-2.06 2.06-.94-2.06-.94-.94-2.06-.94 2.06-2.06.94zm-11 1L8.5 8.5l.94-2.06 2.06-.94-2.06-.94L8.5 2.5l-.94 2.06-2.06.94zm10 10l.94 2.06.94-2.06 2.06-.94-2.06-.94-.94-2.06-.94 2.06-2.06.94z\"/><path d=\"M17.41 7.96l-1.37-1.37c-.4-.4-.92-.59-1.43-.59-.52 0-1.04.2-1.43.59L10.3 9.45l-7.72 7.72c-.78.78-.78 2.05 0 2.83L4 21.41c.39.39.9.59 1.41.59.51 0 1.02-.2 1.41-.59l7.78-7.78 2.81-2.81c.8-.78.8-2.07 0-2.86zM5.41 20L4 18.59l7.72-7.72 1.47 1.35L5.41 20z\"/>\n",
              "  </svg>\n",
              "      </button>\n",
              "      \n",
              "  <style>\n",
              "    .colab-df-container {\n",
              "      display:flex;\n",
              "      flex-wrap:wrap;\n",
              "      gap: 12px;\n",
              "    }\n",
              "\n",
              "    .colab-df-convert {\n",
              "      background-color: #E8F0FE;\n",
              "      border: none;\n",
              "      border-radius: 50%;\n",
              "      cursor: pointer;\n",
              "      display: none;\n",
              "      fill: #1967D2;\n",
              "      height: 32px;\n",
              "      padding: 0 0 0 0;\n",
              "      width: 32px;\n",
              "    }\n",
              "\n",
              "    .colab-df-convert:hover {\n",
              "      background-color: #E2EBFA;\n",
              "      box-shadow: 0px 1px 2px rgba(60, 64, 67, 0.3), 0px 1px 3px 1px rgba(60, 64, 67, 0.15);\n",
              "      fill: #174EA6;\n",
              "    }\n",
              "\n",
              "    [theme=dark] .colab-df-convert {\n",
              "      background-color: #3B4455;\n",
              "      fill: #D2E3FC;\n",
              "    }\n",
              "\n",
              "    [theme=dark] .colab-df-convert:hover {\n",
              "      background-color: #434B5C;\n",
              "      box-shadow: 0px 1px 3px 1px rgba(0, 0, 0, 0.15);\n",
              "      filter: drop-shadow(0px 1px 2px rgba(0, 0, 0, 0.3));\n",
              "      fill: #FFFFFF;\n",
              "    }\n",
              "  </style>\n",
              "\n",
              "      <script>\n",
              "        const buttonEl =\n",
              "          document.querySelector('#df-3fc9381f-1340-47a2-91cf-4ec28a0ff045 button.colab-df-convert');\n",
              "        buttonEl.style.display =\n",
              "          google.colab.kernel.accessAllowed ? 'block' : 'none';\n",
              "\n",
              "        async function convertToInteractive(key) {\n",
              "          const element = document.querySelector('#df-3fc9381f-1340-47a2-91cf-4ec28a0ff045');\n",
              "          const dataTable =\n",
              "            await google.colab.kernel.invokeFunction('convertToInteractive',\n",
              "                                                     [key], {});\n",
              "          if (!dataTable) return;\n",
              "\n",
              "          const docLinkHtml = 'Like what you see? Visit the ' +\n",
              "            '<a target=\"_blank\" href=https://colab.research.google.com/notebooks/data_table.ipynb>data table notebook</a>'\n",
              "            + ' to learn more about interactive tables.';\n",
              "          element.innerHTML = '';\n",
              "          dataTable['output_type'] = 'display_data';\n",
              "          await google.colab.output.renderOutput(dataTable, element);\n",
              "          const docLink = document.createElement('div');\n",
              "          docLink.innerHTML = docLinkHtml;\n",
              "          element.appendChild(docLink);\n",
              "        }\n",
              "      </script>\n",
              "    </div>\n",
              "  </div>\n",
              "  "
            ]
          },
          "metadata": {},
          "execution_count": 29
        }
      ]
    },
    {
      "cell_type": "markdown",
      "source": [
        "##Medindo a acurácia do novo dataset"
      ],
      "metadata": {
        "id": "UfkrGoqwGq0s"
      }
    },
    {
      "cell_type": "markdown",
      "source": [
        "Versão 1"
      ],
      "metadata": {
        "id": "YwpOBd3bHBCe"
      }
    },
    {
      "cell_type": "code",
      "source": [
        "classificar(valores_exames_v1)"
      ],
      "metadata": {
        "colab": {
          "base_uri": "https://localhost:8080/"
        },
        "id": "hTtbs3r0HA5M",
        "outputId": "6059ee69-f06c-4a58-dc90-302f7b24f33a"
      },
      "execution_count": 30,
      "outputs": [
        {
          "output_type": "stream",
          "name": "stdout",
          "text": [
            "O modelo criado possui uma acurácia de: 97.661 %.\n"
          ]
        }
      ]
    },
    {
      "cell_type": "markdown",
      "source": [
        "Versão 2"
      ],
      "metadata": {
        "id": "S4ksbPFJHBxE"
      }
    },
    {
      "cell_type": "code",
      "source": [
        "classificar(valores_exames_v2)"
      ],
      "metadata": {
        "colab": {
          "base_uri": "https://localhost:8080/"
        },
        "id": "C6JugUVOG_ST",
        "outputId": "6e9be24a-96f0-4cf4-c1b7-64c485741b85"
      },
      "execution_count": 31,
      "outputs": [
        {
          "output_type": "stream",
          "name": "stdout",
          "text": [
            "O modelo criado possui uma acurácia de: 95.322 %.\n"
          ]
        }
      ]
    },
    {
      "cell_type": "markdown",
      "source": [
        "Versão 3"
      ],
      "metadata": {
        "id": "Rnoir0R3G_bQ"
      }
    },
    {
      "cell_type": "code",
      "source": [
        "classificar(valores_exames_v3)"
      ],
      "metadata": {
        "colab": {
          "base_uri": "https://localhost:8080/"
        },
        "id": "48jDf2NLG-0b",
        "outputId": "3071c55b-ff62-41bb-bc78-fa549e53e40b"
      },
      "execution_count": 32,
      "outputs": [
        {
          "output_type": "stream",
          "name": "stdout",
          "text": [
            "O modelo criado possui uma acurácia de: 98.83 %.\n"
          ]
        }
      ]
    },
    {
      "cell_type": "markdown",
      "source": [
        "Versão 4"
      ],
      "metadata": {
        "id": "r8o_sp4uG-t4"
      }
    },
    {
      "cell_type": "code",
      "source": [
        "classificar(valores_exames_v4)"
      ],
      "metadata": {
        "colab": {
          "base_uri": "https://localhost:8080/"
        },
        "id": "qz4l11h0F3t4",
        "outputId": "1671385f-596c-40aa-99ec-6bb046ab7f20"
      },
      "execution_count": 33,
      "outputs": [
        {
          "output_type": "stream",
          "name": "stdout",
          "text": [
            "O modelo criado possui uma acurácia de: 94.737 %.\n"
          ]
        }
      ]
    },
    {
      "cell_type": "markdown",
      "source": [
        "##Selecionando as melhores *features*"
      ],
      "metadata": {
        "id": "odyCXwoJIgPM"
      }
    },
    {
      "cell_type": "markdown",
      "source": [
        "###Importando as bibliotecas necessárias"
      ],
      "metadata": {
        "id": "Lmec0Td5I49i"
      }
    },
    {
      "cell_type": "code",
      "source": [
        "from sklearn.feature_selection import SelectKBest\n",
        "from sklearn.feature_selection import chi2"
      ],
      "metadata": {
        "id": "AJFXwTajGw0n"
      },
      "execution_count": 34,
      "outputs": []
    },
    {
      "cell_type": "markdown",
      "source": [
        "###Criando um modelo com apenas 5 features (k=5)"
      ],
      "metadata": {
        "id": "_B1E5g5zKj-g"
      }
    },
    {
      "cell_type": "code",
      "source": [
        "selecao = SelectKBest(chi2,k=5)"
      ],
      "metadata": {
        "id": "vxWNk1QTJCsg"
      },
      "execution_count": 35,
      "outputs": []
    },
    {
      "cell_type": "code",
      "source": [
        "SEED = 1234\n",
        "random.seed(SEED)\n",
        "\n",
        "valores_exames_v5 = valores_exames_v1.drop(columns = (['exame_4','exame_29','exame_3','exame_24']))\n",
        "treino_x, teste_x, treino_y, teste_y = train_test_split(valores_exames_v5, diagnostico, test_size = 0.3)\n",
        "selecao.fit(treino_x,treino_y)\n",
        "treino_kbest = selecao.transform(treino_x)\n",
        "teste_kbest = selecao.transform(teste_x)"
      ],
      "metadata": {
        "id": "ZMzhA_hRJodJ"
      },
      "execution_count": 36,
      "outputs": []
    },
    {
      "cell_type": "markdown",
      "source": [
        "###Treinando o modelo para a versão 5"
      ],
      "metadata": {
        "id": "9i25NTaRKxnI"
      }
    },
    {
      "cell_type": "code",
      "source": [
        "classificador = RandomForestClassifier(n_estimators = 100, random_state = 1234)\n",
        "classificador.fit(treino_kbest, treino_y)\n",
        "\n",
        "print('O modelo criado possui uma acurácia de:',round((classificador.score(teste_kbest, teste_y))*100,3),'%.')"
      ],
      "metadata": {
        "colab": {
          "base_uri": "https://localhost:8080/"
        },
        "id": "u7kWLsWRJ3Ev",
        "outputId": "a0fe1287-e4bc-4040-b19f-b6f3a21c6689"
      },
      "execution_count": 37,
      "outputs": [
        {
          "output_type": "stream",
          "name": "stdout",
          "text": [
            "O modelo criado possui uma acurácia de: 91.228 %.\n"
          ]
        }
      ]
    },
    {
      "cell_type": "markdown",
      "source": [
        "#5 - Matriz de confusão"
      ],
      "metadata": {
        "id": "IZMMho2fLz0V"
      }
    },
    {
      "cell_type": "markdown",
      "source": [
        "##Importando as bibliotecas necessárias"
      ],
      "metadata": {
        "id": "D-LVR5wfL5Rj"
      }
    },
    {
      "cell_type": "code",
      "source": [
        "from sklearn.metrics import confusion_matrix"
      ],
      "metadata": {
        "id": "0Ajd0lIQLRHf"
      },
      "execution_count": 38,
      "outputs": []
    },
    {
      "cell_type": "markdown",
      "source": [
        "##Criando a matriz"
      ],
      "metadata": {
        "id": "xCXelJisMPuH"
      }
    },
    {
      "cell_type": "code",
      "source": [
        "matriz_confusao = confusion_matrix(teste_y, classificador.predict(teste_kbest))"
      ],
      "metadata": {
        "id": "YtMOzmvlL-ti"
      },
      "execution_count": 39,
      "outputs": []
    },
    {
      "cell_type": "markdown",
      "source": [
        "##Visualizando a matriz"
      ],
      "metadata": {
        "id": "FzHsubnVMOzJ"
      }
    },
    {
      "cell_type": "code",
      "source": [
        "fig = plt.figure(figsize=(6,5))\n",
        "eixo = fig.add_axes([0,0,1,1])\n",
        "sns.set(font_scale = 1.2)\n",
        "sns.heatmap(matriz_confusao, cmap='RdYlGn_r', linewidths=0.5, annot = True, fmt = 'd').set(xlabel = 'Predição', ylabel = 'Real')\n",
        "eixo.set_title('Matriz confusão', fontsize = 15, pad = 10)"
      ],
      "metadata": {
        "colab": {
          "base_uri": "https://localhost:8080/",
          "height": 462
        },
        "id": "5Vu5Spp4MHud",
        "outputId": "20af40d4-f8cf-4bda-cd8e-66ba7381ffc8"
      },
      "execution_count": 40,
      "outputs": [
        {
          "output_type": "execute_result",
          "data": {
            "text/plain": [
              "Text(0.5, 1.0, 'Matriz confusão')"
            ]
          },
          "metadata": {},
          "execution_count": 40
        },
        {
          "output_type": "display_data",
          "data": {
            "text/plain": [
              "<Figure size 432x360 with 2 Axes>"
            ],
            "image/png": "[encoded data removed]"
          },
          "metadata": {
            "needs_background": "light"
          }
        }
      ]
    },
    {
      "cell_type": "markdown",
      "source": [
        "Sobre o gráfico:\n",
        "*   Eixo x → valores reais\n",
        "*   Eixo y → valores de predição\n",
        "*   Tipo de câncer benígno → 0\n",
        "*   Tipo de câncer malígno → 1"
      ],
      "metadata": {
        "id": "3uGAclEgNSs1"
      }
    },
    {
      "cell_type": "markdown",
      "source": [
        "Informações retiradas do gráfico:\n",
        "*   De 108 casos de câncer benígno (102 + 6), o modelo acerta 102 casos.\n",
        "*   De 63 casos de câncer malígno (9 + 54), o modelo acerta 54 casos.\n"
      ],
      "metadata": {
        "id": "xHEprYzsOaUh"
      }
    },
    {
      "cell_type": "markdown",
      "source": [
        "#6 - Recursive feature elimination (RFE)"
      ],
      "metadata": {
        "id": "1v857k4sO6o-"
      }
    },
    {
      "cell_type": "markdown",
      "source": [
        "##Importando as bibliotecas necessárias"
      ],
      "metadata": {
        "id": "pokkmWZjPDWK"
      }
    },
    {
      "cell_type": "code",
      "source": [
        "from sklearn.feature_selection import RFE"
      ],
      "metadata": {
        "id": "1J5o_SaEMWxY"
      },
      "execution_count": 41,
      "outputs": []
    },
    {
      "cell_type": "markdown",
      "source": [
        "##Criando um modelo com RFE"
      ],
      "metadata": {
        "id": "K5tfMTPdPM4c"
      }
    },
    {
      "cell_type": "code",
      "source": [
        "SEED = 1234\n",
        "random.seed(SEED)\n",
        "\n",
        "valores_exames_v5 = valores_exames_v1.drop(columns = (['exame_4','exame_29','exame_3','exame_24']))\n",
        "treino_x, teste_x, treino_y, teste_y = train_test_split(valores_exames_v5, diagnostico, test_size = 0.3)\n",
        "\n",
        "classificador = RandomForestClassifier(n_estimators = 100, random_state = 1234)\n",
        "classificador.fit(treino_x, treino_y)\n",
        "\n",
        "selecionador_rfe = RFE(estimator = classificador, n_features_to_select = 5, step = 1)\n",
        "\n",
        "selecionador_rfe.fit(treino_x,treino_y)\n",
        "treino_rfe = selecionador_rfe.transform(treino_x)\n",
        "teste_rfe = selecionador_rfe.transform(teste_x)\n",
        "\n",
        "classificador.fit(treino_rfe, treino_y)\n",
        "\n",
        "print('O modelo criado possui uma acurácia de:',round((classificador.score(teste_rfe, teste_y))*100,3),'%.')"
      ],
      "metadata": {
        "colab": {
          "base_uri": "https://localhost:8080/"
        },
        "id": "jbKsExfNPK00",
        "outputId": "814c4de2-abd8-46c7-ded4-c255f90e156f"
      },
      "execution_count": 42,
      "outputs": [
        {
          "output_type": "stream",
          "name": "stdout",
          "text": [
            "O modelo criado possui uma acurácia de: 95.322 %.\n"
          ]
        }
      ]
    },
    {
      "cell_type": "markdown",
      "source": [
        "##Visualizando a matriz de confusão"
      ],
      "metadata": {
        "id": "9uuWo3enQKf9"
      }
    },
    {
      "cell_type": "code",
      "source": [
        "matriz_confusao = confusion_matrix(teste_y, classificador.predict(teste_rfe))\n",
        "fig = plt.figure(figsize=(6,5))\n",
        "eixo = fig.add_axes([0,0,1,1])\n",
        "sns.set(font_scale = 1.2)\n",
        "sns.heatmap(matriz_confusao, cmap='RdYlGn_r', linewidths=0.5, annot = True, fmt = 'd').set(xlabel = 'Predição', ylabel = 'Real')\n",
        "eixo.set_title('Matriz confusão', fontsize = 15, pad = 10)"
      ],
      "metadata": {
        "colab": {
          "base_uri": "https://localhost:8080/",
          "height": 471
        },
        "id": "5CElD1neQKsM",
        "outputId": "89918e79-5da6-4da9-a6b0-189378c87893"
      },
      "execution_count": 43,
      "outputs": [
        {
          "output_type": "execute_result",
          "data": {
            "text/plain": [
              "Text(0.5, 1.0, 'Matriz confusão')"
            ]
          },
          "metadata": {},
          "execution_count": 43
        },
        {
          "output_type": "display_data",
          "data": {
            "text/plain": [
              "<Figure size 432x360 with 2 Axes>"
            ],
            "image/png": "[encoded data removed]"
          },
          "metadata": {}
        }
      ]
    },
    {
      "cell_type": "markdown",
      "source": [
        "Sobre o gráfico:\n",
        "*   Eixo x → valores reais\n",
        "*   Eixo y → valores de predição\n",
        "*   Tipo de câncer benígno → 0\n",
        "*   Tipo de câncer malígno → 1"
      ],
      "metadata": {
        "id": "zmfZIXxgRiQF"
      }
    },
    {
      "cell_type": "markdown",
      "source": [
        "Informações retiradas do gráfico:\n",
        "*   De 108 casos de câncer benígno (105 + 3), o modelo acerta 105 casos.\n",
        "*   De 63 casos de câncer malígno (5 + 58), o modelo acerta 58 casos.\n",
        "</BR>ALTERAR"
      ],
      "metadata": {
        "id": "xsGyyc85RlGn"
      }
    },
    {
      "cell_type": "markdown",
      "source": [
        "#7 - Recursive feature elimination with cross-validation (RFECV)"
      ],
      "metadata": {
        "id": "Tcn6dhlpR5p0"
      }
    },
    {
      "cell_type": "markdown",
      "source": [
        "##Importando as bibliotecas necessárias"
      ],
      "metadata": {
        "id": "4ng1EmMKSIhL"
      }
    },
    {
      "cell_type": "code",
      "source": [
        "from sklearn.feature_selection import RFECV"
      ],
      "metadata": {
        "id": "nzPnBsz7SMcN"
      },
      "execution_count": 44,
      "outputs": []
    },
    {
      "cell_type": "markdown",
      "source": [
        "##Criando um modelo com RFECV"
      ],
      "metadata": {
        "id": "Xiu96l6HSWBL"
      }
    },
    {
      "cell_type": "code",
      "source": [
        "SEED = 1234\n",
        "random.seed(SEED)\n",
        "\n",
        "valores_exames_v5 = valores_exames_v1.drop(columns = (['exame_4','exame_29','exame_3','exame_24']))\n",
        "treino_x, teste_x, treino_y, teste_y = train_test_split(valores_exames_v5, diagnostico, test_size = 0.3)\n",
        "\n",
        "classificador = RandomForestClassifier(n_estimators = 100, random_state = 1234)\n",
        "classificador.fit(treino_x, treino_y)\n",
        "\n",
        "selecionador_rfecv = RFECV(estimator = classificador, cv = 4, step = 1, scoring = 'accuracy')\n",
        "\n",
        "selecionador_rfecv.fit(treino_x,treino_y)\n",
        "treino_rfecv = selecionador_rfecv.transform(treino_x)\n",
        "teste_rfecv = selecionador_rfecv.transform(teste_x)\n",
        "\n",
        "classificador.fit(treino_rfecv, treino_y)\n",
        "\n",
        "print('O modelo criado possui uma acurácia de:',round((classificador.score(teste_rfecv, teste_y))*100,3),'%.')"
      ],
      "metadata": {
        "colab": {
          "base_uri": "https://localhost:8080/"
        },
        "id": "k0-X73dUQx4A",
        "outputId": "a40138aa-5ca5-4607-f4df-7ff8428a6668"
      },
      "execution_count": 45,
      "outputs": [
        {
          "output_type": "stream",
          "name": "stdout",
          "text": [
            "O modelo criado possui uma acurácia de: 95.322 %.\n"
          ]
        }
      ]
    },
    {
      "cell_type": "markdown",
      "source": [
        "##Visualizando a matriz confusão"
      ],
      "metadata": {
        "id": "7CvYz6ZgS5Pc"
      }
    },
    {
      "cell_type": "code",
      "source": [
        "matriz_confusao = confusion_matrix(teste_y, classificador.predict(teste_rfecv))\n",
        "fig = plt.figure(figsize=(6,5))\n",
        "eixo = fig.add_axes([0,0,1,1])\n",
        "sns.set(font_scale = 1.2)\n",
        "sns.heatmap(matriz_confusao, cmap='RdYlGn_r', linewidths=0.5, annot = True, fmt = 'd').set(xlabel = 'Predição', ylabel = 'Real')\n",
        "eixo.set_title('Matriz confusão', fontsize = 15, pad = 10)"
      ],
      "metadata": {
        "colab": {
          "base_uri": "https://localhost:8080/",
          "height": 471
        },
        "id": "sAwkVEp1Szz_",
        "outputId": "14368e79-02f0-408a-da81-37ec83d49208"
      },
      "execution_count": 46,
      "outputs": [
        {
          "output_type": "execute_result",
          "data": {
            "text/plain": [
              "Text(0.5, 1.0, 'Matriz confusão')"
            ]
          },
          "metadata": {},
          "execution_count": 46
        },
        {
          "output_type": "display_data",
          "data": {
            "text/plain": [
              "<Figure size 432x360 with 2 Axes>"
            ],
            "image/png": "[encoded data removed]"
          },
          "metadata": {}
        }
      ]
    },
    {
      "cell_type": "markdown",
      "source": [
        "Sobre o gráfico:\n",
        "*   Eixo x → valores reais\n",
        "*   Eixo y → valores de predição\n",
        "*   Tipo de câncer benígno → 0\n",
        "*   Tipo de câncer malígno → 1"
      ],
      "metadata": {
        "id": "y2puJhZblsPH"
      }
    },
    {
      "cell_type": "markdown",
      "source": [
        "Informações retiradas do gráfico:\n",
        "*   De 99 casos de câncer benígno (96 + 3), o modelo acerta 96 casos.\n",
        "*   De 72 casos de câncer malígno (5 + 67), o modelo acerta 67 casos.\n",
        "</BR>ALTERAR"
      ],
      "metadata": {
        "id": "C34viJ9Slucy"
      }
    },
    {
      "cell_type": "markdown",
      "source": [
        "##*Features* selecionadas"
      ],
      "metadata": {
        "id": "31CwmXHOfRSF"
      }
    },
    {
      "cell_type": "code",
      "source": [
        "print('Foram selecionadas {} features.'.format(selecionador_rfecv.n_features_))"
      ],
      "metadata": {
        "colab": {
          "base_uri": "https://localhost:8080/"
        },
        "id": "PZxK937geVsv",
        "outputId": "bef8f149-a036-41f8-bec7-32dd49e1ee1d"
      },
      "execution_count": 47,
      "outputs": [
        {
          "output_type": "stream",
          "name": "stdout",
          "text": [
            "Foram selecionadas 25 features.\n"
          ]
        }
      ]
    },
    {
      "cell_type": "code",
      "source": [
        "treino_x.columns[selecionador_rfecv.support_]"
      ],
      "metadata": {
        "colab": {
          "base_uri": "https://localhost:8080/"
        },
        "id": "O1OmK--Jfj5_",
        "outputId": "e54c7d60-0477-4b68-cc75-71fd69a9f932"
      },
      "execution_count": 48,
      "outputs": [
        {
          "output_type": "execute_result",
          "data": {
            "text/plain": [
              "Index(['exame_1', 'exame_2', 'exame_5', 'exame_6', 'exame_7', 'exame_8',\n",
              "       'exame_9', 'exame_11', 'exame_12', 'exame_13', 'exame_14', 'exame_15',\n",
              "       'exame_17', 'exame_18', 'exame_20', 'exame_21', 'exame_22', 'exame_23',\n",
              "       'exame_25', 'exame_26', 'exame_27', 'exame_28', 'exame_30', 'exame_31',\n",
              "       'exame_32'],\n",
              "      dtype='object')"
            ]
          },
          "metadata": {},
          "execution_count": 48
        }
      ]
    },
    {
      "cell_type": "markdown",
      "source": [
        "##Visualizando as *features*"
      ],
      "metadata": {
        "id": "GaAsHigbf8iR"
      }
    },
    {
      "cell_type": "code",
      "source": [
        "fig = plt.figure(figsize=(18,7))\n",
        "plt.xlabel('Número de exames')\n",
        "plt.ylabel('Acurácia')\n",
        "plt.plot(selecionador_rfecv.grid_scores_)\n",
        "plt.show()"
      ],
      "metadata": {
        "colab": {
          "base_uri": "https://localhost:8080/",
          "height": 508
        },
        "id": "ipP4nTCnfsYG",
        "outputId": "f7a8d477-d2b0-4c80-d59b-849411276cb9"
      },
      "execution_count": 49,
      "outputs": [
        {
          "output_type": "stream",
          "name": "stderr",
          "text": [
            "/usr/local/lib/python3.8/dist-packages/sklearn/utils/deprecation.py:103: FutureWarning: The `grid_scores_` attribute is deprecated in version 1.0 in favor of `cv_results_` and will be removed in version 1.2.\n",
            "  warnings.warn(msg, category=FutureWarning)\n"
          ]
        },
        {
          "output_type": "display_data",
          "data": {
            "text/plain": [
              "<Figure size 1296x504 with 1 Axes>"
            ],
            "image/png": "[encoded data removed]"
          },
          "metadata": {}
        }
      ]
    },
    {
      "cell_type": "markdown",
      "source": [
        "#8 - Principal component analysis (PCA)"
      ],
      "metadata": {
        "id": "tF7kDarmh5oF"
      }
    },
    {
      "cell_type": "markdown",
      "source": [
        "##Importando as bibliotecas necessárias"
      ],
      "metadata": {
        "id": "jw4bXPWuiAYb"
      }
    },
    {
      "cell_type": "code",
      "source": [
        "from sklearn.decomposition import PCA"
      ],
      "metadata": {
        "id": "S7bEoE78hKdH"
      },
      "execution_count": 50,
      "outputs": []
    },
    {
      "cell_type": "markdown",
      "source": [
        "##Preparando dados para o modelo"
      ],
      "metadata": {
        "id": "TwWctkYXiUQ5"
      }
    },
    {
      "cell_type": "code",
      "source": [
        "pca = PCA(n_components = 2)\n",
        "valores_exames_v6 = pca.fit_transform(valores_exames_v4)"
      ],
      "metadata": {
        "id": "mGLHZTFEiEf_"
      },
      "execution_count": 51,
      "outputs": []
    },
    {
      "cell_type": "markdown",
      "source": [
        "##Visualizando os dados obtidos"
      ],
      "metadata": {
        "id": "T3u5b_sbiW66"
      }
    },
    {
      "cell_type": "code",
      "source": [
        "plt.figure(figsize=(14,8))\n",
        "sns.scatterplot(x = valores_exames_v6[:,0], y = valores_exames_v6[:,1], hue = diagnostico)"
      ],
      "metadata": {
        "colab": {
          "base_uri": "https://localhost:8080/",
          "height": 506
        },
        "id": "n9iN1sMgiIE5",
        "outputId": "ed2f45e2-7e74-46bf-ba05-eefcb85cdc1c"
      },
      "execution_count": 52,
      "outputs": [
        {
          "output_type": "execute_result",
          "data": {
            "text/plain": [
              "<matplotlib.axes._subplots.AxesSubplot at 0x7fd9b226f280>"
            ]
          },
          "metadata": {},
          "execution_count": 52
        },
        {
          "output_type": "display_data",
          "data": {
            "text/plain": [
              "<Figure size 1008x576 with 1 Axes>"
            ],
            "image/png": "[encoded data removed]"
          },
          "metadata": {}
        }
      ]
    },
    {
      "cell_type": "markdown",
      "source": [
        "#9 - T-distributed Stochastic Neighbor Embedding (TSNE)"
      ],
      "metadata": {
        "id": "PguPoVWsjJDM"
      }
    },
    {
      "cell_type": "markdown",
      "source": [
        "##Importando as bibliotecas necessárias"
      ],
      "metadata": {
        "id": "BC6GutMFjSlX"
      }
    },
    {
      "cell_type": "code",
      "source": [
        "from sklearn.manifold import TSNE"
      ],
      "metadata": {
        "id": "pQWFdgTJi0MX"
      },
      "execution_count": 53,
      "outputs": []
    },
    {
      "cell_type": "markdown",
      "source": [
        "##Preparando os dados para o modelo"
      ],
      "metadata": {
        "id": "DEJMP2Cgjn6S"
      }
    },
    {
      "cell_type": "code",
      "source": [
        "tsne = TSNE(n_components = 2)\n",
        "valores_exames_v7 = tsne.fit_transform(valores_exames_v4)"
      ],
      "metadata": {
        "id": "pxW4pD8kjnje",
        "colab": {
          "base_uri": "https://localhost:8080/"
        },
        "outputId": "5864b4b7-8f02-4e72-87ea-487b8de7becb"
      },
      "execution_count": 54,
      "outputs": [
        {
          "output_type": "stream",
          "name": "stderr",
          "text": [
            "/usr/local/lib/python3.8/dist-packages/sklearn/manifold/_t_sne.py:780: FutureWarning: The default initialization in TSNE will change from 'random' to 'pca' in 1.2.\n",
            "  warnings.warn(\n",
            "/usr/local/lib/python3.8/dist-packages/sklearn/manifold/_t_sne.py:790: FutureWarning: The default learning rate in TSNE will change from 200.0 to 'auto' in 1.2.\n",
            "  warnings.warn(\n"
          ]
        }
      ]
    },
    {
      "cell_type": "markdown",
      "source": [
        "##Visualizando os dados obtidos"
      ],
      "metadata": {
        "id": "Zc7LUtjCjwjJ"
      }
    },
    {
      "cell_type": "code",
      "source": [
        "plt.figure(figsize=(14,8))\n",
        "sns.scatterplot(x = valores_exames_v7[:,0], y = valores_exames_v7[:,1], hue = diagnostico)"
      ],
      "metadata": {
        "colab": {
          "base_uri": "https://localhost:8080/",
          "height": 506
        },
        "id": "W_W1EfWhk1zv",
        "outputId": "02dad576-17ec-4fc3-b03c-9b40a716fe71"
      },
      "execution_count": 55,
      "outputs": [
        {
          "output_type": "execute_result",
          "data": {
            "text/plain": [
              "<matplotlib.axes._subplots.AxesSubplot at 0x7fd9b8b7d400>"
            ]
          },
          "metadata": {},
          "execution_count": 55
        },
        {
          "output_type": "display_data",
          "data": {
            "text/plain": [
              "<Figure size 1008x576 with 1 Axes>"
            ],
            "image/png": "[encoded data removed]"
          },
          "metadata": {}
        }
      ]
    }
  ]
}